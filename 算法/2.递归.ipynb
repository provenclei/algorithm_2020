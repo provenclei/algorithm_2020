{
 "cells": [
  {
   "cell_type": "markdown",
   "metadata": {},
   "source": [
    "## Recursion 递归\n",
    "\n",
    "By the end of this chapter, you should be able to answer these questions.\n",
    "\n",
    "- How does Python determine the meaning of an identifier in a program?\n",
    "- What happens to the run-time stack when a function is called?\n",
    "- What happens to the run-time stack when a function returns from a call?\n",
    "- What are the two important parts to a recursive function and which part comes first?\n",
    "- Exactly what happens when a return statement is executed?\n",
    "- Why should we write recursive functions?\n",
    "- What are the computational complexities of various recursive functions?"
   ]
  },
  {
   "cell_type": "markdown",
   "metadata": {},
   "source": [
    "### <a id='Ex1'>Ex.1 Simple Example 求和 </a>"
   ]
  },
  {
   "cell_type": "code",
   "execution_count": 1,
   "metadata": {
    "ExecuteTime": {
     "end_time": "2020-04-04T02:25:28.298254Z",
     "start_time": "2020-04-04T02:25:28.277232Z"
    }
   },
   "outputs": [
    {
     "data": {
      "text/plain": [
       "55"
      ]
     },
     "execution_count": 1,
     "metadata": {},
     "output_type": "execute_result"
    }
   ],
   "source": [
    "n = 10\n",
    "result = sum(range(n+1))\n",
    "result"
   ]
  },
  {
   "cell_type": "code",
   "execution_count": 2,
   "metadata": {
    "ExecuteTime": {
     "end_time": "2020-04-04T02:25:56.094950Z",
     "start_time": "2020-04-04T02:25:56.085907Z"
    }
   },
   "outputs": [
    {
     "data": {
      "text/plain": [
       "55"
      ]
     },
     "execution_count": 2,
     "metadata": {},
     "output_type": "execute_result"
    }
   ],
   "source": [
    "def mysum(n):\n",
    "    result = 0\n",
    "    for i in range(n+1):\n",
    "        result += i\n",
    "    return result\n",
    "\n",
    "result = mysum(10)\n",
    "result"
   ]
  },
  {
   "cell_type": "code",
   "execution_count": 3,
   "metadata": {
    "ExecuteTime": {
     "end_time": "2020-04-04T02:28:00.168092Z",
     "start_time": "2020-04-04T02:28:00.155597Z"
    }
   },
   "outputs": [
    {
     "data": {
      "text/plain": [
       "55"
      ]
     },
     "execution_count": 3,
     "metadata": {},
     "output_type": "execute_result"
    }
   ],
   "source": [
    "def mysum_recursive(n):\n",
    "    if n == 0:\n",
    "        return 0\n",
    "    return n + mysum_recursive(n - 1)\n",
    "\n",
    "result = mysum_recursive(10)\n",
    "result"
   ]
  },
  {
   "cell_type": "markdown",
   "metadata": {},
   "source": [
    "### <a id='Ex2'>Ex.2 阶乘 </a>"
   ]
  },
  {
   "cell_type": "code",
   "execution_count": 5,
   "metadata": {
    "ExecuteTime": {
     "end_time": "2020-04-04T02:38:01.559905Z",
     "start_time": "2020-04-04T02:38:01.537843Z"
    }
   },
   "outputs": [
    {
     "data": {
      "text/plain": [
       "120"
      ]
     },
     "execution_count": 5,
     "metadata": {},
     "output_type": "execute_result"
    }
   ],
   "source": [
    "def factorial(n):\n",
    "    result = 1\n",
    "    for i in range(1, n+1):\n",
    "        result *= i\n",
    "    return result\n",
    "factorial(5)"
   ]
  },
  {
   "cell_type": "code",
   "execution_count": 6,
   "metadata": {
    "ExecuteTime": {
     "end_time": "2020-04-04T02:39:08.126056Z",
     "start_time": "2020-04-04T02:39:08.115638Z"
    }
   },
   "outputs": [
    {
     "data": {
      "text/plain": [
       "120"
      ]
     },
     "execution_count": 6,
     "metadata": {},
     "output_type": "execute_result"
    }
   ],
   "source": [
    "def factorial_recursive(n):\n",
    "    if n == 1:\n",
    "        return 1\n",
    "    return n * factorial_recursive(n-1)\n",
    "factorial_recursive(5)"
   ]
  },
  {
   "cell_type": "markdown",
   "metadata": {},
   "source": [
    "### <a id='Ex3'>Ex.3 斐波那契数列 </a>"
   ]
  },
  {
   "cell_type": "code",
   "execution_count": 22,
   "metadata": {
    "ExecuteTime": {
     "end_time": "2020-04-04T03:10:45.997415Z",
     "start_time": "2020-04-04T03:10:45.987749Z"
    }
   },
   "outputs": [],
   "source": [
    "def fibonacci1(n):\n",
    "    assert n >= 0\n",
    "    a, b = 0, 1\n",
    "    for i in range(n):\n",
    "        a, b = b, a + b\n",
    "    return a\n",
    "\n",
    "def fibonacci2(n):\n",
    "    assert(n>=0)\n",
    "    if (n <= 2): \n",
    "        return 1\n",
    "    return fibonacci2(n-1) + fibonacci2(n-2)\n",
    "\n",
    "def fibonacci3(n):\n",
    "    assert(n>=0)\n",
    "    if (n <= 1): \n",
    "        return (n, 0)\n",
    "    (a, b) = fibonacci3(n-1)\n",
    "    return (a + b, a)"
   ]
  },
  {
   "cell_type": "code",
   "execution_count": 9,
   "metadata": {
    "ExecuteTime": {
     "end_time": "2020-04-04T02:44:26.307737Z",
     "start_time": "2020-04-04T02:44:26.284303Z"
    }
   },
   "outputs": [
    {
     "name": "stdout",
     "output_type": "stream",
     "text": [
      "CPU times: user 5 µs, sys: 1 µs, total: 6 µs\n",
      "Wall time: 7.87 µs\n"
     ]
    },
    {
     "data": {
      "text/plain": [
       "55"
      ]
     },
     "execution_count": 9,
     "metadata": {},
     "output_type": "execute_result"
    }
   ],
   "source": [
    "time fibonacci1(10)"
   ]
  },
  {
   "cell_type": "code",
   "execution_count": 12,
   "metadata": {
    "ExecuteTime": {
     "end_time": "2020-04-04T03:07:03.729137Z",
     "start_time": "2020-04-04T03:06:29.841264Z"
    }
   },
   "outputs": [
    {
     "name": "stdout",
     "output_type": "stream",
     "text": [
      "CPU times: user 32.8 s, sys: 252 ms, total: 33.1 s\n",
      "Wall time: 33.9 s\n"
     ]
    },
    {
     "data": {
      "text/plain": [
       "102334155"
      ]
     },
     "execution_count": 12,
     "metadata": {},
     "output_type": "execute_result"
    }
   ],
   "source": [
    "time fibonacci2(40)"
   ]
  },
  {
   "cell_type": "code",
   "execution_count": 23,
   "metadata": {
    "ExecuteTime": {
     "end_time": "2020-04-04T03:10:48.161173Z",
     "start_time": "2020-04-04T03:10:48.149422Z"
    }
   },
   "outputs": [
    {
     "name": "stdout",
     "output_type": "stream",
     "text": [
      "CPU times: user 20 µs, sys: 1e+03 ns, total: 21 µs\n",
      "Wall time: 23.8 µs\n"
     ]
    },
    {
     "data": {
      "text/plain": [
       "(102334155, 63245986)"
      ]
     },
     "execution_count": 23,
     "metadata": {},
     "output_type": "execute_result"
    }
   ],
   "source": [
    "time fibonacci3(40)"
   ]
  },
  {
   "cell_type": "markdown",
   "metadata": {},
   "source": [
    "### <a id='Ex4'>Ex.4 打印尺子 </a>\n",
    "\n",
    "1\n",
    "\n",
    "1 2 1\n",
    "\n",
    "1 2 1 3 1 2 1\n",
    "\n",
    "1 2 1 3 1 2 1 4 1 2 1 3 1 2 1"
   ]
  },
  {
   "cell_type": "code",
   "execution_count": 49,
   "metadata": {
    "ExecuteTime": {
     "end_time": "2020-04-04T08:14:44.310319Z",
     "start_time": "2020-04-04T08:14:44.302182Z"
    }
   },
   "outputs": [],
   "source": [
    "def ruler_bad(n):\n",
    "    assert(n>=0)\n",
    "    if n == 1:\n",
    "        return '1'\n",
    "    return ruler_bad(n - 1) + \" \" + str(n) + \" \" + ruler_bad(n - 1)\n",
    "\n",
    "def ruler1(n):\n",
    "    assert n >= 0\n",
    "    if n == 1:\n",
    "        return '1'\n",
    "    t = ruler_bad(n - 1)\n",
    "    return t + \" \" + str(n) + \" \" + t\n",
    "\n",
    "def ruler2(n):\n",
    "    result = \"\"\n",
    "    for i in range(1, n+1):\n",
    "        result = result + \" \" + str(i) + \" \" + result\n",
    "    return result"
   ]
  },
  {
   "cell_type": "code",
   "execution_count": 58,
   "metadata": {
    "ExecuteTime": {
     "end_time": "2020-04-04T08:17:37.937140Z",
     "start_time": "2020-04-04T08:17:37.927759Z"
    }
   },
   "outputs": [
    {
     "name": "stdout",
     "output_type": "stream",
     "text": [
      "CPU times: user 7 µs, sys: 0 ns, total: 7 µs\n",
      "Wall time: 10 µs\n"
     ]
    },
    {
     "data": {
      "text/plain": [
       "'1 2 1 3 1 2 1'"
      ]
     },
     "execution_count": 58,
     "metadata": {},
     "output_type": "execute_result"
    }
   ],
   "source": [
    "time ruler_bad(3)"
   ]
  },
  {
   "cell_type": "code",
   "execution_count": 59,
   "metadata": {
    "ExecuteTime": {
     "end_time": "2020-04-04T08:17:42.373902Z",
     "start_time": "2020-04-04T08:17:42.364013Z"
    }
   },
   "outputs": [
    {
     "name": "stdout",
     "output_type": "stream",
     "text": [
      "CPU times: user 8 µs, sys: 0 ns, total: 8 µs\n",
      "Wall time: 10 µs\n"
     ]
    },
    {
     "data": {
      "text/plain": [
       "'1 2 1 3 1 2 1'"
      ]
     },
     "execution_count": 59,
     "metadata": {},
     "output_type": "execute_result"
    }
   ],
   "source": [
    "time ruler1(3)"
   ]
  },
  {
   "cell_type": "code",
   "execution_count": 60,
   "metadata": {
    "ExecuteTime": {
     "end_time": "2020-04-04T08:17:45.616819Z",
     "start_time": "2020-04-04T08:17:45.606946Z"
    }
   },
   "outputs": [
    {
     "name": "stdout",
     "output_type": "stream",
     "text": [
      "CPU times: user 7 µs, sys: 1e+03 ns, total: 8 µs\n",
      "Wall time: 9.78 µs\n"
     ]
    },
    {
     "data": {
      "text/plain": [
       "' 1  2  1  3  1  2  1 '"
      ]
     },
     "execution_count": 60,
     "metadata": {},
     "output_type": "execute_result"
    }
   ],
   "source": [
    "time ruler2(3)"
   ]
  },
  {
   "cell_type": "code",
   "execution_count": 75,
   "metadata": {
    "ExecuteTime": {
     "end_time": "2020-04-04T08:59:16.466315Z",
     "start_time": "2020-04-04T08:59:16.457965Z"
    }
   },
   "outputs": [],
   "source": [
    "def draw_line(major_len, tick_label = \"\"):\n",
    "    line = \"-\" * major_len\n",
    "    if tick_label:\n",
    "        line += ' ' + tick_label\n",
    "    print(line)\n",
    "\n",
    "def draw_interval(center_length):\n",
    "    if center_length > 0:\n",
    "        draw_interval(center_length - 1)\n",
    "        draw_line(center_length)\n",
    "        draw_interval(center_length - 1)\n",
    "\n",
    "def draw_rule(num_inches, major_length):\n",
    "    draw_line(major_length, '0')\n",
    "    for i in range(1, num_inches + 1):\n",
    "        draw_interval(major_length - 1)\n",
    "        draw_line(major_length, str(i))"
   ]
  },
  {
   "cell_type": "code",
   "execution_count": 67,
   "metadata": {
    "ExecuteTime": {
     "end_time": "2020-04-04T08:53:48.564380Z",
     "start_time": "2020-04-04T08:53:48.558737Z"
    }
   },
   "outputs": [
    {
     "name": "stdout",
     "output_type": "stream",
     "text": [
      "----- *\n"
     ]
    }
   ],
   "source": [
    "draw_line(5, \"*\")"
   ]
  },
  {
   "cell_type": "code",
   "execution_count": 70,
   "metadata": {
    "ExecuteTime": {
     "end_time": "2020-04-04T08:56:47.075789Z",
     "start_time": "2020-04-04T08:56:47.069950Z"
    }
   },
   "outputs": [
    {
     "name": "stdout",
     "output_type": "stream",
     "text": [
      "-\n",
      "--\n",
      "-\n",
      "---\n",
      "-\n",
      "--\n",
      "-\n"
     ]
    }
   ],
   "source": [
    "draw_interval(3)"
   ]
  },
  {
   "cell_type": "code",
   "execution_count": 83,
   "metadata": {
    "ExecuteTime": {
     "end_time": "2020-04-04T09:03:35.322305Z",
     "start_time": "2020-04-04T09:03:35.314954Z"
    }
   },
   "outputs": [
    {
     "name": "stdout",
     "output_type": "stream",
     "text": [
      "--- 0\n",
      "-\n",
      "--\n",
      "-\n",
      "--- 1\n",
      "-\n",
      "--\n",
      "-\n",
      "--- 2\n",
      "-\n",
      "--\n",
      "-\n",
      "--- 3\n",
      "-\n",
      "--\n",
      "-\n",
      "--- 4\n",
      "-\n",
      "--\n",
      "-\n",
      "--- 5\n"
     ]
    }
   ],
   "source": [
    "draw_rule(5,3)"
   ]
  },
  {
   "cell_type": "markdown",
   "metadata": {},
   "source": [
    "### <a id='Ex5'>Ex.5 数学表达式  </a>\n",
    "\n",
    "Given two integers a ≤ b, write a program  that transforms a into b by a minimum sequence of increment (add 1) and unfolding (multiply by 2) operations.\n",
    "\n",
    "For example, \t\n",
    "\n",
    "23 = ((5 * 2 + 1) * 2 + 1) \n",
    "\n",
    "113 = ((((11 + 1) + 1) + 1) * 2 * 2 * 2 + 1)"
   ]
  },
  {
   "cell_type": "code",
   "execution_count": 88,
   "metadata": {
    "ExecuteTime": {
     "end_time": "2020-04-04T14:28:44.912440Z",
     "start_time": "2020-04-04T14:28:44.905850Z"
    }
   },
   "outputs": [],
   "source": [
    "def intSeq(a, b):\n",
    "    if a == b:\n",
    "        return str(a)\n",
    "    # b 为奇数\n",
    "    if b % 2 == 1:\n",
    "        return \"(\" + intSeq(a, b - 1) + \"+1)\"\n",
    "    if b < 2 * a:\n",
    "        return \"(\" + intSeq(a, b - 1) + \"+1)\"\n",
    "    return intSeq(a, b/2) + \"*2\"\n"
   ]
  },
  {
   "cell_type": "code",
   "execution_count": 89,
   "metadata": {
    "ExecuteTime": {
     "end_time": "2020-04-04T14:28:48.799390Z",
     "start_time": "2020-04-04T14:28:48.792775Z"
    }
   },
   "outputs": [
    {
     "name": "stdout",
     "output_type": "stream",
     "text": [
      "101 = (((5+1)*2*2+1)*2*2+1)\n"
     ]
    }
   ],
   "source": [
    "a = 5;\n",
    "b = 101;\n",
    "print(str(b) + \" = \" + intSeq(a, b))"
   ]
  },
  {
   "cell_type": "markdown",
   "metadata": {},
   "source": [
    "### <a id='Ex6'>Ex.6 格雷码  </a>\n",
    "如果将 2^n 个二进制串组成一个序列，使得将序列按圆形排列时一对相邻的二进制串只有一位不同，则称这些序列为n阶格雷码或简称格雷码(Gray code)。\n",
    "\n",
    "| code | subset | move |\n",
    "| ---- | ------ | ---- |\n",
    "| 000 | empty |  |\n",
    "| 001 | 1 | enter 1 |\n",
    "| 011 | 2 1 | enter 2 |\n",
    "| 010 | 2 | exit 1 |\n",
    "| 110 | 3 2 | enter 3 |\n",
    "| 111 | 3 2 1 | enter 1 |\n",
    "| 101 | 3 1 | exit 2 |\n",
    "| 100 | 3 | exit 1 |"
   ]
  },
  {
   "cell_type": "code",
   "execution_count": 98,
   "metadata": {
    "ExecuteTime": {
     "end_time": "2020-04-04T15:39:28.381841Z",
     "start_time": "2020-04-04T15:39:28.374969Z"
    }
   },
   "outputs": [],
   "source": [
    "def moves(n):\n",
    "    if n == 0:\n",
    "        return\n",
    "    moves(n - 1)\n",
    "    print(n)\n",
    "    moves(n - 1)"
   ]
  },
  {
   "cell_type": "code",
   "execution_count": 99,
   "metadata": {
    "ExecuteTime": {
     "end_time": "2020-04-04T15:39:39.544303Z",
     "start_time": "2020-04-04T15:39:39.536585Z"
    }
   },
   "outputs": [
    {
     "name": "stdout",
     "output_type": "stream",
     "text": [
      "1\n",
      "2\n",
      "1\n",
      "3\n",
      "1\n",
      "2\n",
      "1\n"
     ]
    }
   ],
   "source": [
    "moves(3)"
   ]
  },
  {
   "cell_type": "code",
   "execution_count": 100,
   "metadata": {
    "ExecuteTime": {
     "end_time": "2020-04-04T15:40:31.741717Z",
     "start_time": "2020-04-04T15:40:31.736209Z"
    }
   },
   "outputs": [],
   "source": [
    "def moves_ins(n, forward):\n",
    "    if n == 0: \n",
    "        return\n",
    "    moves_ins(n-1, True)\n",
    "    print(\"enter \", n) if forward else print(\"exit  \", n)\n",
    "    moves_ins(n-1, False)"
   ]
  },
  {
   "cell_type": "code",
   "execution_count": 101,
   "metadata": {
    "ExecuteTime": {
     "end_time": "2020-04-04T15:40:42.192630Z",
     "start_time": "2020-04-04T15:40:42.186008Z"
    }
   },
   "outputs": [
    {
     "name": "stdout",
     "output_type": "stream",
     "text": [
      "enter  1\n",
      "enter  2\n",
      "exit   1\n",
      "enter  3\n",
      "enter  1\n",
      "exit   2\n",
      "exit   1\n"
     ]
    }
   ],
   "source": [
    "moves_ins(3, True)"
   ]
  },
  {
   "cell_type": "markdown",
   "metadata": {},
   "source": [
    "### <a id='Ex7'>Ex.7 汉诺塔  </a>\n",
    "<img src=\"../images/ch02/hanoi.jpg\" width=\"350\"/>"
   ]
  },
  {
   "cell_type": "code",
   "execution_count": 95,
   "metadata": {
    "ExecuteTime": {
     "end_time": "2020-04-04T15:09:32.648854Z",
     "start_time": "2020-04-04T15:09:32.642254Z"
    }
   },
   "outputs": [],
   "source": [
    "def hanoi(n, start, by, end):\n",
    "    if (n == 1):\n",
    "        print(\"Move from \" + start + \" to \" + end)\n",
    "    else:\n",
    "        hanoi(n-1, start, end, by)\n",
    "        hanoi(1, start, by, end)\n",
    "        hanoi(n-1, by, start, end)"
   ]
  },
  {
   "cell_type": "code",
   "execution_count": 97,
   "metadata": {
    "ExecuteTime": {
     "end_time": "2020-04-04T15:09:49.568777Z",
     "start_time": "2020-04-04T15:09:49.561362Z"
    }
   },
   "outputs": [
    {
     "name": "stdout",
     "output_type": "stream",
     "text": [
      "Move from START to END\n",
      "Move from START to BY\n",
      "Move from END to BY\n",
      "Move from START to END\n",
      "Move from BY to START\n",
      "Move from BY to END\n",
      "Move from START to END\n"
     ]
    }
   ],
   "source": [
    "n = 3\n",
    "hanoi(n, \"START\", \"BY\", \"END\")"
   ]
  },
  {
   "cell_type": "markdown",
   "metadata": {},
   "source": [
    "### Ex.8 Subset I\n",
    "\n",
    "Given a set of distinct integers, nums, return all possible subsets\n",
    "\n",
    "思路一：\n",
    "依次遍历给定的数组[a,b,c]\n",
    "\n",
    "|      a      |       b        |         c           |    result    |\n",
    "| :---------: | :------------: | :-----------------: | :----------: |\n",
    "|   {} -> {}  |                |                     |      {}      |\n",
    "| {}+a -> {a} |                |                     |      {a}     |\n",
    "|             |    {}+b -> {b} |                     |      {b}     |\n",
    "|             | {a}+b -> {a,b} |                     |     {a,b}    |\n",
    "|             |                |      {}+c ->{c}     |      {c}     |\n",
    "|             |                |    {a}+c ->{a,c}    |     {a,c}    |\n",
    "|             |                |    {b}+c ->{b,c}    |     {b,c}    |\n",
    "|             |                |   {a,b}+c ->{a,b,c} |    {a,b,c}   |\n",
    "\n"
   ]
  },
  {
   "cell_type": "code",
   "execution_count": 19,
   "metadata": {
    "ExecuteTime": {
     "end_time": "2020-04-05T06:45:28.772006Z",
     "start_time": "2020-04-05T06:45:28.764939Z"
    }
   },
   "outputs": [],
   "source": [
    "def subsets(nums):\n",
    "    # result中只有一个空集\n",
    "    result = [[]]\n",
    "    for num in nums:\n",
    "        # result要进行copy，因为循环中result.append(x),边添加边遍历会造成死循环\n",
    "        for element in result[:]:\n",
    "            # element进行copy，因为原始的集合中添加1，会消灭空集\n",
    "            x = element[:]\n",
    "            x.append(num)\n",
    "            result.append(x)\n",
    "    return result\n",
    "\n",
    "def subsets_wrong(nums):\n",
    "    result = [[]]\n",
    "    for num in nums:\n",
    "        for element in result[:]:\n",
    "            print(\"before: \" , element)\n",
    "            element.append(num)\n",
    "            print(\"after: \" , element)\n",
    "            result.append(element)\n",
    "    return result"
   ]
  },
  {
   "cell_type": "code",
   "execution_count": 20,
   "metadata": {
    "ExecuteTime": {
     "end_time": "2020-04-05T06:45:50.927616Z",
     "start_time": "2020-04-05T06:45:50.920355Z"
    }
   },
   "outputs": [
    {
     "name": "stdout",
     "output_type": "stream",
     "text": [
      "[[], [1], [2], [1, 2], [3], [1, 3], [2, 3], [1, 2, 3]]\n",
      "before:  []\n",
      "after:  [1]\n",
      "before:  [1]\n",
      "after:  [1, 2]\n",
      "before:  [1, 2]\n",
      "after:  [1, 2, 2]\n",
      "before:  [1, 2, 2]\n",
      "after:  [1, 2, 2, 3]\n",
      "before:  [1, 2, 2, 3]\n",
      "after:  [1, 2, 2, 3, 3]\n",
      "before:  [1, 2, 2, 3, 3]\n",
      "after:  [1, 2, 2, 3, 3, 3]\n",
      "before:  [1, 2, 2, 3, 3, 3]\n",
      "after:  [1, 2, 2, 3, 3, 3, 3]\n",
      "[[1, 2, 2, 3, 3, 3, 3], [1, 2, 2, 3, 3, 3, 3], [1, 2, 2, 3, 3, 3, 3], [1, 2, 2, 3, 3, 3, 3], [1, 2, 2, 3, 3, 3, 3], [1, 2, 2, 3, 3, 3, 3], [1, 2, 2, 3, 3, 3, 3], [1, 2, 2, 3, 3, 3, 3]]\n"
     ]
    }
   ],
   "source": [
    "nums = [1, 2, 3]\n",
    "print(subsets(nums))\n",
    "print(subsets_wrong(nums))"
   ]
  },
  {
   "cell_type": "markdown",
   "metadata": {},
   "source": [
    "<img src=\"../images/ch03/subset1.png\" width=\"440\"/>"
   ]
  },
  {
   "cell_type": "code",
   "execution_count": 22,
   "metadata": {
    "ExecuteTime": {
     "end_time": "2020-04-05T06:47:46.623494Z",
     "start_time": "2020-04-05T06:47:46.616720Z"
    }
   },
   "outputs": [
    {
     "name": "stdout",
     "output_type": "stream",
     "text": [
      "[[], [1], [2], [1, 2], [3], [1, 3], [2, 3], [1, 2, 3]]\n"
     ]
    }
   ],
   "source": [
    "def subsets_2(nums):\n",
    "    res = [[]]\n",
    "    for num in nums: \n",
    "        res += [ i + [num] for i in res]\n",
    "    return res\n",
    "\n",
    "nums = [1, 2, 3]\n",
    "print(subsets_2(nums))"
   ]
  },
  {
   "cell_type": "code",
   "execution_count": 24,
   "metadata": {
    "ExecuteTime": {
     "end_time": "2020-04-05T06:49:29.980230Z",
     "start_time": "2020-04-05T06:49:29.968509Z"
    }
   },
   "outputs": [
    {
     "data": {
      "text/plain": [
       "[[], [1]]"
      ]
     },
     "execution_count": 24,
     "metadata": {},
     "output_type": "execute_result"
    }
   ],
   "source": [
    "res = [[]]\n",
    "res += [[1]]\n",
    "res"
   ]
  },
  {
   "cell_type": "markdown",
   "metadata": {},
   "source": [
    "思路二：\n",
    "#### 回溯法\n",
    "\n",
    "So, while solving a problem using recursion, we break the given problem into smaller ones. Let's say we have a problem  and we divided it into three smaller problems ,  and . Now it may be the case that the solution to  does not depend on all the three subproblems, in fact we don't even know on which one it depends.\n",
    "\n",
    "Let's take a situation. Suppose you are standing in front of three tunnels, one of which is having a bag of gold at its end, but you don't know which one. So you'll try all three. First go in tunnel , if that is not the one, then come out of it, and go into tunnel , and again if that is not the one, come out of it and go into tunnel . So basically in backtracking we attempt solving a subproblem, and if we don't reach the desired solution, then <font color=\"red\">**undo**</font> whatever we did for solving that subproblem, and try solving another subproblem.\n",
    "\n",
    "<img src=\"../images/ch03/subset2.png\" width=\"440\"/>\n",
    "\n",
    ">回溯的两个特点：\n",
    "1. 记录访问过的点\n",
    "2. 返回原始时间点时，状态必须返回原始状态\n",
    "\n",
    "回溯解题步骤：\n",
    "```python\n",
    "Pick a starting point.\n",
    "while(Problem is not solved)\n",
    "    For each path from the starting point.\n",
    "        check if selected path is safe, if yes select it\n",
    "        and make recursive call to rest of the problem\n",
    "        before which undo the current move.\n",
    "    End For\n",
    "If none of the move works out, return false, NO SOLUTON.\n",
    "```"
   ]
  },
  {
   "cell_type": "code",
   "execution_count": 27,
   "metadata": {
    "ExecuteTime": {
     "end_time": "2020-04-05T08:57:00.921994Z",
     "start_time": "2020-04-05T08:57:00.914522Z"
    }
   },
   "outputs": [
    {
     "name": "stdout",
     "output_type": "stream",
     "text": [
      "[[], ['a'], ['a', 'b'], ['a', 'b', 'c'], ['a', 'c'], ['b'], ['b', 'c'], ['c']]\n"
     ]
    }
   ],
   "source": [
    "def subsets_recursive(nums):\n",
    "    lst = []\n",
    "    result = []\n",
    "    subsets_recursive_helper(result, lst, nums, 0)\n",
    "    return result\n",
    "\n",
    "def subsets_recursive_helperet(result, lst, nums, pos):\n",
    "    result.append(lst[:])\n",
    "    for i in range(pos, len(nums)):\n",
    "        lst.append(nums[i])\n",
    "        subsets_recursive_helperet(result, lstm, nums, pos+1)\n",
    "        lst.pop()\n",
    "\n",
    "nums = ['a', 'b', 'c']\n",
    "print(subsets_recursive(nums))"
   ]
  },
  {
   "cell_type": "markdown",
   "metadata": {},
   "source": [
    "### Ex.9 Subset II\n",
    "Given a collection of integers that might contain duplicates, nums, return all possible subsets."
   ]
  },
  {
   "cell_type": "code",
   "execution_count": 49,
   "metadata": {
    "ExecuteTime": {
     "end_time": "2020-04-05T13:08:34.191158Z",
     "start_time": "2020-04-05T13:08:34.182624Z"
    }
   },
   "outputs": [],
   "source": [
    "# 方法一\n",
    "def subsets2(nums):\n",
    "    res = [[]]\n",
    "    for num in nums:\n",
    "        res += [i + [num] for i in res if i + [num] not in res]\n",
    "    return res\n",
    "\n",
    "# 方法二：回溯\n",
    "def subsets_recursive2(nums):\n",
    "    lst = []\n",
    "    result = []\n",
    "    nums.sort()\n",
    "    print(nums)\n",
    "    subsets2_recursive_helper(result, lst, nums, 0);\n",
    "    return result;\n",
    "\n",
    "def subsets2_recursive_helper(result, lst, nums, pos):\n",
    "    result.append(lst[:])\n",
    "    for i in range(pos, len(nums)):\n",
    "        # 剪枝\n",
    "        if (i != pos and nums[i] == nums[i-1]):\n",
    "            continue\n",
    "        lst.append(nums[i])\n",
    "        subsets2_recursive_helper(result, lst, nums, i+1)\n",
    "        lst.pop()"
   ]
  },
  {
   "cell_type": "code",
   "execution_count": 52,
   "metadata": {
    "ExecuteTime": {
     "end_time": "2020-04-05T13:09:29.182831Z",
     "start_time": "2020-04-05T13:09:29.177119Z"
    }
   },
   "outputs": [
    {
     "name": "stdout",
     "output_type": "stream",
     "text": [
      "[[], [1], [2], [1, 2], [3], [1, 3], [2, 3], [1, 2, 3]]\n",
      "[1, 2, 3]\n",
      "[[], [1], [1, 2], [1, 2, 3], [1, 3], [2], [2, 3], [3]]\n"
     ]
    }
   ],
   "source": [
    "nums = [1, 2, 3]\n",
    "print(subsets2(nums))\n",
    "print(subsets_recursive2(nums))"
   ]
  },
  {
   "cell_type": "code",
   "execution_count": 53,
   "metadata": {
    "ExecuteTime": {
     "end_time": "2020-04-05T13:09:30.907080Z",
     "start_time": "2020-04-05T13:09:30.902188Z"
    }
   },
   "outputs": [
    {
     "name": "stdout",
     "output_type": "stream",
     "text": [
      "[[], [1], [2], [1, 2], [2, 2], [1, 2, 2]]\n",
      "[1, 2, 2]\n",
      "[[], [1], [1, 2], [1, 2, 2], [2], [2, 2]]\n"
     ]
    }
   ],
   "source": [
    "nums = [1,2,2]\n",
    "print(subsets2(nums))\n",
    "print(subsets_recursive2(nums))"
   ]
  },
  {
   "cell_type": "markdown",
   "metadata": {
    "ExecuteTime": {
     "end_time": "2020-04-05T00:57:37.858932Z",
     "start_time": "2020-04-05T00:57:37.853227Z"
    }
   },
   "source": [
    "### Ex.10 Permutation\n",
    "\n",
    "排列组合\n",
    "\n",
    "Given abc:\n",
    "\n",
    "Output: bca cba cab acb bac abc"
   ]
  },
  {
   "cell_type": "markdown",
   "metadata": {},
   "source": [
    "方法一：\n",
    "<img src=\"../images/ch03/permutation.gif\" width=\"640\"/>"
   ]
  },
  {
   "cell_type": "code",
   "execution_count": 60,
   "metadata": {
    "ExecuteTime": {
     "end_time": "2020-04-05T14:19:28.697861Z",
     "start_time": "2020-04-05T14:19:28.692436Z"
    }
   },
   "outputs": [],
   "source": [
    "def perm(result, nums):\n",
    "    if len(nums) == 0:\n",
    "        print(result)\n",
    "    for i in range(len(nums)):\n",
    "        # nums[0:i]+nums[i+1:]表示nums中除了第 i 个元素以外的列表\n",
    "        perm(result+str(nums[i]), nums[0:i]+nums[i+1:])"
   ]
  },
  {
   "cell_type": "code",
   "execution_count": 62,
   "metadata": {
    "ExecuteTime": {
     "end_time": "2020-04-05T14:19:35.025607Z",
     "start_time": "2020-04-05T14:19:35.019498Z"
    }
   },
   "outputs": [
    {
     "name": "stdout",
     "output_type": "stream",
     "text": [
      "abc\n",
      "acb\n",
      "bac\n",
      "bca\n",
      "cab\n",
      "cba\n"
     ]
    }
   ],
   "source": [
    "nums = ['a', 'b', 'c']\n",
    "# nums = [1, 2, 3]\n",
    "perm('', nums)"
   ]
  },
  {
   "cell_type": "code",
   "execution_count": 63,
   "metadata": {
    "ExecuteTime": {
     "end_time": "2020-04-05T14:33:24.130149Z",
     "start_time": "2020-04-05T14:33:24.122509Z"
    }
   },
   "outputs": [
    {
     "name": "stdout",
     "output_type": "stream",
     "text": [
      "[[3, 2, 1], [2, 3, 1], [2, 1, 3], [3, 1, 2], [1, 3, 2], [1, 2, 3]]\n"
     ]
    }
   ],
   "source": [
    "def permute(nums):\n",
    "    perms = [[]]   \n",
    "    for n in nums:\n",
    "        new_perms = []\n",
    "        for perm in perms:\n",
    "            for i in range(len(perm)+1):   \n",
    "                new_perms.append(perm[:i] + [n] + perm[i:])   ###insert n\n",
    "        perms = new_perms\n",
    "    return perms    \n",
    "\n",
    "nums = [1, 2, 3]\n",
    "print(permute(nums))"
   ]
  },
  {
   "cell_type": "markdown",
   "metadata": {},
   "source": [
    "### Ex.11 Permutation Unique "
   ]
  },
  {
   "cell_type": "code",
   "execution_count": 65,
   "metadata": {
    "ExecuteTime": {
     "end_time": "2020-04-05T14:37:21.492121Z",
     "start_time": "2020-04-05T14:37:21.484745Z"
    }
   },
   "outputs": [],
   "source": [
    "def permUnique(result, nums):\n",
    "    nums.sort()\n",
    "    if (len(nums)==0):\n",
    "        print(result)\n",
    "    for i in range(len(nums)):\n",
    "        # 剪枝\n",
    "        if (i != 0 and nums[i] == nums[i-1]):\n",
    "            continue;\n",
    "        permUnique(result+str(nums[i]), nums[0:i]+nums[i+1:])"
   ]
  },
  {
   "cell_type": "code",
   "execution_count": 66,
   "metadata": {
    "ExecuteTime": {
     "end_time": "2020-04-05T14:37:23.082623Z",
     "start_time": "2020-04-05T14:37:23.076414Z"
    }
   },
   "outputs": [
    {
     "name": "stdout",
     "output_type": "stream",
     "text": [
      "123\n",
      "132\n",
      "213\n",
      "231\n",
      "312\n",
      "321\n"
     ]
    }
   ],
   "source": [
    "nums = [1, 2, 3]\n",
    "permUnique('', nums)  "
   ]
  },
  {
   "cell_type": "code",
   "execution_count": 67,
   "metadata": {
    "ExecuteTime": {
     "end_time": "2020-04-05T14:37:24.734285Z",
     "start_time": "2020-04-05T14:37:24.727376Z"
    }
   },
   "outputs": [
    {
     "name": "stdout",
     "output_type": "stream",
     "text": [
      "233\n",
      "323\n",
      "332\n"
     ]
    }
   ],
   "source": [
    "nums = [3, 2, 3]\n",
    "permUnique('', nums)  "
   ]
  },
  {
   "cell_type": "code",
   "execution_count": 68,
   "metadata": {
    "ExecuteTime": {
     "end_time": "2020-04-05T14:38:15.865127Z",
     "start_time": "2020-04-05T14:38:15.856066Z"
    }
   },
   "outputs": [
    {
     "name": "stdout",
     "output_type": "stream",
     "text": [
      "[[3, 2, 1], [2, 3, 1], [2, 1, 3], [3, 1, 2], [1, 3, 2], [1, 2, 3]]\n",
      "[[3, 2, 2], [2, 3, 2], [2, 2, 3]]\n"
     ]
    }
   ],
   "source": [
    "def permuteUnique(nums):\n",
    "    ans = [[]]\n",
    "    for n in nums:\n",
    "        new_ans = []\n",
    "        for l in ans:\n",
    "            for i in range(len(l)+1):\n",
    "                new_ans.append(l[:i]+[n]+l[i:])\n",
    "                if i<len(l) and l[i]==n: break              #handles duplication\n",
    "        ans = new_ans\n",
    "    return ans\n",
    "\n",
    "\n",
    "nums = [1, 2, 3]\n",
    "print(permuteUnique(nums))\n",
    "\n",
    "nums = [2, 2, 3]\n",
    "print(permuteUnique(nums))"
   ]
  },
  {
   "cell_type": "markdown",
   "metadata": {},
   "source": [
    "### Ex.12 Permutation of Size K\n",
    "\n",
    "takes two parameters n and k, and prints out all P(n, k) = n! / (n-k)! permutations that contain exactly k of the n elements.\n",
    "when k = 2 and n = 4\n",
    "\n",
    "ab ac ad ba bc bd ca cb cd da db dc"
   ]
  },
  {
   "cell_type": "code",
   "execution_count": 69,
   "metadata": {
    "ExecuteTime": {
     "end_time": "2020-04-05T14:40:52.715758Z",
     "start_time": "2020-04-05T14:40:52.709979Z"
    }
   },
   "outputs": [],
   "source": [
    "def permSizeK(result, nums, k):\n",
    "    if k == 0:\n",
    "        print(result)\n",
    "    for i in range(len(nums)):\n",
    "        permSizeK(result+str(nums[i]), nums[0:i] + nums[i+1:], k - 1)"
   ]
  },
  {
   "cell_type": "code",
   "execution_count": 70,
   "metadata": {
    "ExecuteTime": {
     "end_time": "2020-04-05T14:40:58.719894Z",
     "start_time": "2020-04-05T14:40:58.711419Z"
    }
   },
   "outputs": [
    {
     "name": "stdout",
     "output_type": "stream",
     "text": [
      "12\n",
      "13\n",
      "14\n",
      "21\n",
      "23\n",
      "24\n",
      "31\n",
      "32\n",
      "34\n",
      "41\n",
      "42\n",
      "43\n"
     ]
    }
   ],
   "source": [
    "nums = [1, 2, 3, 4]\n",
    "k = 2\n",
    "permSizeK('', nums, k)"
   ]
  },
  {
   "cell_type": "markdown",
   "metadata": {},
   "source": [
    "### Ex.13 Letter Case Permutation \n",
    "\n",
    "Enumerate all uppercase/lowercase permutation for any letter specified in input\n",
    "\n",
    "For example, \t\n",
    "\n",
    "word = “medium-one”\n",
    "\n",
    "Rule = “io”\n",
    "\n",
    "solutions = [“medium-one”, “medIum-one”, “medium-One”, “medIum-One”]"
   ]
  },
  {
   "cell_type": "code",
   "execution_count": 3,
   "metadata": {
    "ExecuteTime": {
     "end_time": "2020-04-06T00:05:21.357905Z",
     "start_time": "2020-04-06T00:05:21.350149Z"
    }
   },
   "outputs": [],
   "source": [
    "results = set()\n",
    "keys = set()\n",
    "\n",
    "def permLetter(word, rule):\n",
    "    rule = rule.lower()\n",
    "    for c in rule:\n",
    "        keys.add(c)\n",
    "    permHelper(word, rule, 0, \"\")\n",
    "    \n",
    "def permHelper(word, rule, index, prefix):\n",
    "    for i in range(index, len(word)):\n",
    "        c = word[i]\n",
    "        if (c in keys):\n",
    "            permHelper(word, rule, i + 1, prefix + c)\n",
    "            \n",
    "            c = c.upper()\n",
    "            permHelper(word, rule, i + 1, prefix + c)\n",
    "        else:\n",
    "            prefix += c\n",
    "    \n",
    "    if (len(prefix) == len(word)):\n",
    "        results.add(prefix)"
   ]
  },
  {
   "cell_type": "code",
   "execution_count": 4,
   "metadata": {
    "ExecuteTime": {
     "end_time": "2020-04-06T00:05:23.359121Z",
     "start_time": "2020-04-06T00:05:23.353162Z"
    }
   },
   "outputs": [
    {
     "name": "stdout",
     "output_type": "stream",
     "text": [
      "{'MediuM-one', 'medium-oNe', 'medium-one', 'mediuM-one', 'MediuM-oNe', 'mediuM-oNe', 'Medium-one', 'Medium-oNe'}\n"
     ]
    }
   ],
   "source": [
    "word = \"medium-one\"\n",
    "rule = \"nm\"\n",
    "\n",
    "permLetter(word, rule)\n",
    "print(results)"
   ]
  },
  {
   "cell_type": "markdown",
   "metadata": {},
   "source": [
    "### Ex.14 Combination Sum I\n",
    "\n",
    "Given a set of candidate numbers (candidates) (without duplicates) and a target number (target), find all unique combinations in candidates where the candidate numbers sums to target.\n",
    "\n",
    "The same repeated number may be chosen from candidates unlimited number of times."
   ]
  },
  {
   "cell_type": "code",
   "execution_count": 14,
   "metadata": {
    "ExecuteTime": {
     "end_time": "2020-04-06T00:25:25.715759Z",
     "start_time": "2020-04-06T00:25:25.707649Z"
    }
   },
   "outputs": [],
   "source": [
    "def comb(nums, target):\n",
    "    result = []\n",
    "    tmp = []\n",
    "    combHelper(result, tmp, nums, target, 0)\n",
    "    return result\n",
    "\n",
    "def combHelper(result, tmp, nums, remains, start):\n",
    "    if remains < 0: return\n",
    "    if remains == 0:\n",
    "        result.append(tmp[:])\n",
    "    else:\n",
    "        for i in range(start, len(nums)):\n",
    "            tmp.append(nums[i])\n",
    "            combHelper(result, tmp, nums, remains - nums[i], i)\n",
    "            tmp.pop()"
   ]
  },
  {
   "cell_type": "code",
   "execution_count": 15,
   "metadata": {
    "ExecuteTime": {
     "end_time": "2020-04-06T00:25:29.113683Z",
     "start_time": "2020-04-06T00:25:29.099391Z"
    }
   },
   "outputs": [
    {
     "data": {
      "text/plain": [
       "[[2, 2, 3], [7]]"
      ]
     },
     "execution_count": 15,
     "metadata": {},
     "output_type": "execute_result"
    }
   ],
   "source": [
    "candidates = [2,3,6,7]\n",
    "t = 7\n",
    "comb(candidates, t)"
   ]
  },
  {
   "cell_type": "markdown",
   "metadata": {},
   "source": [
    "### Ex.15 Combination Sum II\n",
    "\n",
    "Given a collection of candidate numbers (candidates) and a target number (target), find all **unique** combinations in candidates where the candidate numbers sums to target.\n",
    "\n",
    "Each number in candidates may only be used once in the combination.\n",
    "\n",
    "Note:\n",
    "\n",
    "All numbers (including target) will be positive integers.\n",
    "\n",
    "The solution set must not contain duplicate combinations."
   ]
  },
  {
   "cell_type": "code",
   "execution_count": 16,
   "metadata": {
    "ExecuteTime": {
     "end_time": "2020-04-06T00:40:32.717554Z",
     "start_time": "2020-04-06T00:40:32.708800Z"
    }
   },
   "outputs": [],
   "source": [
    "def comb2(nums, t):\n",
    "    result = []\n",
    "    tmp = []\n",
    "    nums.sort()\n",
    "    combHelper2(result, tmp, nums, t, 0)\n",
    "    return result\n",
    "        \n",
    "def combHelper2(result, tmp, nums, remains, start):\n",
    "    if remains < 0: return\n",
    "    if remains == 0:\n",
    "        result.append(tmp[:])\n",
    "    else:\n",
    "        for i in range(start, len(nums)):\n",
    "            if(i > start and nums[i] == nums[i-1]): continue; # skip duplicates\n",
    "            tmp.append(nums[i])\n",
    "            combHelper2(result, tmp, nums, remains - nums[i], i + 1)\n",
    "            tmp.pop()"
   ]
  },
  {
   "cell_type": "code",
   "execution_count": 17,
   "metadata": {
    "ExecuteTime": {
     "end_time": "2020-04-06T00:40:38.698970Z",
     "start_time": "2020-04-06T00:40:38.690741Z"
    }
   },
   "outputs": [
    {
     "data": {
      "text/plain": [
       "[[1, 1, 6], [1, 2, 5], [1, 7], [2, 6]]"
      ]
     },
     "execution_count": 17,
     "metadata": {},
     "output_type": "execute_result"
    }
   ],
   "source": [
    "candidates = [10,1,2,7,6,1,5]\n",
    "t = 8\n",
    "comb2(candidates, t)"
   ]
  },
  {
   "cell_type": "code",
   "execution_count": 18,
   "metadata": {
    "ExecuteTime": {
     "end_time": "2020-04-06T00:40:48.995554Z",
     "start_time": "2020-04-06T00:40:48.987799Z"
    }
   },
   "outputs": [
    {
     "data": {
      "text/plain": [
       "[[1, 2, 2], [5]]"
      ]
     },
     "execution_count": 18,
     "metadata": {},
     "output_type": "execute_result"
    }
   ],
   "source": [
    "candidates = [2,5,2,1,2]\n",
    "t = 5\n",
    "comb2(candidates, t)"
   ]
  },
  {
   "cell_type": "code",
   "execution_count": 19,
   "metadata": {
    "ExecuteTime": {
     "end_time": "2020-04-06T00:40:57.897777Z",
     "start_time": "2020-04-06T00:40:57.889955Z"
    }
   },
   "outputs": [
    {
     "data": {
      "text/plain": [
       "[[7]]"
      ]
     },
     "execution_count": 19,
     "metadata": {},
     "output_type": "execute_result"
    }
   ],
   "source": [
    "candidates = [2,3,6,7]\n",
    "t = 7\n",
    "comb2(candidates, t)"
   ]
  },
  {
   "cell_type": "markdown",
   "metadata": {},
   "source": [
    "### Ex.16 Parentheses \n",
    "\n",
    "Given n pairs of parentheses, write a function to generate all combinations of well-formed parentheses."
   ]
  },
  {
   "cell_type": "code",
   "execution_count": 20,
   "metadata": {
    "ExecuteTime": {
     "end_time": "2020-04-06T01:02:05.868844Z",
     "start_time": "2020-04-06T01:02:05.863089Z"
    }
   },
   "outputs": [],
   "source": [
    "def generateParenthesis(n):\n",
    "    def generate(prefix, left, right, parens=[]):\n",
    "        if right == 0:   parens.append(prefix)\n",
    "        if left > 0:     generate(prefix + '(', left-1, right)\n",
    "        if right > left: generate(prefix + ')', left, right-1)\n",
    "        return parens\n",
    "    return generate('', n, n)"
   ]
  },
  {
   "cell_type": "code",
   "execution_count": 21,
   "metadata": {
    "ExecuteTime": {
     "end_time": "2020-04-06T01:02:12.008832Z",
     "start_time": "2020-04-06T01:02:12.000915Z"
    }
   },
   "outputs": [
    {
     "data": {
      "text/plain": [
       "['(((())))',\n",
       " '((()()))',\n",
       " '((())())',\n",
       " '((()))()',\n",
       " '(()(()))',\n",
       " '(()()())',\n",
       " '(()())()',\n",
       " '(())(())',\n",
       " '(())()()',\n",
       " '()((()))',\n",
       " '()(()())',\n",
       " '()(())()',\n",
       " '()()(())',\n",
       " '()()()()']"
      ]
     },
     "execution_count": 21,
     "metadata": {},
     "output_type": "execute_result"
    }
   ],
   "source": [
    "generateParenthesis(4)"
   ]
  },
  {
   "cell_type": "markdown",
   "metadata": {},
   "source": [
    "### Ex.17 N Queens\n",
    "\n",
    "The n-queens puzzle is the problem of placing n queens on an n×n chessboard such that no two queens attack each other.\n",
    "\n",
    "Given an integer n, return all distinct solutions to the n-queens puzzle.\n",
    "\n",
    "Each solution contains a distinct board configuration of the n-queens' placement, where 'Q' and '.' both indicate a queen and an empty space respectively."
   ]
  },
  {
   "cell_type": "code",
   "execution_count": 22,
   "metadata": {
    "ExecuteTime": {
     "end_time": "2020-04-06T01:03:09.137607Z",
     "start_time": "2020-04-06T01:03:09.128009Z"
    }
   },
   "outputs": [],
   "source": [
    "def solveNQueens(n):\n",
    "    res = []\n",
    "    dfs([-1]*n, 0, [], res)\n",
    "    return res\n",
    " \n",
    "# nums is a one-dimension array, like [1, 3, 0, 2] means\n",
    "# first queen is placed in column 1, second queen is placed\n",
    "# in column 3, etc.\n",
    "def dfs(nums, index, path, res):\n",
    "    if index == len(nums):\n",
    "        res.append(path)\n",
    "        return  # backtracking\n",
    "    for i in range(len(nums)):\n",
    "        nums[index] = i\n",
    "        if valid(nums, index):  # pruning\n",
    "            tmp = \".\" * len(nums)\n",
    "            dfs(nums, index+1, path + [tmp[:i]+\"Q\"+tmp[i+1:]], res)\n",
    "            \n",
    "# check whether nth queen can be placed in that column\n",
    "def valid(nums, n):\n",
    "    for i in range(n):\n",
    "        if abs(nums[i]-nums[n]) == n - i or nums[i] == nums[n]:\n",
    "            return False\n",
    "    return True"
   ]
  },
  {
   "cell_type": "code",
   "execution_count": 23,
   "metadata": {
    "ExecuteTime": {
     "end_time": "2020-04-06T01:03:15.714228Z",
     "start_time": "2020-04-06T01:03:15.706764Z"
    }
   },
   "outputs": [
    {
     "data": {
      "text/plain": [
       "[['.Q..', '...Q', 'Q...', '..Q.'], ['..Q.', 'Q...', '...Q', '.Q..']]"
      ]
     },
     "execution_count": 23,
     "metadata": {},
     "output_type": "execute_result"
    }
   ],
   "source": [
    "solveNQueens(4)"
   ]
  },
  {
   "cell_type": "code",
   "execution_count": null,
   "metadata": {},
   "outputs": [],
   "source": []
  }
 ],
 "metadata": {
  "kernelspec": {
   "display_name": "Python36",
   "language": "python",
   "name": "python36"
  },
  "language_info": {
   "codemirror_mode": {
    "name": "ipython",
    "version": 3
   },
   "file_extension": ".py",
   "mimetype": "text/x-python",
   "name": "python",
   "nbconvert_exporter": "python",
   "pygments_lexer": "ipython3",
   "version": "3.6.10"
  },
  "toc": {
   "base_numbering": 1,
   "nav_menu": {},
   "number_sections": true,
   "sideBar": true,
   "skip_h1_title": false,
   "title_cell": "Table of Contents",
   "title_sidebar": "Contents",
   "toc_cell": false,
   "toc_position": {},
   "toc_section_display": true,
   "toc_window_display": true
  }
 },
 "nbformat": 4,
 "nbformat_minor": 2
}
