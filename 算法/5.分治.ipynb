{
 "cells": [
  {
   "cell_type": "markdown",
   "metadata": {},
   "source": [
    "# Divide and Conquer\n"
   ]
  },
  {
   "cell_type": "code",
   "execution_count": 1,
   "metadata": {
    "ExecuteTime": {
     "end_time": "2020-08-01T13:33:27.599838Z",
     "start_time": "2020-08-01T13:33:26.567943Z"
    }
   },
   "outputs": [],
   "source": [
    "import time\n",
    "import random\n",
    "from random import randint\n",
    "import sys\n",
    "\n",
    "import matplotlib.pyplot as plt\n",
    "%matplotlib inline  \n",
    "\n",
    "def generate_random_array(n):\n",
    "    return [randint(1, 3 * n) for e in range(n)]"
   ]
  },
  {
   "cell_type": "markdown",
   "metadata": {},
   "source": [
    "** 我们已经见过的Divide and Conquer 相关的问题：**\n",
    "\n",
    "- Binary Search\n",
    "- Merge Sort\n",
    "- Quick Sort\n",
    "\n",
    "The divide-and-conquer strategy solves a problem by:\n",
    "1. Breaking it into subproblems that are themselves smaller instances of the same type of problem\n",
    "2. Recursively solving these subproblems\n",
    "3. Appropriately combining their answers\n",
    "\n",
    "The real work is done piecemeal, in three different places: in the partitioning of problems into subproblems; at the very tail end of the recursion, when the subproblems are so small that they are solved outright; and in the gluing together of partial answers. These are held together and coordinated by the algorithm’s core recursive structure."
   ]
  },
  {
   "cell_type": "markdown",
   "metadata": {
    "ExecuteTime": {
     "end_time": "2020-08-01T13:35:14.829983Z",
     "start_time": "2020-08-01T13:35:14.822462Z"
    }
   },
   "source": [
    "## <a id='Ex1'>Ex.1: Find Medium / Find kth Element</a>\n",
    "\n",
    "See Document."
   ]
  },
  {
   "cell_type": "code",
   "execution_count": 3,
   "metadata": {
    "ExecuteTime": {
     "end_time": "2020-08-01T13:35:56.874188Z",
     "start_time": "2020-08-01T13:35:56.867417Z"
    }
   },
   "outputs": [],
   "source": [
    "# O(nlgn) time\n",
    "def findKthLargest1(nums, k):\n",
    "    start = time.time()\n",
    "    rst = sorted(nums, reverse=True)\n",
    "    t = time.time() - start\n",
    "    return rst[k-1], len(rst), t"
   ]
  },
  {
   "cell_type": "code",
   "execution_count": 4,
   "metadata": {
    "ExecuteTime": {
     "end_time": "2020-08-01T13:36:05.356041Z",
     "start_time": "2020-08-01T13:36:05.344488Z"
    }
   },
   "outputs": [
    {
     "name": "stdout",
     "output_type": "stream",
     "text": [
      "[11, 15, 14, 16, 16, 4]\n"
     ]
    },
    {
     "data": {
      "text/plain": [
       "(15, 6, 4.0531158447265625e-06)"
      ]
     },
     "execution_count": 4,
     "metadata": {},
     "output_type": "execute_result"
    }
   ],
   "source": [
    "numbers = generate_random_array(6)\n",
    "print(numbers)\n",
    "m = findKthLargest1(numbers, len(numbers)//2)\n",
    "m"
   ]
  },
  {
   "cell_type": "code",
   "execution_count": 5,
   "metadata": {
    "ExecuteTime": {
     "end_time": "2020-08-01T13:36:13.999524Z",
     "start_time": "2020-08-01T13:36:13.668023Z"
    }
   },
   "outputs": [],
   "source": [
    "random_lists = [generate_random_array(1000 * n) for n in range(1, 21)]"
   ]
  },
  {
   "cell_type": "code",
   "execution_count": 6,
   "metadata": {
    "ExecuteTime": {
     "end_time": "2020-08-01T13:36:22.553945Z",
     "start_time": "2020-08-01T13:36:22.477668Z"
    }
   },
   "outputs": [
    {
     "data": {
      "text/plain": [
       "[(1516, 1000, 0.00017595291137695312),\n",
       " (3006, 2000, 0.0003829002380371094),\n",
       " (4411, 3000, 0.00061798095703125),\n",
       " (6006, 4000, 0.0008370876312255859),\n",
       " (7628, 5000, 0.0011098384857177734),\n",
       " (8893, 6000, 0.0013990402221679688),\n",
       " (10538, 7000, 0.0016739368438720703),\n",
       " (12106, 8000, 0.0017881393432617188),\n",
       " (13414, 9000, 0.002177000045776367),\n",
       " (14863, 10000, 0.002521038055419922),\n",
       " (16347, 11000, 0.0026988983154296875),\n",
       " (18075, 12000, 0.002849102020263672),\n",
       " (19737, 13000, 0.0034079551696777344),\n",
       " (20834, 14000, 0.003805875778198242),\n",
       " (22338, 15000, 0.003824949264526367),\n",
       " (23952, 16000, 0.00568389892578125),\n",
       " (25679, 17000, 0.0059587955474853516),\n",
       " (27106, 18000, 0.006580829620361328),\n",
       " (28775, 19000, 0.009123086929321289),\n",
       " (30189, 20000, 0.009804010391235352)]"
      ]
     },
     "execution_count": 6,
     "metadata": {},
     "output_type": "execute_result"
    }
   ],
   "source": [
    "rst = [findKthLargest1(l, len(l)//2) for l in random_lists]\n",
    "rst"
   ]
  },
  {
   "cell_type": "code",
   "execution_count": 7,
   "metadata": {
    "ExecuteTime": {
     "end_time": "2020-08-01T13:36:31.067424Z",
     "start_time": "2020-08-01T13:36:30.815194Z"
    }
   },
   "outputs": [
    {
     "data": {
      "text/plain": [
       "[<matplotlib.lines.Line2D at 0x115b3d048>]"
      ]
     },
     "execution_count": 7,
     "metadata": {},
     "output_type": "execute_result"
    },
    {
     "data": {
      "image/png": "[encoded data removed]",
      "text/plain": [
       "<Figure size 432x288 with 1 Axes>"
      ]
     },
     "metadata": {
      "needs_background": "light"
     },
     "output_type": "display_data"
    }
   ],
   "source": [
    "x = list(zip(*rst))[1]\n",
    "y = list(zip(*rst))[2]\n",
    "\n",
    "plt.plot(x, y)"
   ]
  },
  {
   "cell_type": "code",
   "execution_count": 8,
   "metadata": {
    "ExecuteTime": {
     "end_time": "2020-08-01T13:36:38.039592Z",
     "start_time": "2020-08-01T13:36:38.032902Z"
    }
   },
   "outputs": [],
   "source": [
    "# O(nk) time, bubble sort idea, TLE\n",
    "def findKthLargest2(nums, k):\n",
    "    start = time.time()\n",
    "    for i in range(k):\n",
    "        for j in range(len(nums)-i-1):\n",
    "            if nums[j] > nums[j+1]:\n",
    "                # exchange elements, time consuming\n",
    "                nums[j], nums[j+1] = nums[j+1], nums[j]\n",
    "    t = time.time() - start\n",
    "    return nums[len(nums)-k], len(nums), t"
   ]
  },
  {
   "cell_type": "code",
   "execution_count": 9,
   "metadata": {
    "ExecuteTime": {
     "end_time": "2020-08-01T13:36:46.962499Z",
     "start_time": "2020-08-01T13:36:46.247583Z"
    }
   },
   "outputs": [
    {
     "data": {
      "text/plain": [
       "[(2974, 1000, 0.003648996353149414),\n",
       " (5965, 2000, 0.007513999938964844),\n",
       " (8977, 3000, 0.010375022888183594),\n",
       " (11968, 4000, 0.01324319839477539),\n",
       " (14971, 5000, 0.022619962692260742),\n",
       " (17972, 6000, 0.028192996978759766),\n",
       " (20963, 7000, 0.0241241455078125),\n",
       " (23973, 8000, 0.022715091705322266),\n",
       " (26980, 9000, 0.02539801597595215),\n",
       " (29952, 10000, 0.028136014938354492),\n",
       " (32975, 11000, 0.055724143981933594),\n",
       " (35984, 12000, 0.050817012786865234),\n",
       " (38959, 13000, 0.04076409339904785),\n",
       " (41968, 14000, 0.041956186294555664),\n",
       " (44974, 15000, 0.04749584197998047),\n",
       " (47975, 16000, 0.05178093910217285),\n",
       " (50974, 17000, 0.05316019058227539),\n",
       " (53976, 18000, 0.05894207954406738),\n",
       " (56975, 19000, 0.06135129928588867),\n",
       " (59966, 20000, 0.06034684181213379)]"
      ]
     },
     "execution_count": 9,
     "metadata": {},
     "output_type": "execute_result"
    }
   ],
   "source": [
    "rst = [findKthLargest2(l, len(random_lists)//2) for l in random_lists]\n",
    "rst"
   ]
  },
  {
   "cell_type": "code",
   "execution_count": 10,
   "metadata": {
    "ExecuteTime": {
     "end_time": "2020-08-01T13:36:55.291355Z",
     "start_time": "2020-08-01T13:36:55.100376Z"
    }
   },
   "outputs": [
    {
     "data": {
      "text/plain": [
       "[<matplotlib.lines.Line2D at 0x115c78198>]"
      ]
     },
     "execution_count": 10,
     "metadata": {},
     "output_type": "execute_result"
    },
    {
     "data": {
      "image/png": "[encoded data removed]",
      "text/plain": [
       "<Figure size 432x288 with 1 Axes>"
      ]
     },
     "metadata": {
      "needs_background": "light"
     },
     "output_type": "display_data"
    }
   ],
   "source": [
    "x = list(zip(*rst))[1]\n",
    "y = list(zip(*rst))[2]\n",
    "\n",
    "plt.plot(x, y)"
   ]
  },
  {
   "cell_type": "code",
   "execution_count": 11,
   "metadata": {
    "ExecuteTime": {
     "end_time": "2020-08-01T13:37:02.402217Z",
     "start_time": "2020-08-01T13:37:02.391825Z"
    }
   },
   "outputs": [],
   "source": [
    "# O(n) time, quick selection\n",
    "def findKthLargest(nums, k):\n",
    "    # convert the kth largest to smallest\n",
    "    start = time.time()\n",
    "    rst = findKthSmallest(nums, len(nums)+1-k)\n",
    "    t = time.time() - start\n",
    "    return rst, len(nums), t\n",
    "    \n",
    "def findKthSmallest(nums, k):\n",
    "    if nums:\n",
    "        pos = partition(nums, 0, len(nums)-1)\n",
    "        if k > pos+1:\n",
    "            return findKthSmallest(nums[pos+1:], k-pos-1)\n",
    "        elif k < pos+1:\n",
    "            return findKthSmallest(nums[:pos], k)\n",
    "        else:\n",
    "            return nums[pos]\n",
    " \n",
    "# choose the right-most element as pivot   \n",
    "def partition(nums, l, r):\n",
    "    low = l\n",
    "    while l < r:\n",
    "        if nums[l] < nums[r]:\n",
    "            nums[l], nums[low] = nums[low], nums[l]\n",
    "            low += 1\n",
    "        l += 1\n",
    "    nums[low], nums[r] = nums[r], nums[low]\n",
    "    return low"
   ]
  },
  {
   "cell_type": "code",
   "execution_count": 12,
   "metadata": {
    "ExecuteTime": {
     "end_time": "2020-08-01T13:37:10.868898Z",
     "start_time": "2020-08-01T13:37:10.860574Z"
    }
   },
   "outputs": [
    {
     "name": "stdout",
     "output_type": "stream",
     "text": [
      "[9, 2, 2, 11, 2, 17]\n"
     ]
    },
    {
     "data": {
      "text/plain": [
       "(9, 6, 8.821487426757812e-06)"
      ]
     },
     "execution_count": 12,
     "metadata": {},
     "output_type": "execute_result"
    }
   ],
   "source": [
    "numbers = generate_random_array(6)\n",
    "print(numbers)\n",
    "m = findKthLargest(numbers, len(numbers)//2)\n",
    "m"
   ]
  },
  {
   "cell_type": "code",
   "execution_count": 13,
   "metadata": {
    "ExecuteTime": {
     "end_time": "2020-08-01T13:37:18.121825Z",
     "start_time": "2020-08-01T13:37:17.578565Z"
    }
   },
   "outputs": [
    {
     "data": {
      "text/plain": [
       "[(2974, 1000, 0.0028159618377685547),\n",
       " (5965, 2000, 0.005540132522583008),\n",
       " (8977, 3000, 0.0076541900634765625),\n",
       " (11968, 4000, 0.010528087615966797),\n",
       " (14971, 5000, 0.026948928833007812),\n",
       " (17972, 6000, 0.029178142547607422),\n",
       " (20963, 7000, 0.02215290069580078),\n",
       " (23973, 8000, 0.01892685890197754),\n",
       " (26980, 9000, 0.02134084701538086),\n",
       " (29952, 10000, 0.021159887313842773),\n",
       " (32975, 11000, 0.023223876953125),\n",
       " (35984, 12000, 0.02562093734741211),\n",
       " (38959, 13000, 0.036054134368896484),\n",
       " (41968, 14000, 0.037758827209472656),\n",
       " (44974, 15000, 0.029855966567993164),\n",
       " (47975, 16000, 0.03993821144104004),\n",
       " (50974, 17000, 0.03835701942443848),\n",
       " (53976, 18000, 0.04431509971618652),\n",
       " (56975, 19000, 0.056078195571899414),\n",
       " (59966, 20000, 0.04016995429992676)]"
      ]
     },
     "execution_count": 13,
     "metadata": {},
     "output_type": "execute_result"
    }
   ],
   "source": [
    "rst = [findKthLargest(l, len(random_lists)//2) for l in random_lists]\n",
    "rst"
   ]
  },
  {
   "cell_type": "code",
   "execution_count": 14,
   "metadata": {
    "ExecuteTime": {
     "end_time": "2020-08-01T13:37:25.090199Z",
     "start_time": "2020-08-01T13:37:24.890770Z"
    }
   },
   "outputs": [
    {
     "data": {
      "text/plain": [
       "[<matplotlib.lines.Line2D at 0x104f29160>]"
      ]
     },
     "execution_count": 14,
     "metadata": {},
     "output_type": "execute_result"
    },
    {
     "data": {
      "image/png": "[encoded data removed]",
      "text/plain": [
       "<Figure size 432x288 with 1 Axes>"
      ]
     },
     "metadata": {
      "needs_background": "light"
     },
     "output_type": "display_data"
    }
   ],
   "source": [
    "x = list(zip(*rst))[1]\n",
    "y = list(zip(*rst))[2]\n",
    "\n",
    "plt.plot(x, y)"
   ]
  },
  {
   "cell_type": "code",
   "execution_count": 15,
   "metadata": {
    "ExecuteTime": {
     "end_time": "2020-08-01T13:37:32.629633Z",
     "start_time": "2020-08-01T13:37:31.027249Z"
    }
   },
   "outputs": [],
   "source": [
    "l = generate_random_array(1000000)"
   ]
  },
  {
   "cell_type": "code",
   "execution_count": 16,
   "metadata": {
    "ExecuteTime": {
     "end_time": "2020-08-01T13:37:38.529619Z",
     "start_time": "2020-08-01T13:37:37.794962Z"
    }
   },
   "outputs": [
    {
     "data": {
      "text/plain": [
       "(1500270, 1000000, 0.703624963760376)"
      ]
     },
     "execution_count": 16,
     "metadata": {},
     "output_type": "execute_result"
    }
   ],
   "source": [
    "r = findKthLargest1(l, len(l)//2)\n",
    "r"
   ]
  },
  {
   "cell_type": "code",
   "execution_count": 17,
   "metadata": {
    "ExecuteTime": {
     "end_time": "2020-08-01T13:37:46.137607Z",
     "start_time": "2020-08-01T13:37:45.234078Z"
    }
   },
   "outputs": [
    {
     "data": {
      "text/plain": [
       "(1500270, 1000000, 0.8990800380706787)"
      ]
     },
     "execution_count": 17,
     "metadata": {},
     "output_type": "execute_result"
    }
   ],
   "source": [
    "r = findKthLargest(l, len(l)//2)\n",
    "r"
   ]
  },
  {
   "cell_type": "code",
   "execution_count": null,
   "metadata": {},
   "outputs": [],
   "source": []
  }
 ],
 "metadata": {
  "kernelspec": {
   "display_name": "Python36",
   "language": "python",
   "name": "python36"
  },
  "language_info": {
   "codemirror_mode": {
    "name": "ipython",
    "version": 3
   },
   "file_extension": ".py",
   "mimetype": "text/x-python",
   "name": "python",
   "nbconvert_exporter": "python",
   "pygments_lexer": "ipython3",
   "version": "3.6.10"
  },
  "toc": {
   "base_numbering": 1,
   "nav_menu": {},
   "number_sections": true,
   "sideBar": true,
   "skip_h1_title": false,
   "title_cell": "Table of Contents",
   "title_sidebar": "Contents",
   "toc_cell": false,
   "toc_position": {},
   "toc_section_display": true,
   "toc_window_display": true
  }
 },
 "nbformat": 4,
 "nbformat_minor": 2
}
