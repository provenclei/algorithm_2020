{
 "cells": [
  {
   "cell_type": "markdown",
   "metadata": {},
   "source": [
    "## Ex.1: Binary Search Review\n",
    "\n",
    "Find 1st position of target, return -1 if not found\n",
    "\n",
    "How about last position, any position?\n",
    "\n",
    "Binary Search (iterative)："
   ]
  },
  {
   "cell_type": "code",
   "execution_count": 5,
   "metadata": {
    "ExecuteTime": {
     "end_time": "2020-04-14T04:11:16.884840Z",
     "start_time": "2020-04-14T04:11:16.877361Z"
    }
   },
   "outputs": [],
   "source": [
    "def bi_search_iter(alist, item):\n",
    "    left, right = 0, len(alist)-1\n",
    "    while left <= right:\n",
    "        middle = left + (right - left)//2\n",
    "        if alist[middle] < item:\n",
    "            left = middle + 1\n",
    "        elif alist[middle] > item:\n",
    "            right = middle - 1\n",
    "        else:\n",
    "            return middle\n",
    "    return -1"
   ]
  },
  {
   "cell_type": "code",
   "execution_count": 6,
   "metadata": {
    "ExecuteTime": {
     "end_time": "2020-04-14T04:11:17.484488Z",
     "start_time": "2020-04-14T04:11:17.476913Z"
    }
   },
   "outputs": [
    {
     "name": "stdout",
     "output_type": "stream",
     "text": [
      "4\n",
      "-1\n"
     ]
    }
   ],
   "source": [
    "num_list = [1,2,3,5,7,8,9]\n",
    "print(bi_search_iter(num_list, 7))\n",
    "print(bi_search_iter(num_list, 4))"
   ]
  },
  {
   "cell_type": "markdown",
   "metadata": {},
   "source": [
    "## Ex.2: Binary Search Template\n",
    "\n",
    "Remember? ** Template! **"
   ]
  },
  {
   "cell_type": "code",
   "execution_count": 1,
   "metadata": {
    "ExecuteTime": {
     "end_time": "2020-04-14T08:43:30.401375Z",
     "start_time": "2020-04-14T08:43:30.392038Z"
    }
   },
   "outputs": [],
   "source": [
    "def binarysearch(alist, item):\n",
    "    # 如果存在，返回索引\n",
    "    # 如果不存在，返回插入位置\n",
    "    if len(alist) <= 0:\n",
    "        return -1\n",
    "    left, right = 0, len(alist)-1\n",
    "    while left+1 < right:\n",
    "        midd = left + (right - left) // 2\n",
    "        if alist[midd] == item:\n",
    "            right = midd\n",
    "        elif alist[midd] < item:\n",
    "            left = midd\n",
    "        elif alist[midd] > item:\n",
    "            right = midd\n",
    "    if alist[left] == item:\n",
    "        return left\n",
    "    if alist[right] == item:\n",
    "        return right\n",
    "#     return -1\n",
    "    return '应该插在{}之后,{}之前'.format(alist[left], alist[right])"
   ]
  },
  {
   "cell_type": "code",
   "execution_count": 4,
   "metadata": {
    "ExecuteTime": {
     "end_time": "2020-04-14T08:43:31.983322Z",
     "start_time": "2020-04-14T08:43:31.976315Z"
    }
   },
   "outputs": [
    {
     "name": "stdout",
     "output_type": "stream",
     "text": [
      "4\n",
      "应该插在3之后,7之前\n"
     ]
    }
   ],
   "source": [
    "num_list = [1,2,3,3,7,8,9]\n",
    "print(binarysearch(num_list, 7))\n",
    "print(binarysearch(num_list, 4))"
   ]
  },
  {
   "cell_type": "markdown",
   "metadata": {},
   "source": [
    "## Ex.3 Find Min in Rotated Sorted Array\n",
    "\n",
    "Suppose an array sorted in ascending order is rotated at some pivot unknown to you beforehand. Find the minimum element.\n",
    "\n",
    "\n",
    "[2,3,5,7,11,13,17] 旋转后：[11,13,17,2,3,5,7] 查找最小值。"
   ]
  },
  {
   "cell_type": "code",
   "execution_count": 17,
   "metadata": {
    "ExecuteTime": {
     "end_time": "2020-04-15T01:04:41.044950Z",
     "start_time": "2020-04-15T01:04:41.035154Z"
    }
   },
   "outputs": [],
   "source": [
    "# O(nlgn)\n",
    "def searchlazy(alist):\n",
    "    alist.sort()\n",
    "    return alist[0]\n",
    "\n",
    "# O(n)\n",
    "def searchslow(alist):\n",
    "    mmin = alist[0]\n",
    "    for ele in alist:\n",
    "        mmin = min(ele, mmin)\n",
    "    return mmin\n",
    "\n",
    "# O(lgn)\n",
    "def rotate_search(alist):\n",
    "    if len(alist) == 0:\n",
    "        return -1\n",
    "    left, right = 0, len(alist)-1\n",
    "    while left + 1 < right:\n",
    "        # 说明列表有序，只需返回最左边的数(加快运行速度)\n",
    "        if alist[left] < alist[right]:\n",
    "            return alist[left]\n",
    "        mid = left + (right - left)//2\n",
    "        if alist[mid] > alist[left]:\n",
    "            left = mid + 1\n",
    "        else:\n",
    "            # 如果大于left，则说明mid是拐点之后的数，只需移动right\n",
    "            right = mid\n",
    "    return alist[left] if alist[left] < alist[right] else alist[right]"
   ]
  },
  {
   "cell_type": "code",
   "execution_count": 11,
   "metadata": {
    "ExecuteTime": {
     "end_time": "2020-07-15T08:59:20.765676Z",
     "start_time": "2020-07-15T08:59:20.759863Z"
    },
    "scrolled": true
   },
   "outputs": [
    {
     "name": "stdout",
     "output_type": "stream",
     "text": [
      "2\n",
      "2\n"
     ]
    }
   ],
   "source": [
    "num_list = [11,13,17,2,3,5,7]\n",
    "print(rotate_search(num_list))\n",
    "num_list = [2,3,5,7,11,13,17] \n",
    "print(rotate_search(num_list))"
   ]
  },
  {
   "cell_type": "markdown",
   "metadata": {},
   "source": [
    "## Ex.4 Find in Rotated Array\n",
    "\n",
    "在旋转数组中查找一个固定的数。"
   ]
  },
  {
   "cell_type": "code",
   "execution_count": 19,
   "metadata": {
    "ExecuteTime": {
     "end_time": "2020-07-15T10:12:45.413550Z",
     "start_time": "2020-07-15T10:12:45.406354Z"
    }
   },
   "outputs": [],
   "source": [
    "def rotate_search_target(alist, target):\n",
    "    if len(alist) <= 0:\n",
    "        return -1\n",
    "    left, right = 0, len(alist)-1\n",
    "    while left + 1 < right:\n",
    "        mid = left + (right - left)//2\n",
    "        if alist[mid] == target:\n",
    "            return mid\n",
    "#         if alist[left] < alist[mid]:\n",
    "#             if alist[left] <= target and alist[mid] >= target:\n",
    "#                 right = mid\n",
    "#             else:\n",
    "#                 left = mid\n",
    "#         else:\n",
    "#             if alist[mid] <= target and alist[right] >= target:\n",
    "#                 left = mid\n",
    "#             else:\n",
    "#                 right = mid\n",
    "        if alist[mid] < target and alist[right] >= target:\n",
    "            left = mid + 1\n",
    "        else:\n",
    "            right = mid\n",
    "        \n",
    "    if alist[left] == target:\n",
    "        return left\n",
    "    if alist[right] ==target:\n",
    "        return right\n",
    "    \n",
    "    return -1"
   ]
  },
  {
   "cell_type": "code",
   "execution_count": 20,
   "metadata": {
    "ExecuteTime": {
     "end_time": "2020-07-15T10:12:46.287980Z",
     "start_time": "2020-07-15T10:12:46.281793Z"
    }
   },
   "outputs": [
    {
     "name": "stdout",
     "output_type": "stream",
     "text": [
      "4\n"
     ]
    }
   ],
   "source": [
    "num_list = [11,13,17,2,3,5,7]\n",
    "print(rotate_search_target(num_list, 3))"
   ]
  },
  {
   "cell_type": "code",
   "execution_count": 21,
   "metadata": {
    "ExecuteTime": {
     "end_time": "2020-07-15T10:12:48.295131Z",
     "start_time": "2020-07-15T10:12:48.289853Z"
    }
   },
   "outputs": [
    {
     "name": "stdout",
     "output_type": "stream",
     "text": [
      "8\n"
     ]
    }
   ],
   "source": [
    "num_list = [11,13,17,2,2,2,2,2,3,5,7]\n",
    "print(rotate_search_target(num_list, 3))"
   ]
  },
  {
   "cell_type": "code",
   "execution_count": 22,
   "metadata": {
    "ExecuteTime": {
     "end_time": "2020-07-15T10:12:49.291594Z",
     "start_time": "2020-07-15T10:12:49.286022Z"
    }
   },
   "outputs": [
    {
     "name": "stdout",
     "output_type": "stream",
     "text": [
      "5\n"
     ]
    }
   ],
   "source": [
    "num_list = [11,13,17,2,2,2,2,2,3,5,7]\n",
    "print(rotate_search_target(num_list, 2))"
   ]
  },
  {
   "cell_type": "markdown",
   "metadata": {},
   "source": [
    "## Ex.5 Search Insert Position  \n",
    "\n",
    "Given a sorted array and a target value, return the index if the target is found. If not, return the index where it would be if it were inserted in order. You may assume no duplicates in the array\n",
    "\n",
    "搜索插入位置\n",
    "\n",
    "给定有序数组和一个目标值，如果在数组中找到此目标值则返回目标值的index，如果\n",
    "没有找到，则返回目标值按顺序应该被插入的位置index.\n",
    "\n",
    "注:可以假设数组中不存在重复数。"
   ]
  },
  {
   "cell_type": "code",
   "execution_count": 25,
   "metadata": {
    "ExecuteTime": {
     "end_time": "2020-04-15T01:58:29.734147Z",
     "start_time": "2020-04-15T01:58:29.720852Z"
    }
   },
   "outputs": [],
   "source": [
    "def search_insert_position(alist, target):\n",
    "    if len(alist) == 0:\n",
    "        return 0\n",
    "    left, right = 0, len(alist)-1\n",
    "    while left + 1 < right:\n",
    "        midd = left + (right - left) // 2\n",
    "        if alist[midd] == target:\n",
    "            return midd\n",
    "        if alist[midd] < target:\n",
    "            left = midd\n",
    "        else:\n",
    "            right = midd\n",
    "    if alist[left] >= target:\n",
    "        return left\n",
    "    if alist[right] >= target:\n",
    "        return right\n",
    "    return right + 1"
   ]
  },
  {
   "cell_type": "code",
   "execution_count": 27,
   "metadata": {
    "ExecuteTime": {
     "end_time": "2020-04-15T01:58:35.782135Z",
     "start_time": "2020-04-15T01:58:35.774939Z"
    }
   },
   "outputs": [
    {
     "name": "stdout",
     "output_type": "stream",
     "text": [
      "4\n"
     ]
    }
   ],
   "source": [
    "num_list = [2,3,5,7,11,13,17] \n",
    "print(search_insert_position(num_list, 8))"
   ]
  },
  {
   "cell_type": "markdown",
   "metadata": {},
   "source": [
    "## Ex.6  Find the starting and ending position of a given target value.\n",
    "\n",
    "搜索一个区间\n",
    "\n",
    "找到一个给定目标值的开始和结束位置\n",
    "\n",
    "思路：寻找第一个目标值位置，然后寻找最后一个目标值出现的位置。"
   ]
  },
  {
   "cell_type": "code",
   "execution_count": 3,
   "metadata": {
    "ExecuteTime": {
     "end_time": "2020-04-18T04:35:07.528553Z",
     "start_time": "2020-04-18T04:35:07.516500Z"
    }
   },
   "outputs": [],
   "source": [
    "def search_range(alist, target):\n",
    "    if len(alist) == 0:\n",
    "        return (-1, -1)  \n",
    "    \n",
    "    lbound, rbound = -1, -1\n",
    "\n",
    "    # search for left bound \n",
    "    left, right = 0, len(alist) - 1\n",
    "    while left + 1 < right: \n",
    "        mid = left + (right - left) // 2\n",
    "        if alist[mid] == target:\n",
    "            right = mid\n",
    "        elif (alist[mid] < target):\n",
    "            left = mid\n",
    "        else:\n",
    "            right = mid\n",
    "            \n",
    "    if alist[left] == target:\n",
    "        lbound = left\n",
    "    elif alist[right] == target:\n",
    "        lbound = right\n",
    "    else:\n",
    "        return (-1, -1)\n",
    "\n",
    "    # search for right bound \n",
    "    left, right = 0, len(alist) - 1        \n",
    "    while left + 1 < right: \n",
    "        mid = left + (right - left) // 2\n",
    "        if alist[mid] == target:\n",
    "            left = mid\n",
    "        elif (alist[mid] < target):\n",
    "            left = mid\n",
    "        else:\n",
    "            right = mid\n",
    "            \n",
    "    if alist[right] == target:\n",
    "        rbound = right\n",
    "    elif alist[left] == target:\n",
    "        rbound = left\n",
    "    else:\n",
    "        return (-1, -1)        \n",
    "        \n",
    "    return (lbound, rbound)"
   ]
  },
  {
   "cell_type": "code",
   "execution_count": 5,
   "metadata": {
    "ExecuteTime": {
     "end_time": "2020-04-18T04:35:19.053227Z",
     "start_time": "2020-04-18T04:35:19.036968Z"
    }
   },
   "outputs": [
    {
     "data": {
      "text/plain": [
       "(1, 3)"
      ]
     },
     "execution_count": 5,
     "metadata": {},
     "output_type": "execute_result"
    }
   ],
   "source": [
    "num_lst = [1, 3, 3, 3, 6, 6, 6, 6, 6, 6,7 ,9]\n",
    "search_range(num_lst, 3)"
   ]
  },
  {
   "cell_type": "markdown",
   "metadata": {},
   "source": [
    "## Ex.7 Search in Sorted Array with Empty Strings\n",
    "\n",
    "Given a sorted array of strings which is interspersed with empty strings, write a meth­od to find the location of a given string.\n",
    "\n",
    "在用空字符串隔开的有序字符串中，查找给定字符串的位置。"
   ]
  },
  {
   "cell_type": "code",
   "execution_count": 6,
   "metadata": {
    "ExecuteTime": {
     "end_time": "2020-04-18T04:49:03.402335Z",
     "start_time": "2020-04-18T04:49:03.393346Z"
    }
   },
   "outputs": [],
   "source": [
    "# O(n) 可以使用in,没有更好的方法\n",
    "def search_empty(alist, target):\n",
    "    if len(alist) == 0:\n",
    "        return -1\n",
    "      \n",
    "    left, right = 0, len(alist) - 1\n",
    "    \n",
    "    while left + 1 < right:\n",
    "        # 从右边先寻找第一个非空字符串，也可以从左边找起\n",
    "        while left + 1 < right and alist[right] == \"\":\n",
    "            right -= 1\n",
    "        if alist[right] == \"\":\n",
    "            right -= 1\n",
    "        if right < left:\n",
    "            return -1\n",
    "        \n",
    "        mid = left + (right - left) // 2\n",
    "        while alist[mid] == \"\":\n",
    "            # 规矩\n",
    "            mid += 1\n",
    "            \n",
    "        if alist[mid] == target:\n",
    "            return mid\n",
    "        if alist[mid] < target:\n",
    "            left = mid + 1\n",
    "        else:\n",
    "            right = mid - 1\n",
    "            \n",
    "    if alist[left] == target:\n",
    "        return left\n",
    "    if alist[right] == target:\n",
    "        return right    \n",
    "        \n",
    "    return -1   "
   ]
  },
  {
   "cell_type": "code",
   "execution_count": 7,
   "metadata": {
    "ExecuteTime": {
     "end_time": "2020-04-18T04:49:04.543282Z",
     "start_time": "2020-04-18T04:49:04.535282Z"
    }
   },
   "outputs": [
    {
     "data": {
      "text/plain": [
       "8"
      ]
     },
     "execution_count": 7,
     "metadata": {},
     "output_type": "execute_result"
    }
   ],
   "source": [
    "num_lst = [\"\", \"\", \"\", \"\", 1, '', '', '', 2, 3, '', 4]\n",
    "search_empty(num_lst, 2)"
   ]
  },
  {
   "cell_type": "markdown",
   "metadata": {},
   "source": [
    "## Ex.8 Search 1st Position of element in Infinite Array\n",
    "\n",
    "在有序的数据流中，查找某一个元素第一个出现的位置。（倍增法）\n",
    "\n",
    "此题在数据流中寻找1的位置。\n",
    "\n",
    "数据流的特点：长度未知 "
   ]
  },
  {
   "cell_type": "code",
   "execution_count": 8,
   "metadata": {
    "ExecuteTime": {
     "end_time": "2020-04-18T04:49:57.587266Z",
     "start_time": "2020-04-18T04:49:57.580495Z"
    }
   },
   "outputs": [],
   "source": [
    "def search_first(alist):\n",
    "    left, right = 0, 1\n",
    "    \n",
    "    while alist[right] == 0:\n",
    "        left = right\n",
    "        right *= 2\n",
    "        \n",
    "        if (right > len(alist)):\n",
    "            right = len(alist) - 1\n",
    "            break\n",
    "    \n",
    "    return left + search_range(alist[left:right+1], 1)[0]"
   ]
  },
  {
   "cell_type": "code",
   "execution_count": 11,
   "metadata": {
    "ExecuteTime": {
     "end_time": "2020-04-18T04:50:19.862657Z",
     "start_time": "2020-04-18T04:50:19.854966Z"
    }
   },
   "outputs": [
    {
     "data": {
      "text/plain": [
       "5"
      ]
     },
     "execution_count": 11,
     "metadata": {},
     "output_type": "execute_result"
    }
   ],
   "source": [
    "alist = [0, 0, 0, 0, 0, 1]\n",
    "search_first(alist)\n",
    "r"
   ]
  },
  {
   "cell_type": "markdown",
   "metadata": {},
   "source": [
    "## Ex.9 Heaters\n",
    "\n",
    "Winter is coming! Your first job during the contest is to design a standard heater with fixed warm radius to warm all the houses.\n",
    "\n",
    "Now, you are given positions of houses and heaters on a horizontal line, find out minimum radius of heaters so that all houses could be covered by those heaters.\n",
    "\n",
    "So, your input will be the positions of houses and heaters seperately, and your expected output will be the minimum radius standard of heaters.\n",
    "\n",
    "• 冬季来临!你的首要任务是设计一款有固定供暖半径的供暖设备来给所有的房屋供暖。\n",
    "\n",
    "• 你的输入是每个房屋及每个供暖设备的位置，输出应该是供暖设备的最小半径。\n",
    "\n",
    "• 现在你知道所有房屋以及供暖设备在同一水平线上的位置分布，请找到能给所有房 屋供暖的供暖设备的最小供暖半径。\n",
    "\n",
    "**Note:**\n",
    "\n",
    "Numbers of houses and heaters you are given are non-negative and will not exceed 25000.\n",
    "\n",
    "Positions of houses and heaters you are given are non-negative and will not exceed 10^9.\n",
    "\n",
    "As long as a house is in the heaters' warm radius range, it can be warmed.\n",
    "\n",
    "All the heaters follow your radius standard and the warm radius will the same.\n",
    "\n",
    "**Example 1:**\n",
    "\n",
    "Input: [1,2,3],[2]\n",
    "\n",
    "Output: 1\n",
    "\n",
    "Explanation: The only heater was placed in the position 2, and if we use the radius 1 standard, then all the houses can be warmed.\n",
    "\n",
    "**Example 2:**\n",
    "\n",
    "Input: [1,2,3,4],[1,4]\n",
    "\n",
    "Output: 1\n",
    "\n",
    "Explanation: The two heater was placed in the position 1 and 4. We need to use radius 1 standard, then all the houses can be warmed."
   ]
  },
  {
   "cell_type": "markdown",
   "metadata": {},
   "source": [
    "**Solution**\n",
    "\n",
    "The idea is to leverage decent bisect function provided by Python.\n",
    "\n",
    "For each house, find its position between those heaters (thus we need the heaters array to be sorted).\n",
    "\n",
    "Calculate the distances between this house and left heater and right heater, get a MIN value of those two values. Corner cases are there is no left or right heater.\n",
    "\n",
    "Get MAX value among distances in step 2. It’s the answer."
   ]
  },
  {
   "cell_type": "code",
   "execution_count": 25,
   "metadata": {
    "ExecuteTime": {
     "end_time": "2020-04-19T02:02:43.269845Z",
     "start_time": "2020-04-19T02:02:43.262548Z"
    }
   },
   "outputs": [],
   "source": [
    "from bisect import bisect\n",
    "\n",
    "def findRadius(houses, heaters):\n",
    "    # o(m*lgn)\n",
    "    heaters.sort()\n",
    "    redius = 0\n",
    "    # 对于每一个房子，寻找距离最近的左右两个供暖设备\n",
    "    for house in houses:\n",
    "        # bisect 寻找第一个 >= x 的数字\n",
    "        heater_idx = bisect(heaters, house)\n",
    "        left = heaters[heater_idx - 1] if heater_idx - 1 >= 0 else float('-inf')\n",
    "        right = heaters[heater_idx] if heater_idx < len(heaters) else float('inf')\n",
    "        redius = max(redius, min(house - left, right - house))\n",
    "    return redius"
   ]
  },
  {
   "cell_type": "code",
   "execution_count": 26,
   "metadata": {
    "ExecuteTime": {
     "end_time": "2020-04-19T02:02:44.872848Z",
     "start_time": "2020-04-19T02:02:44.865045Z"
    }
   },
   "outputs": [
    {
     "name": "stdout",
     "output_type": "stream",
     "text": [
      "1\n"
     ]
    }
   ],
   "source": [
    "houses = [1,2,3,4]\n",
    "heaters = [1,4]\n",
    "print(findRadius(houses, heaters))"
   ]
  },
  {
   "cell_type": "code",
   "execution_count": 27,
   "metadata": {
    "ExecuteTime": {
     "end_time": "2020-04-19T02:02:49.591903Z",
     "start_time": "2020-04-19T02:02:49.585954Z"
    }
   },
   "outputs": [
    {
     "name": "stdout",
     "output_type": "stream",
     "text": [
      "11\n"
     ]
    }
   ],
   "source": [
    "houses = [1,12,23,34]\n",
    "heaters = [12,24]\n",
    "print(findRadius(houses, heaters))"
   ]
  },
  {
   "cell_type": "markdown",
   "metadata": {},
   "source": [
    "## Ex.10: Sqrt(x)\n",
    "\n",
    "Implement int sqrt(int x).\n",
    "\n",
    "Compute and return the square root of x.\n",
    "\n",
    "x is guaranteed to be a non-negative integer.\n",
    "\n",
    "两种方法：\n",
    "\n",
    "1. 折半法\n",
    "\n",
    "2. 牛顿法\n",
    "<img src=\"../images/ch05/newton.png\" width=\"640\"/>"
   ]
  },
  {
   "cell_type": "code",
   "execution_count": 30,
   "metadata": {
    "ExecuteTime": {
     "end_time": "2020-04-19T02:36:47.525777Z",
     "start_time": "2020-04-19T02:36:47.517435Z"
    }
   },
   "outputs": [],
   "source": [
    "def sqrt(x):\n",
    "    if x == 0:\n",
    "        return 0\n",
    "    left, right = 1, x\n",
    "    while left < right:\n",
    "        mid = left + (right - left) // 2\n",
    "        if mid == x // mid:\n",
    "            return mid\n",
    "        if mid < x // mid:\n",
    "            left = mid + 1\n",
    "        else:\n",
    "            right = mid - 1\n",
    "    return right"
   ]
  },
  {
   "cell_type": "code",
   "execution_count": 31,
   "metadata": {
    "ExecuteTime": {
     "end_time": "2020-04-19T02:36:48.865460Z",
     "start_time": "2020-04-19T02:36:48.856471Z"
    }
   },
   "outputs": [
    {
     "data": {
      "text/plain": [
       "6"
      ]
     },
     "execution_count": 31,
     "metadata": {},
     "output_type": "execute_result"
    }
   ],
   "source": [
    "sqrt(40)"
   ]
  },
  {
   "cell_type": "code",
   "execution_count": 32,
   "metadata": {
    "ExecuteTime": {
     "end_time": "2020-04-19T02:37:07.493289Z",
     "start_time": "2020-04-19T02:37:07.484702Z"
    }
   },
   "outputs": [],
   "source": [
    "def sqrtNewton(x):\n",
    "    r = x\n",
    "    while r*r > x:\n",
    "        r = (r + x//r) // 2\n",
    "    return r"
   ]
  },
  {
   "cell_type": "code",
   "execution_count": 33,
   "metadata": {
    "ExecuteTime": {
     "end_time": "2020-04-19T02:37:15.175961Z",
     "start_time": "2020-04-19T02:37:15.163528Z"
    }
   },
   "outputs": [
    {
     "data": {
      "text/plain": [
       "354"
      ]
     },
     "execution_count": 33,
     "metadata": {},
     "output_type": "execute_result"
    }
   ],
   "source": [
    "sqrtNewton(125348)"
   ]
  },
  {
   "cell_type": "markdown",
   "metadata": {},
   "source": [
    "## Ex.11: Search Element in a Sorted Matrix\n",
    "\n",
    "在一个 N*M 的矩阵中，每一行每一列都是排好序的，在矩阵中查找一个数。\n",
    "\n",
    "从右下角（或者左下角）开始查找，如果比target大，则第一列排除，向右寻找，如果比target小，则此行排除，向上寻找。"
   ]
  },
  {
   "cell_type": "code",
   "execution_count": 81,
   "metadata": {
    "ExecuteTime": {
     "end_time": "2020-04-19T03:43:05.879017Z",
     "start_time": "2020-04-19T03:43:05.872660Z"
    }
   },
   "outputs": [],
   "source": [
    "# O(m + n)\n",
    "def search_matrix(matrix, target):\n",
    "    row, col = len(matrix)-1, 0\n",
    "    max_col = len(matrix[0])-1\n",
    "    while row >= 0 and col <= max_col:\n",
    "        if matrix[row][col] == target:\n",
    "            return row, col\n",
    "        if target > matrix[row][col]:\n",
    "            col += 1\n",
    "            continue\n",
    "        if target < matrix[row][col]:\n",
    "            row -= 1\n",
    "            continue\n",
    "    return -1"
   ]
  },
  {
   "cell_type": "code",
   "execution_count": 82,
   "metadata": {
    "ExecuteTime": {
     "end_time": "2020-04-19T03:43:07.518750Z",
     "start_time": "2020-04-19T03:43:07.506809Z"
    }
   },
   "outputs": [
    {
     "data": {
      "text/plain": [
       "(1, 2)"
      ]
     },
     "execution_count": 82,
     "metadata": {},
     "output_type": "execute_result"
    }
   ],
   "source": [
    "matrix = [\n",
    "    [1, 4, 8, 10,15],\n",
    "    [3, 5, 6, 7, 20],\n",
    "    [9, 20,22,24,29],\n",
    "    [11,22,23,29,39]\n",
    "]\n",
    "search_matrix(matrix, 6)"
   ]
  },
  {
   "cell_type": "markdown",
   "metadata": {},
   "source": [
    "## Ex.12: Kth Smallest Element in a Sorted Matrix\n",
    "\n",
    "Given a n x n matrix where each of the rows and columns are sorted in ascending order, find the kth smallest element in the matrix.\n",
    "\n",
    "Note that it is the kth smallest element in the sorted order, not the kth distinct element.\n",
    "\n",
    "在一个 N*M 的矩阵中，每一行每一列都是排好序的，在矩阵中查找第k小的数。"
   ]
  },
  {
   "cell_type": "code",
   "execution_count": 83,
   "metadata": {
    "ExecuteTime": {
     "end_time": "2020-04-19T03:52:31.492660Z",
     "start_time": "2020-04-19T03:52:31.478598Z"
    }
   },
   "outputs": [],
   "source": [
    "from bisect import bisect\n",
    "def kthSmallest(matrix, k):\n",
    "    lo, hi = matrix[0][0], matrix[-1][-1]\n",
    "    while lo < hi:\n",
    "        mid = lo + (hi - lo) // 2\n",
    "        if sum(bisect(row, mid) for row in matrix) < k:\n",
    "            lo = mid+1\n",
    "        else:\n",
    "            hi = mid\n",
    "    return lo"
   ]
  },
  {
   "cell_type": "code",
   "execution_count": 84,
   "metadata": {
    "ExecuteTime": {
     "end_time": "2020-04-19T03:52:42.609516Z",
     "start_time": "2020-04-19T03:52:42.599366Z"
    }
   },
   "outputs": [
    {
     "data": {
      "text/plain": [
       "6"
      ]
     },
     "execution_count": 84,
     "metadata": {},
     "output_type": "execute_result"
    }
   ],
   "source": [
    "matrix = [\n",
    "    [1, 4, 8, 10,15],\n",
    "    [3, 5, 6, 7, 20],\n",
    "    [9, 20,22,24,29],\n",
    "    [11,22,23,29,39]\n",
    "]\n",
    "k = 5\n",
    "kthSmallest(matrix, k)"
   ]
  },
  {
   "cell_type": "code",
   "execution_count": 85,
   "metadata": {
    "ExecuteTime": {
     "end_time": "2020-04-19T03:53:01.201506Z",
     "start_time": "2020-04-19T03:53:01.192635Z"
    }
   },
   "outputs": [],
   "source": [
    "def kthSmallest(matrix, k):\n",
    "    n = len(matrix)\n",
    "    L, R = matrix[0][0], matrix[n - 1][n - 1]\n",
    "    while L < R:\n",
    "        mid = L + (R - L) // 2\n",
    "        temp = search_lower_than_mid(matrix, n, mid)\n",
    "        if temp < k:\n",
    "            L = mid + 1\n",
    "        else:\n",
    "            R = mid\n",
    "    return L\n",
    "\n",
    "def search_lower_than_mid(matrix, n, x):\n",
    "    i, j = n - 1, 0\n",
    "    cnt = 0\n",
    "    while i >= 0 and j < n:\n",
    "        if matrix[i][j] <= x:\n",
    "            j += 1\n",
    "            cnt += i + 1\n",
    "        else:\n",
    "            i -= 1\n",
    "    return cnt"
   ]
  },
  {
   "cell_type": "code",
   "execution_count": 86,
   "metadata": {
    "ExecuteTime": {
     "end_time": "2020-04-19T03:53:13.952805Z",
     "start_time": "2020-04-19T03:53:13.930037Z"
    }
   },
   "outputs": [
    {
     "data": {
      "text/plain": [
       "6"
      ]
     },
     "execution_count": 86,
     "metadata": {},
     "output_type": "execute_result"
    }
   ],
   "source": [
    "matrix = [\n",
    "    [1, 4, 8, 10,15],\n",
    "    [3, 5, 6, 7, 20],\n",
    "    [9, 20,22,24,29],\n",
    "    [11,22,23,29,39]\n",
    "]\n",
    "k = 5\n",
    "kthSmallest(matrix, k)"
   ]
  },
  {
   "cell_type": "markdown",
   "metadata": {},
   "source": [
    "## Ex.13: Find the Duplicate Number\n",
    "\n",
    "Given an array nums containing n + 1 integers where each integer is between 1 and n (inclusive), prove that at least one duplicate number must exist. Assume that there is only one duplicate number, find the duplicate one.\n",
    "\n",
    "Note:\n",
    "\n",
    "You must not modify the array (assume the array is read only).\n",
    "\n",
    "You must use only constant, O(1) extra space.\n",
    "\n",
    "Your runtime complexity should be less than O(n2).\n",
    "\n",
    "There is only one duplicate number in the array, but it could be repeated more than once.\n",
    "\n",
    "寻找重复数：\n",
    "\n",
    "给定一个包含n+1个整数的数组，其中每个元素为1到n闭区间的整数值，请证明至少存在一个重复数。假设只有一个重复数，请找到这个重复数。\n",
    "\n",
    ">注意：\n",
    ">1. 不给排序\n",
    ">2. 不准用set\n",
    ">3. 不准对原数组进行修改"
   ]
  },
  {
   "cell_type": "code",
   "execution_count": 87,
   "metadata": {
    "ExecuteTime": {
     "end_time": "2020-04-19T04:06:40.598731Z",
     "start_time": "2020-04-19T04:06:40.591088Z"
    }
   },
   "outputs": [],
   "source": [
    "# O(nlgn)\n",
    "def findDuplicate(nums):\n",
    "    low = 1\n",
    "    high = len(nums)-1\n",
    "    while low < high:\n",
    "        mid = low + (high - low) // 2\n",
    "        count = 0\n",
    "        for i in nums:\n",
    "            if i <= mid:\n",
    "                count+=1\n",
    "        if count <= mid:\n",
    "            low = mid+1\n",
    "        else:\n",
    "            high = mid\n",
    "    return low"
   ]
  },
  {
   "cell_type": "code",
   "execution_count": 88,
   "metadata": {
    "ExecuteTime": {
     "end_time": "2020-04-19T04:06:42.394790Z",
     "start_time": "2020-04-19T04:06:42.380051Z"
    }
   },
   "outputs": [
    {
     "data": {
      "text/plain": [
       "3"
      ]
     },
     "execution_count": 88,
     "metadata": {},
     "output_type": "execute_result"
    }
   ],
   "source": [
    "nums = [3,5,6,3,1,4,2]\n",
    "findDuplicate(nums)"
   ]
  },
  {
   "cell_type": "code",
   "execution_count": 89,
   "metadata": {
    "ExecuteTime": {
     "end_time": "2020-04-19T04:06:54.443480Z",
     "start_time": "2020-04-19T04:06:54.435130Z"
    }
   },
   "outputs": [],
   "source": [
    "def findDuplicate(nums):\n",
    "    # The \"tortoise and hare\" step.  We start at the end of the array and try\n",
    "    # to find an intersection point in the cycle.\n",
    "    slow = 0\n",
    "    fast = 0\n",
    "\n",
    "    # Keep advancing 'slow' by one step and 'fast' by two steps until they\n",
    "    # meet inside the loop.\n",
    "    while True:\n",
    "        slow = nums[slow]\n",
    "        fast = nums[nums[fast]]\n",
    "\n",
    "        if slow == fast:\n",
    "            break\n",
    "\n",
    "    # Start up another pointer from the end of the array and march it forward\n",
    "    # until it hits the pointer inside the array.\n",
    "    finder = 0\n",
    "    while True:\n",
    "        slow   = nums[slow]\n",
    "        finder = nums[finder]\n",
    "\n",
    "        # If the two hit, the intersection index is the duplicate element.\n",
    "        if slow == finder:\n",
    "            return slow"
   ]
  },
  {
   "cell_type": "code",
   "execution_count": 90,
   "metadata": {
    "ExecuteTime": {
     "end_time": "2020-04-19T04:07:01.193742Z",
     "start_time": "2020-04-19T04:07:01.185078Z"
    }
   },
   "outputs": [
    {
     "data": {
      "text/plain": [
       "3"
      ]
     },
     "execution_count": 90,
     "metadata": {},
     "output_type": "execute_result"
    }
   ],
   "source": [
    "nums = [3,5,6,3,1,4,2]\n",
    "findDuplicate(nums)"
   ]
  },
  {
   "cell_type": "markdown",
   "metadata": {},
   "source": [
    "## Ex.14: Merge Intervals\n",
    "\n",
    "Given a collection of intervals, merge all overlapping intervals.\n",
    "\n",
    "<img src=\"../images/ch05/mergeinterval.png\" width=\"580\"/>"
   ]
  },
  {
   "cell_type": "code",
   "execution_count": 91,
   "metadata": {
    "ExecuteTime": {
     "end_time": "2020-04-19T04:17:40.138211Z",
     "start_time": "2020-04-19T04:17:40.129616Z"
    }
   },
   "outputs": [],
   "source": [
    "class Interval:\n",
    "    def __init__(self, s=0, e=0):\n",
    "        self.start = s\n",
    "        self.end = e\n",
    "    \n",
    "    def __str__(self):\n",
    "        return \"[\" + self.start + \",\" + self.end + \"]\"\n",
    "    \n",
    "    def __repr__(self):\n",
    "        return \"[%s, %s]\" % (self.start, self.end)"
   ]
  },
  {
   "cell_type": "code",
   "execution_count": 92,
   "metadata": {
    "ExecuteTime": {
     "end_time": "2020-04-19T04:17:49.550448Z",
     "start_time": "2020-04-19T04:17:49.543158Z"
    }
   },
   "outputs": [],
   "source": [
    "def merge(intervals):\n",
    "    intervals.sort(key=lambda x: x.start)\n",
    "\n",
    "    merged = []\n",
    "    for interval in intervals:\n",
    "        # if the list of merged intervals is empty or if the current\n",
    "        # interval does not overlap with the previous, simply append it.\n",
    "        if not merged or merged[-1].end < interval.start:\n",
    "            merged.append(interval)\n",
    "        else:\n",
    "        # otherwise, there is overlap, so we merge the current and previous\n",
    "        # intervals.\n",
    "            merged[-1].end = max(merged[-1].end, interval.end)\n",
    "\n",
    "    return merged"
   ]
  },
  {
   "cell_type": "code",
   "execution_count": 93,
   "metadata": {
    "ExecuteTime": {
     "end_time": "2020-04-19T04:17:58.309821Z",
     "start_time": "2020-04-19T04:17:58.303579Z"
    }
   },
   "outputs": [
    {
     "name": "stdout",
     "output_type": "stream",
     "text": [
      "[[1, 6], [8, 10], [15, 18]]\n"
     ]
    }
   ],
   "source": [
    "i1 = Interval(1,3)\n",
    "i2 = Interval(2,6)\n",
    "i3 = Interval(8,10)\n",
    "i4 = Interval(15,18)\n",
    "intervals = [i1,i2,i3,i4]\n",
    "print(merge(intervals))"
   ]
  },
  {
   "cell_type": "code",
   "execution_count": 95,
   "metadata": {
    "ExecuteTime": {
     "end_time": "2020-04-19T04:18:17.243033Z",
     "start_time": "2020-04-19T04:18:17.229967Z"
    }
   },
   "outputs": [
    {
     "name": "stdout",
     "output_type": "stream",
     "text": [
      "[[1, 6]]\n"
     ]
    }
   ],
   "source": [
    "i1 = Interval(1,4)\n",
    "i2 = Interval(4,6)\n",
    "intervals = [i1,i2]\n",
    "print(merge(intervals))"
   ]
  },
  {
   "cell_type": "code",
   "execution_count": 94,
   "metadata": {
    "ExecuteTime": {
     "end_time": "2020-04-19T04:18:08.457709Z",
     "start_time": "2020-04-19T04:18:08.443383Z"
    }
   },
   "outputs": [
    {
     "name": "stdout",
     "output_type": "stream",
     "text": [
      "[[0, 9], [10, 11], [12, 20]]\n",
      "[[0, 9], [0, 1], [0, 2], [1, 9], [2, 5], [10, 11], [12, 20], [19, 20]]\n"
     ]
    }
   ],
   "source": [
    "i1 = Interval(1,9)\n",
    "i2 = Interval(2,5)\n",
    "i3 = Interval(19,20)\n",
    "i4 = Interval(10,11)\n",
    "i5 = Interval(12,20)\n",
    "i6 = Interval(0,3)\n",
    "i7 = Interval(0,1)\n",
    "i8 = Interval(0,2)\n",
    "intervals = [i1,i2,i3,i4,i5,i6,i7,i8]\n",
    "print(merge(intervals))\n",
    "\n",
    "intervals.sort(key=lambda x: x.start)\n",
    "print(intervals)"
   ]
  },
  {
   "cell_type": "markdown",
   "metadata": {},
   "source": [
    "## Ex.15: Insert Intervals\n",
    "    \n",
    "Given a set of non-overlapping intervals, insert a new interval into the intervals (merge if necessary).\n",
    "\n",
    "You may assume that the intervals were initially sorted according to their start times.\n",
    "\n",
    "<img src=\"../images/ch05/insertinterval.png\" width=\"580\"/>"
   ]
  },
  {
   "cell_type": "code",
   "execution_count": 96,
   "metadata": {
    "ExecuteTime": {
     "end_time": "2020-04-19T04:18:54.295185Z",
     "start_time": "2020-04-19T04:18:54.287708Z"
    }
   },
   "outputs": [],
   "source": [
    "def insert(intervals, newInterval):\n",
    "    merged = []\n",
    "    for i in intervals:\n",
    "        if newInterval is None or i.end < newInterval.start:\n",
    "            merged += i,\n",
    "        elif i.start > newInterval.end:\n",
    "            merged += newInterval,\n",
    "            merged += i,\n",
    "            newInterval = None\n",
    "        else:\n",
    "            newInterval.start = min(newInterval.start, i.start)\n",
    "            newInterval.end = max(newInterval.end, i.end)\n",
    "    if newInterval is not None:\n",
    "        merged += newInterval,\n",
    "    return merged"
   ]
  },
  {
   "cell_type": "code",
   "execution_count": 97,
   "metadata": {
    "ExecuteTime": {
     "end_time": "2020-04-19T04:19:01.501277Z",
     "start_time": "2020-04-19T04:19:01.493891Z"
    }
   },
   "outputs": [
    {
     "data": {
      "text/plain": [
       "[[1, 5], [6, 9]]"
      ]
     },
     "execution_count": 97,
     "metadata": {},
     "output_type": "execute_result"
    }
   ],
   "source": [
    "i1 = Interval(1,3)\n",
    "i2 = Interval(6,9)\n",
    "intervals = [i1,i2]\n",
    "new = Interval(2,5)\n",
    "insert(intervals, new)"
   ]
  },
  {
   "cell_type": "code",
   "execution_count": 98,
   "metadata": {
    "ExecuteTime": {
     "end_time": "2020-04-19T04:19:09.583140Z",
     "start_time": "2020-04-19T04:19:09.564830Z"
    }
   },
   "outputs": [
    {
     "data": {
      "text/plain": [
       "[[1, 2], [3, 10], [12, 16]]"
      ]
     },
     "execution_count": 98,
     "metadata": {},
     "output_type": "execute_result"
    }
   ],
   "source": [
    "i1 = Interval(1,2)\n",
    "i2 = Interval(3,5)\n",
    "i3 = Interval(6,7)\n",
    "i4 = Interval(8,10)\n",
    "i5 = Interval(12,16)\n",
    "intervals = [i1,i2,i3,i4,i5]\n",
    "new = Interval(4,8)\n",
    "insert(intervals, new)"
   ]
  },
  {
   "cell_type": "code",
   "execution_count": 99,
   "metadata": {
    "ExecuteTime": {
     "end_time": "2020-04-19T04:19:17.078813Z",
     "start_time": "2020-04-19T04:19:17.065344Z"
    }
   },
   "outputs": [],
   "source": [
    "def insert2(intervals, newInterval):\n",
    "    left, right = [], []\n",
    "    for i in intervals:\n",
    "        if i.end < newInterval.start:\n",
    "            left += i,\n",
    "        elif i.start > newInterval.end:\n",
    "            right += i,\n",
    "        else:\n",
    "            newInterval.start = min(newInterval.start, i.start)\n",
    "            newInterval.end = max(newInterval.end, i.end)\n",
    "    return left + [Interval(newInterval.start, newInterval.end)] + right"
   ]
  },
  {
   "cell_type": "code",
   "execution_count": 100,
   "metadata": {
    "ExecuteTime": {
     "end_time": "2020-04-19T04:19:23.718765Z",
     "start_time": "2020-04-19T04:19:23.708089Z"
    }
   },
   "outputs": [
    {
     "data": {
      "text/plain": [
       "[[1, 2], [3, 10], [12, 16]]"
      ]
     },
     "execution_count": 100,
     "metadata": {},
     "output_type": "execute_result"
    }
   ],
   "source": [
    "i1 = Interval(1,2)\n",
    "i2 = Interval(3,5)\n",
    "i3 = Interval(6,7)\n",
    "i4 = Interval(8,10)\n",
    "i5 = Interval(12,16)\n",
    "intervals = [i1,i2,i3,i4,i5]\n",
    "new = Interval(4,8)\n",
    "insert2(intervals, new)"
   ]
  },
  {
   "cell_type": "code",
   "execution_count": 101,
   "metadata": {
    "ExecuteTime": {
     "end_time": "2020-04-19T04:19:45.307541Z",
     "start_time": "2020-04-19T04:19:45.287384Z"
    }
   },
   "outputs": [],
   "source": [
    "def insert3(intervals, newInterval):\n",
    "    if len(intervals) == 0:\n",
    "        intervals += newInterval,\n",
    "    \n",
    "    startPos = searchPosition(intervals, newInterval.start)\n",
    "    endPos = searchPosition(intervals, newInterval.end)\n",
    "    \n",
    "    newStart = 0\n",
    "\n",
    "    # case 1:\n",
    "    # startPos\n",
    "    #           A\n",
    "    # |____|    |____|    |____|\n",
    "    #         <-  \n",
    "    #           startPos is less than A \n",
    "    # and intervals[startPos].end >= newInterval.start\n",
    "    # then \n",
    "    #   new     A\n",
    "    # |____|    |____|    |____|\n",
    "    #     <-  \n",
    "    # newInterval starts within ONE interval\n",
    "    # so newStart = intervals[startPos].start\n",
    "    if (startPos >= 0 and intervals[startPos].end >= newInterval.start):\n",
    "        newStart = intervals[startPos].start\n",
    "    else:\n",
    "        # case 2:\n",
    "        # startPos = -1\n",
    "        # A          \n",
    "        # |____|    |____|    |____|\n",
    "        # newInterval starts before 1st interval\n",
    "        # so newStart = newInterval.start\n",
    "\n",
    "        # case 3:\n",
    "        # startPos >= 0\n",
    "        # A    B          \n",
    "        # |____|    |____|    |____|\n",
    "        # newInterval starts between A and B\n",
    "        # so NOT intervals[startPos].end >= newInterval.start\n",
    "        # so newStart = newInterval.start         \n",
    "        newStart = newInterval.start\n",
    "        startPos += 1\n",
    "        \n",
    "    newEnd = 0\n",
    "    # case 1:\n",
    "    # endPos >= 0\n",
    "    # endPos\n",
    "    #           A\n",
    "    # |____|    |____|    |____|\n",
    "    #         <-  \n",
    "    #           endPos is less than A\n",
    "    # so newEnd = Math.max(newInterval.end, intervals.get(endPos).end)    \n",
    "    if (endPos >= 0):\n",
    "        newEnd = max(newInterval.end, intervals[endPos].end)\n",
    "    else:\n",
    "        # case 2:\n",
    "        # endPos < 0\n",
    "        # endPos\n",
    "        # A         \n",
    "        #     |____|    |____|    |____|\n",
    "        #            \n",
    "        # endPos is before 1st interval\n",
    "        # create a new interval        \n",
    "        newEnd = newInterval.end\n",
    "        \n",
    "    for i in range(startPos, endPos+1):\n",
    "        intervals.pop(startPos)  # note: NOT i, but startPos, since one element is removed.\n",
    "\n",
    "    intervals.insert(startPos, Interval(newStart, newEnd))\n",
    "    return intervals\n",
    "\n",
    "# return (actual insertion position - 1)\n",
    "def searchPosition(intervals, x):\n",
    "    start = 0\n",
    "    end = len(intervals) - 1\n",
    "    while (start <= end):\n",
    "        mid = start + (end - start) // 2\n",
    "        if (intervals[mid].start == x):\n",
    "            return mid\n",
    "        if (intervals[mid].start < x):\n",
    "            start = mid + 1\n",
    "        else:\n",
    "            end = mid - 1\n",
    "\n",
    "    return end"
   ]
  },
  {
   "cell_type": "code",
   "execution_count": 102,
   "metadata": {
    "ExecuteTime": {
     "end_time": "2020-04-19T04:19:51.603971Z",
     "start_time": "2020-04-19T04:19:51.594755Z"
    }
   },
   "outputs": [
    {
     "data": {
      "text/plain": [
       "[[1, 2], [3, 10], [12, 16]]"
      ]
     },
     "execution_count": 102,
     "metadata": {},
     "output_type": "execute_result"
    }
   ],
   "source": [
    "i1 = Interval(1,2)\n",
    "i2 = Interval(3,5)\n",
    "i3 = Interval(6,7)\n",
    "i4 = Interval(8,10)\n",
    "i5 = Interval(12,16)\n",
    "intervals = [i1,i2,i3,i4,i5]\n",
    "new = Interval(4,8)\n",
    "insert3(intervals, new)"
   ]
  },
  {
   "cell_type": "code",
   "execution_count": null,
   "metadata": {},
   "outputs": [],
   "source": []
  }
 ],
 "metadata": {
  "kernelspec": {
   "display_name": "Python36",
   "language": "python",
   "name": "python36"
  },
  "language_info": {
   "codemirror_mode": {
    "name": "ipython",
    "version": 3
   },
   "file_extension": ".py",
   "mimetype": "text/x-python",
   "name": "python",
   "nbconvert_exporter": "python",
   "pygments_lexer": "ipython3",
   "version": "3.6.10"
  },
  "toc": {
   "base_numbering": 1,
   "nav_menu": {},
   "number_sections": true,
   "sideBar": true,
   "skip_h1_title": false,
   "title_cell": "Table of Contents",
   "title_sidebar": "Contents",
   "toc_cell": false,
   "toc_position": {},
   "toc_section_display": true,
   "toc_window_display": true
  }
 },
 "nbformat": 4,
 "nbformat_minor": 2
}
