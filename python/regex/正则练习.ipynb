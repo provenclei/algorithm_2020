{
 "cells": [
  {
   "cell_type": "code",
   "execution_count": 1,
   "metadata": {
    "ExecuteTime": {
     "end_time": "2020-05-09T03:26:39.543052Z",
     "start_time": "2020-05-09T03:26:39.515322Z"
    }
   },
   "outputs": [
    {
     "name": "stdout",
     "output_type": "stream",
     "text": [
      "Pretty printing has been turned OFF\n"
     ]
    }
   ],
   "source": [
    "%config ZMQInteractiveShell.ast_node_interactivity='all'\n",
    "%pprint"
   ]
  },
  {
   "cell_type": "markdown",
   "metadata": {},
   "source": [
    "## re模块\n",
    "\n",
    "Python通过re模块提供对正则表达式的支持。\n",
    "\n",
    "使用re的一般步骤是\n",
    "\n",
    "1.将正则表达式的字符串形式编译为Pattern实例\n",
    "\n",
    "2.使用Pattern实例处理文本并获得匹配结果（一个Match实例）\n",
    "\n",
    "3.使用Match实例获得信息，进行其他的操作。"
   ]
  },
  {
   "cell_type": "code",
   "execution_count": 20,
   "metadata": {
    "ExecuteTime": {
     "end_time": "2020-05-11T02:53:02.293660Z",
     "start_time": "2020-05-11T02:53:02.274696Z"
    }
   },
   "outputs": [
    {
     "data": {
      "text/plain": [
       "<_sre.SRE_Match object; span=(0, 15), match='hello, tengeli!'>"
      ]
     },
     "execution_count": 20,
     "metadata": {},
     "output_type": "execute_result"
    },
    {
     "name": "stdout",
     "output_type": "stream",
     "text": [
      "hello, tengeli!\n"
     ]
    }
   ],
   "source": [
    "# encoding: UTF-8\n",
    "import re\n",
    "\n",
    "# 将正则表达式编译成Pattern对象\n",
    "pattern = re.compile(r'hello.*\\!')\n",
    "# 使用Pattern匹配文本，获得匹配结果，无法匹配时将返回None\n",
    "match = pattern.match('hello, tengeli! How are you?hello,tl~')\n",
    "match\n",
    "if match:\n",
    "    # 使用Match获得分组信息\n",
    "    print(match.group())"
   ]
  },
  {
   "cell_type": "markdown",
   "metadata": {},
   "source": [
    "**re.compile(strPattern[, flag]):**\n",
    "\n",
    "这个方法是Pattern类的工厂方法，用于将字符串形式的正则表达式编译为Pattern对象。 \n",
    "\n",
    "第二个参数flag是匹配模式，取值可以使用按位或运算符'|'表示同时生效，比如re.I | re.M。\n",
    "\n",
    "当然，你也可以在regex字符串中指定模式，比如**re.compile('pattern', re.I | re.M)**等价于**re.compile('(?im)pattern')** \n",
    "\n",
    "flag可选值有：\n",
    "\n",
    "* re.I(re.IGNORECASE): 忽略大小写（括号内是完整写法，下同）\n",
    "* re.M(MULTILINE): 多行模式，改变'^'和'$'的行为（参见上图）\n",
    "* re.S(DOTALL): 点任意匹配模式，改变'.'的行为\n",
    "* re.L(LOCALE): 使预定字符类 \\w \\W \\b \\B \\s \\S 取决于当前区域设定\n",
    "* re.U(UNICODE): 使预定字符类 \\w \\W \\b \\B \\s \\S \\d \\D 取决于unicode定义的字符属性\n",
    "* re.X(VERBOSE): 详细模式。这个模式下正则表达式可以是多行，忽略空白字符，并可以加入注释。以下两个正则表达式是等价的："
   ]
  },
  {
   "cell_type": "code",
   "execution_count": 21,
   "metadata": {
    "ExecuteTime": {
     "end_time": "2020-05-11T02:54:23.481048Z",
     "start_time": "2020-05-11T02:54:23.471504Z"
    }
   },
   "outputs": [],
   "source": [
    "regex_1 = re.compile(r\"\"\"\\d +  # 数字部分\n",
    "                         \\.    # 小数点部分\n",
    "                         \\d *  # 小数的数字部分\"\"\", re.X)\n",
    "regex_2 = re.compile(r\"\\d+\\.\\d*\")"
   ]
  },
  {
   "cell_type": "markdown",
   "metadata": {},
   "source": [
    "## Match\n",
    "Match对象是一次匹配的结果，包含了很多关于此次匹配的信息，可以使用Match提供的可读属性或方法来获取这些信息。\n",
    "\n",
    "**match属性：**\n",
    "\n",
    "* string: 匹配时使用的文本。\n",
    "* re: 匹配时使用的Pattern对象。\n",
    "* pos: 文本中正则表达式开始搜索的索引。值与Pattern.match()和Pattern.seach()方法的同名参数相同。\n",
    "* endpos: 文本中正则表达式结束搜索的索引。值与Pattern.match()和Pattern.seach()方法的同名参数相同。\n",
    "* lastindex: 最后一个被捕获的分组在文本中的索引。如果没有被捕获的分组，将为None。\n",
    "* lastgroup: 最后一个被捕获的分组的别名。如果这个分组没有别名或者没有被捕获的分组，将为None。\n",
    "\n",
    "**match方法：**\n",
    "\n",
    "* group([group1, …]): <br>\n",
    "获得一个或多个分组截获的字符串；指定多个参数时将以元组形式返回。group1可以使用编号也可以使用别名；编号0代表整个匹配的子串；不填写参数时，返回group(0)；没有截获字符串的组返回None；截获了多次的组返回最后一次截获的子串。\n",
    "* groups([default]): <br>\n",
    "以元组形式返回全部分组截获的字符串。相当于调用group(1,2,…last)。default表示没有截获字符串的组以这个值替代，默认为None。\n",
    "* groupdict([default]): <br>\n",
    "返回以有别名的组的别名为键、以该组截获的子串为值的字典，没有别名的组不包含在内。default含义同上。\n",
    "* start([group]): <br>\n",
    "返回指定的组截获的子串在string中的起始索引（子串第一个字符的索引）。group默认值为0。\n",
    "* end([group]): <br>\n",
    "返回指定的组截获的子串在string中的结束索引（子串最后一个字符的索引+1）。group默认值为0。\n",
    "* span([group]): <br>\n",
    "返回(start(group), end(group))。\n",
    "* expand(template): <br>\n",
    "将匹配到的分组代入template中然后返回。template中可以使用\\id或\\g<id>、\\g<name>引用分组，但不能使用编号0。\\id与\\g<id>是等价的；但\\10将被认为是第10个分组，如果你想表达\\1之后是字符'0'，只能使用\\g<1>0。"
   ]
  },
  {
   "cell_type": "code",
   "execution_count": 23,
   "metadata": {
    "ExecuteTime": {
     "end_time": "2020-05-11T03:04:06.212029Z",
     "start_time": "2020-05-11T03:04:06.194897Z"
    }
   },
   "outputs": [
    {
     "name": "stdout",
     "output_type": "stream",
     "text": [
      "m.string: hello tenglei!hello tl~\n",
      "m.re: re.compile('(\\\\w+) (\\\\w+)(?P<sign>.*)')\n",
      "m.pos: 0\n",
      "m.endpos: 23\n",
      "m.lastindex: 3\n",
      "m.lastgroup: sign\n",
      "m.group(1,2): ('hello', 'tenglei')\n",
      "m.groups(): ('hello', 'tenglei', '!hello tl~')\n",
      "m.groupdict(): {'sign': '!hello tl~'}\n",
      "m.start(2): 6\n",
      "m.end(2): 13\n",
      "m.span(2): (6, 13)\n",
      "m.expand(r'\\2 \\1\\3'): tenglei hello!hello tl~\n"
     ]
    }
   ],
   "source": [
    "m = re.match(r'(\\w+) (\\w+)(?P<sign>.*)', 'hello tenglei!hello tl~')\n",
    " \n",
    "print(\"m.string:\", m.string)\n",
    "print(\"m.re:\", m.re)\n",
    "print(\"m.pos:\", m.pos)\n",
    "print(\"m.endpos:\", m.endpos)\n",
    "print(\"m.lastindex:\", m.lastindex)\n",
    "print(\"m.lastgroup:\", m.lastgroup)\n",
    " \n",
    "print(\"m.group(1,2):\", m.group(1, 2))\n",
    "print(\"m.groups():\", m.groups())\n",
    "print(\"m.groupdict():\", m.groupdict())\n",
    "print(\"m.start(2):\", m.start(2))\n",
    "print(\"m.end(2):\", m.end(2))\n",
    "print(\"m.span(2):\", m.span(2))\n",
    "print(r\"m.expand(r'\\2 \\1\\3'):\", m.expand(r'\\2 \\1\\3'))"
   ]
  },
  {
   "cell_type": "markdown",
   "metadata": {},
   "source": [
    "## Pattern\n",
    "\n",
    "Pattern对象是一个编译好的正则表达式，通过Pattern提供的一系列方法可以对文本进行匹配查找。\n",
    "\n",
    "Pattern不能直接实例化，必须使用re.compile()进行构造。\n",
    "\n",
    "Pattern提供了几个可读属性用于获取表达式的相关信息：\n",
    "* pattern: 编译时用的表达式字符串。\n",
    "* flags: 编译时用的匹配模式。数字形式。\n",
    "* groups: 表达式中分组的数量。\n",
    "* groupindex: 以表达式中有别名的组的别名为键、以该组对应的编号为值的字典，没有别名的组不包含在内。"
   ]
  },
  {
   "cell_type": "code",
   "execution_count": 24,
   "metadata": {
    "ExecuteTime": {
     "end_time": "2020-05-11T03:08:42.963544Z",
     "start_time": "2020-05-11T03:08:42.955694Z"
    }
   },
   "outputs": [
    {
     "name": "stdout",
     "output_type": "stream",
     "text": [
      "p.pattern: (\\w+) (\\w+)(?P<sign>.*)\n",
      "p.flags: 48\n",
      "p.groups: 3\n",
      "p.groupindex: {'sign': 3}\n"
     ]
    }
   ],
   "source": [
    "# DOTALL模式下，“.”能够匹配换行符在内的任意字符。\n",
    "p = re.compile(r'(\\w+) (\\w+)(?P<sign>.*)', re.DOTALL)\n",
    "print(\"p.pattern:\", p.pattern)\n",
    "print(\"p.flags:\", p.flags)\n",
    "print(\"p.groups:\", p.groups)\n",
    "print(\"p.groupindex:\", p.groupindex)"
   ]
  },
  {
   "cell_type": "code",
   "execution_count": 14,
   "metadata": {
    "ExecuteTime": {
     "end_time": "2020-05-11T02:46:30.834357Z",
     "start_time": "2020-05-11T02:46:30.816679Z"
    }
   },
   "outputs": [],
   "source": [
    "# 匹配所有中文\n",
    "pattern = re.compile(r'[\\u4e00-\\u9fa5]')"
   ]
  },
  {
   "cell_type": "markdown",
   "metadata": {},
   "source": [
    "## pattern匹配与替换\n",
    "\n",
    "* **match(string[, pos[, endpos]]) | re.match(pattern, string[, flags])**: <br>\n",
    "**这个方法将从string的pos下标处起尝试匹配pattern**:\n",
    "    * 如果pattern结束时仍可匹配，则返回一个Match对象\n",
    "    * 如果匹配过程中pattern无法匹配，或者匹配未结束就已到达endpos，则返回None。 \n",
    "    * pos和endpos的默认值分别为0和len(string)。 <br>\n",
    "    **注意：这个方法并不是完全匹配。当pattern结束时若string还有剩余字符，仍然视为成功。想要完全匹配，可以在表达式末尾加上边界匹配符'$'。 **\n",
    "\n",
    "\n",
    "* **search(string[, pos[, endpos]]) | re.search(pattern, string[, flags])**: <br>\n",
    "**这个方法从string的pos下标处起尝试匹配pattern**\n",
    "    * 如果pattern结束时仍可匹配，则返回一个Match对象\n",
    "    * 若无法匹配，则将pos加1后重新尝试匹配，直到pos=endpos时仍无法匹配则返回None。 \n",
    "    * pos和endpos的默认值分别为0和len(string))"
   ]
  },
  {
   "cell_type": "code",
   "execution_count": 32,
   "metadata": {
    "ExecuteTime": {
     "end_time": "2020-05-11T03:13:46.462445Z",
     "start_time": "2020-05-11T03:13:46.453558Z"
    }
   },
   "outputs": [
    {
     "name": "stdout",
     "output_type": "stream",
     "text": [
      "Tenglei\n"
     ]
    }
   ],
   "source": [
    "# 将正则表达式编译成Pattern对象 \n",
    "pattern = re.compile(r'T.*i') \n",
    " \n",
    "# 使用search()查找匹配的子串，不存在能匹配的子串时将返回None \n",
    "# 这个例子中使用match()无法成功匹配 \n",
    "match = pattern.search('hello Tenglei!') \n",
    "\n",
    "if match: \n",
    "    # 使用Match获得分组信息 \n",
    "    print(match.group())"
   ]
  },
  {
   "cell_type": "code",
   "execution_count": 33,
   "metadata": {
    "ExecuteTime": {
     "end_time": "2020-05-11T03:19:38.291800Z",
     "start_time": "2020-05-11T03:19:38.286173Z"
    }
   },
   "outputs": [],
   "source": [
    "# 将正则表达式编译成Pattern对象 \n",
    "pattern = re.compile(r'T.*i') \n",
    " \n",
    "# 使用search()查找匹配的子串，不存在能匹配的子串时将返回None \n",
    "# 这个例子中使用match()无法成功匹配 \n",
    "match = pattern.match('hello Tenglei!') \n",
    "\n",
    "if match: \n",
    "    # 使用Match获得分组信息 \n",
    "    print(match.group())"
   ]
  },
  {
   "cell_type": "markdown",
   "metadata": {},
   "source": [
    "## 完全匹配和不完全匹配"
   ]
  },
  {
   "cell_type": "code",
   "execution_count": 34,
   "metadata": {
    "ExecuteTime": {
     "end_time": "2020-05-11T03:22:38.752447Z",
     "start_time": "2020-05-11T03:22:38.742034Z"
    }
   },
   "outputs": [
    {
     "data": {
      "text/plain": [
       "'hello'"
      ]
     },
     "execution_count": 34,
     "metadata": {},
     "output_type": "execute_result"
    },
    {
     "data": {
      "text/plain": [
       "(0, 5)"
      ]
     },
     "execution_count": 34,
     "metadata": {},
     "output_type": "execute_result"
    }
   ],
   "source": [
    "# 不完全匹配\n",
    "pattern = re.compile(r'hello') \n",
    "match = pattern.match('hello Hanxiaoyang! hello') \n",
    "\n",
    "if match: \n",
    "    # 使用Match获得分组信息 \n",
    "    match.group()\n",
    "    match.span()"
   ]
  },
  {
   "cell_type": "code",
   "execution_count": 39,
   "metadata": {
    "ExecuteTime": {
     "end_time": "2020-05-11T03:23:50.035269Z",
     "start_time": "2020-05-11T03:23:50.011315Z"
    }
   },
   "outputs": [
    {
     "data": {
      "text/plain": [
       "'hello'"
      ]
     },
     "execution_count": 39,
     "metadata": {},
     "output_type": "execute_result"
    },
    {
     "data": {
      "text/plain": [
       "(20, 25)"
      ]
     },
     "execution_count": 39,
     "metadata": {},
     "output_type": "execute_result"
    }
   ],
   "source": [
    "pattern = re.compile(r'hello$')\n",
    "search = pattern.search('ahello Hanxiaoyang! hello')\n",
    "if search:\n",
    "    search.group()\n",
    "    search.span()"
   ]
  },
  {
   "cell_type": "markdown",
   "metadata": {
    "ExecuteTime": {
     "end_time": "2020-05-11T03:26:15.347246Z",
     "start_time": "2020-05-11T03:26:15.343141Z"
    }
   },
   "source": [
    "## Pattern的其他方法"
   ]
  },
  {
   "cell_type": "markdown",
   "metadata": {
    "ExecuteTime": {
     "end_time": "2020-05-11T03:26:21.644445Z",
     "start_time": "2020-05-11T03:26:21.634773Z"
    }
   },
   "source": [
    "* **split(string[, maxsplit]) | re.split(pattern, string[, maxsplit]):** \n",
    "    * 按照能够匹配的子串将string分割后返回列表。\n",
    "    * maxsplit用于指定最大分割次数，不指定将全部分割。 "
   ]
  },
  {
   "cell_type": "code",
   "execution_count": 42,
   "metadata": {
    "ExecuteTime": {
     "end_time": "2020-05-11T03:26:49.285523Z",
     "start_time": "2020-05-11T03:26:49.278155Z"
    }
   },
   "outputs": [
    {
     "data": {
      "text/plain": [
       "['one', 'two', 'three', 'four', '']"
      ]
     },
     "execution_count": 42,
     "metadata": {},
     "output_type": "execute_result"
    }
   ],
   "source": [
    "p = re.compile(r'\\d+')\n",
    "p.split('one12306two2three3four4')"
   ]
  },
  {
   "cell_type": "markdown",
   "metadata": {},
   "source": [
    "* **findall(string[, pos[, endpos]]) | re.findall(pattern, string[, flags])**: \n",
    "    * 搜索string，以列表形式返回全部能匹配的子串。"
   ]
  },
  {
   "cell_type": "code",
   "execution_count": 43,
   "metadata": {
    "ExecuteTime": {
     "end_time": "2020-05-11T03:34:19.727053Z",
     "start_time": "2020-05-11T03:34:19.717350Z"
    }
   },
   "outputs": [
    {
     "data": {
      "text/plain": [
       "['12306', '2', '3', '4']"
      ]
     },
     "execution_count": 43,
     "metadata": {},
     "output_type": "execute_result"
    }
   ],
   "source": [
    "p = re.compile(r'\\d+')\n",
    "p.findall('one12306two2three3four4')"
   ]
  },
  {
   "cell_type": "markdown",
   "metadata": {},
   "source": [
    "* ** finditer(string[, pos[, endpos]]) | re.finditer(pattern, string[, flags])**:\n",
    "    * 搜索string，返回一个顺序访问每一个匹配结果（Match对象）的**迭代器**。 "
   ]
  },
  {
   "cell_type": "code",
   "execution_count": 44,
   "metadata": {
    "ExecuteTime": {
     "end_time": "2020-05-11T03:34:48.706178Z",
     "start_time": "2020-05-11T03:34:48.692547Z"
    }
   },
   "outputs": [
    {
     "data": {
      "text/plain": [
       "'1'"
      ]
     },
     "execution_count": 44,
     "metadata": {},
     "output_type": "execute_result"
    },
    {
     "data": {
      "text/plain": [
       "'2'"
      ]
     },
     "execution_count": 44,
     "metadata": {},
     "output_type": "execute_result"
    },
    {
     "data": {
      "text/plain": [
       "'3'"
      ]
     },
     "execution_count": 44,
     "metadata": {},
     "output_type": "execute_result"
    },
    {
     "data": {
      "text/plain": [
       "'4'"
      ]
     },
     "execution_count": 44,
     "metadata": {},
     "output_type": "execute_result"
    }
   ],
   "source": [
    "p = re.compile(r'\\d+')\n",
    "for m in p.finditer('one1two2three3four4'):\n",
    "    m.group()"
   ]
  },
  {
   "cell_type": "markdown",
   "metadata": {},
   "source": [
    "* **sub(repl, string[, count]) | re.sub(pattern, repl, string[, count]): **\n",
    "    * 使用repl替换string中每一个匹配的子串后返回替换后的字符串。 \n",
    "        * 当repl是一个字符串时，可以使用\\id或\\g<id>、\\g<name>引用分组，但不能使用编号0。 \n",
    "        * 当repl是一个方法时，这个方法应当只接受一个参数（Match对象），并返回一个字符串用于替换（返回的字符串中不能再引用分组）。 \n",
    "count用于指定最多替换次数，不指定时全部替换。"
   ]
  },
  {
   "cell_type": "code",
   "execution_count": 47,
   "metadata": {
    "ExecuteTime": {
     "end_time": "2020-05-11T03:40:47.591078Z",
     "start_time": "2020-05-11T03:40:47.564280Z"
    }
   },
   "outputs": [
    {
     "data": {
      "text/plain": [
       "'say i, hanxiaoyang hello!'"
      ]
     },
     "execution_count": 47,
     "metadata": {},
     "output_type": "execute_result"
    },
    {
     "data": {
      "text/plain": [
       "'I Say, Hello Hanxiaoyang!'"
      ]
     },
     "execution_count": 47,
     "metadata": {},
     "output_type": "execute_result"
    }
   ],
   "source": [
    "p = re.compile(r'(\\w+) (\\w+)')\n",
    "s = 'i say, hello hanxiaoyang!'\n",
    " \n",
    "p.sub(r'\\2 \\1', s)\n",
    " \n",
    "def func(m):\n",
    "    # title():首字母大写\n",
    "    return m.group(1).title() + ' ' + m.group(2).title()\n",
    " \n",
    "p.sub(func, s)"
   ]
  },
  {
   "cell_type": "markdown",
   "metadata": {},
   "source": [
    "* **subn(repl, string[, count]) |re.sub(pattern, repl, string[, count]): **\n",
    "    * 返回 (sub(repl, string[, count]), 替换次数)。"
   ]
  },
  {
   "cell_type": "code",
   "execution_count": 49,
   "metadata": {
    "ExecuteTime": {
     "end_time": "2020-05-11T03:44:58.424665Z",
     "start_time": "2020-05-11T03:44:58.411009Z"
    }
   },
   "outputs": [
    {
     "data": {
      "text/plain": [
       "('say i, hanxiaoyang hello!', 2)"
      ]
     },
     "execution_count": 49,
     "metadata": {},
     "output_type": "execute_result"
    },
    {
     "data": {
      "text/plain": [
       "('I%Say, Hello%Hanxiaoyang!', 2)"
      ]
     },
     "execution_count": 49,
     "metadata": {},
     "output_type": "execute_result"
    }
   ],
   "source": [
    "p = re.compile(r'(\\w+) (\\w+)')\n",
    "s = 'i say, hello hanxiaoyang!'\n",
    " \n",
    "p.subn(r'\\2 \\1', s)\n",
    " \n",
    "def func(m):\n",
    "    return m.group(1).title() + '%' + m.group(2).title()\n",
    " \n",
    "p.subn(func, s)"
   ]
  },
  {
   "cell_type": "code",
   "execution_count": null,
   "metadata": {},
   "outputs": [],
   "source": []
  },
  {
   "cell_type": "code",
   "execution_count": null,
   "metadata": {},
   "outputs": [],
   "source": []
  },
  {
   "cell_type": "code",
   "execution_count": null,
   "metadata": {},
   "outputs": [],
   "source": []
  },
  {
   "cell_type": "code",
   "execution_count": null,
   "metadata": {},
   "outputs": [],
   "source": []
  },
  {
   "cell_type": "code",
   "execution_count": null,
   "metadata": {},
   "outputs": [],
   "source": []
  },
  {
   "cell_type": "markdown",
   "metadata": {},
   "source": [
    "## 练习"
   ]
  },
  {
   "cell_type": "code",
   "execution_count": 55,
   "metadata": {
    "ExecuteTime": {
     "end_time": "2020-05-11T03:50:52.374233Z",
     "start_time": "2020-05-11T03:50:52.366511Z"
    }
   },
   "outputs": [
    {
     "data": {
      "text/plain": [
       "'abcabc'"
      ]
     },
     "execution_count": 55,
     "metadata": {},
     "output_type": "execute_result"
    }
   ],
   "source": [
    "re.search(r'(abc){2}', 'abcabc').group()"
   ]
  },
  {
   "cell_type": "code",
   "execution_count": 61,
   "metadata": {
    "ExecuteTime": {
     "end_time": "2020-05-11T03:52:25.038013Z",
     "start_time": "2020-05-11T03:52:25.030875Z"
    }
   },
   "outputs": [
    {
     "data": {
      "text/plain": [
       "'xyz'"
      ]
     },
     "execution_count": 61,
     "metadata": {},
     "output_type": "execute_result"
    }
   ],
   "source": [
    "re.search(r'(abc|xyz)', 'axyzabc').group()"
   ]
  },
  {
   "cell_type": "code",
   "execution_count": 62,
   "metadata": {
    "ExecuteTime": {
     "end_time": "2020-05-11T03:53:50.780334Z",
     "start_time": "2020-05-11T03:53:50.770474Z"
    }
   },
   "outputs": [
    {
     "data": {
      "text/plain": [
       "'abcabc'"
      ]
     },
     "execution_count": 62,
     "metadata": {},
     "output_type": "execute_result"
    }
   ],
   "source": [
    "re.search(r'(?:abc){2}', 'abcabc').group()"
   ]
  },
  {
   "cell_type": "code",
   "execution_count": 63,
   "metadata": {
    "ExecuteTime": {
     "end_time": "2020-05-11T03:54:40.518321Z",
     "start_time": "2020-05-11T03:54:40.507040Z"
    }
   },
   "outputs": [
    {
     "name": "stderr",
     "output_type": "stream",
     "text": [
      "/Users/tenglei/opt/anaconda3/envs/Python36/lib/python3.6/site-packages/ipykernel_launcher.py:1: DeprecationWarning: Flags not at the start of the expression '((?i)abc){2}'\n",
      "  \"\"\"Entry point for launching an IPython kernel.\n"
     ]
    },
    {
     "data": {
      "text/plain": [
       "'aBcAbc'"
      ]
     },
     "execution_count": 63,
     "metadata": {},
     "output_type": "execute_result"
    }
   ],
   "source": [
    "re.search(r'((?i)abc){2}', 'aBcAbc').group() # 忽略大小写"
   ]
  },
  {
   "cell_type": "code",
   "execution_count": 68,
   "metadata": {
    "ExecuteTime": {
     "end_time": "2020-05-11T03:57:35.207459Z",
     "start_time": "2020-05-11T03:57:35.200683Z"
    }
   },
   "outputs": [
    {
     "data": {
      "text/plain": [
       "'abcabc'"
      ]
     },
     "execution_count": 68,
     "metadata": {},
     "output_type": "execute_result"
    }
   ],
   "source": [
    "re.search(r'(abc(?# 这是注释)){2}', 'abcabc').group()"
   ]
  },
  {
   "cell_type": "code",
   "execution_count": 70,
   "metadata": {
    "ExecuteTime": {
     "end_time": "2020-05-11T03:59:47.501603Z",
     "start_time": "2020-05-11T03:59:47.493791Z"
    }
   },
   "outputs": [
    {
     "data": {
      "text/plain": [
       "'a'"
      ]
     },
     "execution_count": 70,
     "metadata": {},
     "output_type": "execute_result"
    }
   ],
   "source": [
    "re.search(r'a(?=bc)', 'abc').group() # 后面=bc才能匹配a"
   ]
  },
  {
   "cell_type": "code",
   "execution_count": 71,
   "metadata": {
    "ExecuteTime": {
     "end_time": "2020-05-11T04:00:59.902438Z",
     "start_time": "2020-05-11T04:00:59.894582Z"
    }
   },
   "outputs": [
    {
     "data": {
      "text/plain": [
       "'a'"
      ]
     },
     "execution_count": 71,
     "metadata": {},
     "output_type": "execute_result"
    }
   ],
   "source": [
    "re.search(r'a(?!bc)', 'abf').group() # 后面不=bc才能匹配a"
   ]
  },
  {
   "cell_type": "code",
   "execution_count": 73,
   "metadata": {
    "ExecuteTime": {
     "end_time": "2020-05-11T04:01:47.494309Z",
     "start_time": "2020-05-11T04:01:47.486478Z"
    }
   },
   "outputs": [
    {
     "data": {
      "text/plain": [
       "'a'"
      ]
     },
     "execution_count": 73,
     "metadata": {},
     "output_type": "execute_result"
    }
   ],
   "source": [
    "re.search(r'(?<=bc)a', 'bca').group() # 前面=bc才能匹配a"
   ]
  },
  {
   "cell_type": "code",
   "execution_count": 74,
   "metadata": {
    "ExecuteTime": {
     "end_time": "2020-05-11T04:02:25.503058Z",
     "start_time": "2020-05-11T04:02:25.495061Z"
    }
   },
   "outputs": [
    {
     "data": {
      "text/plain": [
       "'a'"
      ]
     },
     "execution_count": 74,
     "metadata": {},
     "output_type": "execute_result"
    }
   ],
   "source": [
    "re.search(r'(?<!bc)a', 'nva').group() # 前面不=bc才能匹配a"
   ]
  },
  {
   "cell_type": "code",
   "execution_count": 160,
   "metadata": {
    "ExecuteTime": {
     "end_time": "2020-05-12T03:59:47.172744Z",
     "start_time": "2020-05-12T03:59:47.162211Z"
    }
   },
   "outputs": [
    {
     "name": "stdout",
     "output_type": "stream",
     "text": [
      "[('听说普拉颂（青岛）牧业科技有限公司', '普拉颂')]\n",
      "[('刚刚东风汽车集团有限公司', '东风汽车')]\n",
      "[]\n",
      "[]\n",
      "[]\n",
      "[]\n"
     ]
    }
   ],
   "source": [
    "# patten = re.compile(r'有限公司.*简称(?P<jc>.*)）')\n",
    "# patten = re.compile(r'(?P<jc>.*)有限公司.*简称.*）')\n",
    "patten = re.compile(r'(?P<qc>.*)（.*简称(?P<jc>.*)）')\n",
    "\n",
    "# patten = re.compile(r'.*(?P<jc>.*).*有限公司.*简称(?P=jc).*）')\n",
    "\n",
    "# 使用Pattern匹配文本，获得匹配结果，无法匹配时将返回None\n",
    "with open('../doc/data.txt', 'r', encoding='utf-8') as fi, open('../doc/recognization.txt', 'w', encoding='utf-8') as fo:\n",
    "    for line in fi:\n",
    "        if not line.strip():\n",
    "            continue\n",
    "        re_lst = patten.findall(line)\n",
    "#         if len(re_lst) != 0:\n",
    "        print(re_lst)"
   ]
  },
  {
   "cell_type": "code",
   "execution_count": 98,
   "metadata": {
    "ExecuteTime": {
     "end_time": "2020-05-11T08:49:33.809473Z",
     "start_time": "2020-05-11T08:49:33.802172Z"
    }
   },
   "outputs": [
    {
     "data": {
      "text/plain": [
       "'the'"
      ]
     },
     "execution_count": 98,
     "metadata": {},
     "output_type": "execute_result"
    }
   ],
   "source": [
    "re.search(r'the\\Z', 'there,the').group() # 判断是否以the结尾"
   ]
  },
  {
   "cell_type": "code",
   "execution_count": 103,
   "metadata": {
    "ExecuteTime": {
     "end_time": "2020-05-11T08:54:47.864829Z",
     "start_time": "2020-05-11T08:54:47.856182Z"
    }
   },
   "outputs": [
    {
     "name": "stdout",
     "output_type": "stream",
     "text": [
      "not find\n"
     ]
    }
   ],
   "source": [
    "m = re.search(r'the\\b', 'mytheaa') # 英文中，字母加结束符，\\b和\\B相反\n",
    "if m is not None:\n",
    "    print(m.group())\n",
    "else:\n",
    "    print('not find')"
   ]
  },
  {
   "cell_type": "code",
   "execution_count": 104,
   "metadata": {
    "ExecuteTime": {
     "end_time": "2020-05-11T08:56:49.667215Z",
     "start_time": "2020-05-11T08:56:49.660656Z"
    }
   },
   "outputs": [
    {
     "name": "stdout",
     "output_type": "stream",
     "text": [
      "the\n"
     ]
    }
   ],
   "source": [
    "m = re.search(r'the\\B', 'mytheaa') # \\b挖结束词，\\B挖中间词\n",
    "if m is not None:\n",
    "    print(m.group())\n",
    "else:\n",
    "    print('not find')"
   ]
  },
  {
   "cell_type": "markdown",
   "metadata": {},
   "source": [
    "## 贪婪与非贪婪"
   ]
  },
  {
   "cell_type": "code",
   "execution_count": 107,
   "metadata": {
    "ExecuteTime": {
     "end_time": "2020-05-11T09:06:33.916696Z",
     "start_time": "2020-05-11T09:06:33.910440Z"
    }
   },
   "outputs": [
    {
     "name": "stdout",
     "output_type": "stream",
     "text": [
      "('8833000', '')\n",
      "('8833', '000')\n"
     ]
    }
   ],
   "source": [
    "print(re.match('^(\\d+)(0*)$', '8833000').groups())\n",
    "print(re.match('^(\\d+?)(0*)$', '8833000').groups())"
   ]
  },
  {
   "cell_type": "markdown",
   "metadata": {},
   "source": [
    "## 挖掘标签"
   ]
  },
  {
   "cell_type": "code",
   "execution_count": 116,
   "metadata": {
    "ExecuteTime": {
     "end_time": "2020-05-11T09:21:26.761627Z",
     "start_time": "2020-05-11T09:21:26.740140Z"
    }
   },
   "outputs": [
    {
     "name": "stdout",
     "output_type": "stream",
     "text": [
      "<title>hello word</title>\n",
      "<title>hello word</title>\n"
     ]
    }
   ],
   "source": [
    "mystr = '<title>hello word</title>'\n",
    "res1 = re.match('<[a-zA-Z]*>.*</[a-zA-Z]*>', mystr)\n",
    "print(res1.group())\n",
    "\n",
    "res2 = re.match('<([a-zA-Z]*)>.*</\\\\1>', mystr)\n",
    "print(res2.group())"
   ]
  },
  {
   "cell_type": "code",
   "execution_count": 119,
   "metadata": {
    "ExecuteTime": {
     "end_time": "2020-05-12T02:33:16.305272Z",
     "start_time": "2020-05-12T02:33:16.298270Z"
    }
   },
   "outputs": [
    {
     "name": "stdout",
     "output_type": "stream",
     "text": [
      "<title>百度一下，你就知道</title>\n",
      "<body><title>百度一下，你就知道</title></body>\n"
     ]
    }
   ],
   "source": [
    "# 标签对称\n",
    "mystr = '<title>百度一下，你就知道</title>'\n",
    "res1 = re.match('<(\\w*)>.*</\\\\1>', mystr)\n",
    "print(res1.group())\n",
    "\n",
    "mystr2 = '<body><title>百度一下，你就知道</title></body>'\n",
    "res2 = re.match('<(\\w*)><(\\w*)>.*</\\\\2></\\\\1>', mystr2)\n",
    "print(res2.group())"
   ]
  },
  {
   "cell_type": "code",
   "execution_count": 121,
   "metadata": {
    "ExecuteTime": {
     "end_time": "2020-05-12T02:37:57.745913Z",
     "start_time": "2020-05-12T02:37:57.738331Z"
    }
   },
   "outputs": [
    {
     "name": "stdout",
     "output_type": "stream",
     "text": [
      "<body><title>百度一下，你就知道</title></body>\n"
     ]
    }
   ],
   "source": [
    "# 标签名称\n",
    "mystr2 = '<body><title>百度一下，你就知道</title></body>'\n",
    "res2 = re.match('<(?P<body>\\w*)><(?P<title>\\w*)>.*</(?P=title)></(?P=body)>', mystr2)\n",
    "print(res2.group())"
   ]
  },
  {
   "cell_type": "markdown",
   "metadata": {
    "ExecuteTime": {
     "end_time": "2020-05-12T15:12:15.067780Z",
     "start_time": "2020-05-12T15:12:15.064771Z"
    }
   },
   "source": [
    "## 常见的正则表达式"
   ]
  },
  {
   "cell_type": "code",
   "execution_count": 164,
   "metadata": {
    "ExecuteTime": {
     "end_time": "2020-05-12T15:14:36.024391Z",
     "start_time": "2020-05-12T15:14:36.016788Z"
    }
   },
   "outputs": [
    {
     "name": "stdout",
     "output_type": "stream",
     "text": [
      "694383804\n"
     ]
    }
   ],
   "source": [
    "# QQ\n",
    "m = re.search(r\"^[1-9](\\d{4,10})$\", \"694383804\")\n",
    "if m is not None:\n",
    "    print(m.group())\n",
    "else:\n",
    "    print(None)"
   ]
  },
  {
   "cell_type": "code",
   "execution_count": 167,
   "metadata": {
    "ExecuteTime": {
     "end_time": "2020-05-12T15:16:03.892367Z",
     "start_time": "2020-05-12T15:16:03.886053Z"
    }
   },
   "outputs": [
    {
     "name": "stdout",
     "output_type": "stream",
     "text": [
      "19969252064\n"
     ]
    }
   ],
   "source": [
    "# 手机\n",
    "m = re.search(r\"^1[345789](\\d{9})$\", \"19969252064\")\n",
    "if m is not None:\n",
    "    print(m.group())\n",
    "else:\n",
    "    print(None)"
   ]
  },
  {
   "cell_type": "code",
   "execution_count": 168,
   "metadata": {
    "ExecuteTime": {
     "end_time": "2020-05-12T15:18:28.315218Z",
     "start_time": "2020-05-12T15:18:28.307445Z"
    }
   },
   "outputs": [
    {
     "name": "stdout",
     "output_type": "stream",
     "text": [
      "010-12345678\n"
     ]
    }
   ],
   "source": [
    "# 固定电话\n",
    "# 0571-12345678 010-12345678\n",
    "m = re.search(r\"^0[1-9](\\d{1,2})-[1-9](\\d{6,7})$\", \"010-12345678\")\n",
    "if m is not None:\n",
    "    print(m.group())\n",
    "else:\n",
    "    print(None)"
   ]
  },
  {
   "cell_type": "code",
   "execution_count": 170,
   "metadata": {
    "ExecuteTime": {
     "end_time": "2020-05-12T15:23:16.109149Z",
     "start_time": "2020-05-12T15:23:16.103165Z"
    }
   },
   "outputs": [
    {
     "name": "stdout",
     "output_type": "stream",
     "text": [
      "tl9319\n"
     ]
    }
   ],
   "source": [
    "# 用户名\n",
    "m = re.search(r\"^[a-zA-Z][a-zA-Z0-9]{0,9}$\", \"tl9319\")\n",
    "if m is not None:\n",
    "    print(m.group())\n",
    "else:\n",
    "    print(None)"
   ]
  },
  {
   "cell_type": "code",
   "execution_count": 171,
   "metadata": {
    "ExecuteTime": {
     "end_time": "2020-05-12T15:24:00.393798Z",
     "start_time": "2020-05-12T15:24:00.386558Z"
    }
   },
   "outputs": [
    {
     "name": "stdout",
     "output_type": "stream",
     "text": [
      "123545\n"
     ]
    }
   ],
   "source": [
    "# 密码\n",
    "m = re.search(r\"^.{6,16}$\", \"123545\")\n",
    "if m is not None:\n",
    "    print(m.group())\n",
    "else:\n",
    "    print(None)"
   ]
  },
  {
   "cell_type": "code",
   "execution_count": 175,
   "metadata": {
    "ExecuteTime": {
     "end_time": "2020-05-12T15:47:07.819994Z",
     "start_time": "2020-05-12T15:47:07.810776Z"
    }
   },
   "outputs": [
    {
     "name": "stdout",
     "output_type": "stream",
     "text": [
      "127.0.0.1\n"
     ]
    }
   ],
   "source": [
    "# ip\n",
    "# 0-9      \\d\n",
    "# 10-99    [1-9]\\d\n",
    "# 100-199  1(\\d){2}\n",
    "# 200-249  2[0-4]\\d\n",
    "# 250-255  25[0-5]\n",
    "m = re.search(r\"^((\\d|[1-9]\\d|1(\\d){2}|2[0-4]\\d|25[0-5]).){3}(\\d|[1-9\\d|1(\\d){2}|2[0-4]\\d|25[0-5]])$\", \"127.0.0.1\")\n",
    "if m is not None:\n",
    "    print(m.group())\n",
    "else:\n",
    "    print(None)"
   ]
  },
  {
   "cell_type": "code",
   "execution_count": 179,
   "metadata": {
    "ExecuteTime": {
     "end_time": "2020-05-12T15:49:16.603347Z",
     "start_time": "2020-05-12T15:49:16.593614Z"
    }
   },
   "outputs": [
    {
     "name": "stdout",
     "output_type": "stream",
     "text": [
      "tl9319@163.com\n"
     ]
    }
   ],
   "source": [
    "# 邮箱\n",
    "m = re.search(r\"^\\w(.|_|\\w)+@\\w+(.\\w+){1,3}$\", \"tl9319@163.com\")\n",
    "if m is not None:\n",
    "    print(m.group())\n",
    "else:\n",
    "    print(None)"
   ]
  },
  {
   "cell_type": "code",
   "execution_count": null,
   "metadata": {},
   "outputs": [],
   "source": []
  }
 ],
 "metadata": {
  "kernelspec": {
   "display_name": "Python36",
   "language": "python",
   "name": "python36"
  },
  "language_info": {
   "codemirror_mode": {
    "name": "ipython",
    "version": 3
   },
   "file_extension": ".py",
   "mimetype": "text/x-python",
   "name": "python",
   "nbconvert_exporter": "python",
   "pygments_lexer": "ipython3",
   "version": "3.6.10"
  },
  "toc": {
   "base_numbering": 1,
   "nav_menu": {},
   "number_sections": true,
   "sideBar": true,
   "skip_h1_title": false,
   "title_cell": "Table of Contents",
   "title_sidebar": "Contents",
   "toc_cell": false,
   "toc_position": {},
   "toc_section_display": true,
   "toc_window_display": false
  }
 },
 "nbformat": 4,
 "nbformat_minor": 2
}
