{
 "cells": [
  {
   "cell_type": "markdown",
   "metadata": {},
   "source": [
    "## 动态数组（ArrayList）\n",
    "\n",
    "### 抽象数据结构（DTA）\n",
    "数据抽象画步骤：\n",
    "1. 确定要操作的数据元素\n",
    "2. 确定对数据元素进行的操作\n",
    "3. 对操作定义良好的接口\n",
    "4. 完成对象\n",
    "\n",
    "### 抽象数据结构：列表的操作\n",
    "\n",
    "1. 创建一个空列表\n",
    "2. 确定此列表是否为空\n",
    "3. 确定列表中项目个数\n",
    "4. 在列表中给定位置添加项目 \n",
    "5. 在列表中给定位置删除元素 \n",
    "6. 删除列表中所有元素\n",
    "7. 获取列表中给定位置的项目 \n",
    "8. 其他操作?\n",
    "\n",
    "| 操作 | 对应时间复杂度 |\n",
    "|------|-------------|\n",
    "| append | o(1) |\n",
    "| insert | o(n) |\n",
    "| pop | o(1) |\n",
    "| delete | o(n) |\n",
    "| in/find | o(n) |\n",
    "\n",
    ">注意：\n",
    ">1. 当存储空间满了之后，需要重新分配存储空间，这时append操作的复杂度为o(n)，但是基于平均时间复杂度，append操作复杂度为o(1)。\n",
    ">2. 注意append和delete操作元素的顺序（不要覆盖元素信息）。\n",
    "\n",
    "### 动态数组和静态数组的区别\n",
    "数组：\n",
    "1. 存储在连续的存储空间\n",
    "2. 存储长度固定\n",
    "3. 索引从0开始\n",
    "4. 边界检查\n",
    "\n",
    "相同点：\n",
    ">1. 在内存中开辟的空间是连续的，并且顺序存储数据。\n",
    ">2. 任意顺序访问，可变大小的列表或字典数据结构允许增加删除元素。\n",
    "\n",
    "不同点：\n",
    "> 动态数组的存储空间可以改变"
   ]
  },
  {
   "cell_type": "markdown",
   "metadata": {},
   "source": [
    "## Python中的Array vs. List\n",
    "\n",
    "### Array Module -  Sequence of fixed-type data\n",
    "\n",
    "The array module defines a sequence data structure that looks very much like a list except that all of the members have to be of the same type. The types supported are all numeric or other fixed-size primitive types such as bytes.\n",
    "\n",
    "A computer system will have a huge number of bytes of memory, and to keep track of what information is stored in what byte, the computer uses an abstraction known as a memory address. In effect, each byte of memory is associated with a unique number that serves as its address (more formally, the binary representation of the number serves as the address). In this way, the computer system can refer to the data in “byte #2150” versus the data in “byte #2157,” for example. Memory addresses are typically coordinated with the physical layout of the memory system, and so we often portray the numbers in sequential fashion.\n",
    "\n",
    "<img src=\"../images/ch02/memory.jpg\" width=\"500\"/> \n",
    "\n",
    "Array, a group of related variables can be stored one after another in a <B><I>contiguous</I></B> portion of the computer’s memory. \n",
    "<img src=\"../images/ch02/memorystr.jpg\" width=\"500\"/>\n",
    "\n",
    "We describe this as an array of six characters, even though it requires 12 bytes of memory. We will refer to each location within an array as a cell, and will use an integer index to describe its location within the array, with cells numbered starting with 0, 1, 2, and so on.\n",
    "\n",
    "Each cell of an array must use the same number of bytes. This requirement is what allows an arbitrary cell of the array to be accessed in <B><I>constant time</I></B> based on its index.\n",
    "\n",
    "The appropriate memory address can be computed using the calculation, start + cellsize index\n",
    "\n",
    "For example, cell 4 begins at memory location 2146 + 2 · 4 = 2146 + 8 = 2154\n",
    "\n",
    "<img src=\"../images/ch02/arraysimple.jpg\" width=\"160\"/>\n",
    "\n",
    "In below example, the array is configured to hold a sequence of bytes and is initialized with a simple string."
   ]
  },
  {
   "cell_type": "code",
   "execution_count": 6,
   "metadata": {
    "ExecuteTime": {
     "end_time": "2020-03-31T02:42:17.111959Z",
     "start_time": "2020-03-31T02:42:17.105860Z"
    }
   },
   "outputs": [
    {
     "name": "stdout",
     "output_type": "stream",
     "text": [
      "As string: sample\n",
      "As array : array('u', 'sample')\n"
     ]
    }
   ],
   "source": [
    "import array\n",
    "\n",
    "s = 'sample' \n",
    "a = array.array('u', s)\n",
    "\n",
    "print('As string:', s)\n",
    "print('As array :', a)"
   ]
  },
  {
   "cell_type": "code",
   "execution_count": 7,
   "metadata": {
    "ExecuteTime": {
     "end_time": "2020-03-31T02:42:19.498500Z",
     "start_time": "2020-03-31T02:42:19.490468Z"
    }
   },
   "outputs": [],
   "source": [
    "? array.array"
   ]
  },
  {
   "cell_type": "code",
   "execution_count": 8,
   "metadata": {
    "ExecuteTime": {
     "end_time": "2020-03-31T02:42:23.143928Z",
     "start_time": "2020-03-31T02:42:23.134654Z"
    }
   },
   "outputs": [
    {
     "data": {
      "text/plain": [
       "6"
      ]
     },
     "execution_count": 8,
     "metadata": {},
     "output_type": "execute_result"
    }
   ],
   "source": [
    "len(a)"
   ]
  },
  {
   "cell_type": "code",
   "execution_count": 9,
   "metadata": {
    "ExecuteTime": {
     "end_time": "2020-03-31T02:42:25.164934Z",
     "start_time": "2020-03-31T02:42:25.153887Z"
    }
   },
   "outputs": [
    {
     "data": {
      "text/plain": [
       "4"
      ]
     },
     "execution_count": 9,
     "metadata": {},
     "output_type": "execute_result"
    }
   ],
   "source": [
    "# 数组中每个元素占4个字节\n",
    "a.itemsize"
   ]
  },
  {
   "cell_type": "markdown",
   "metadata": {},
   "source": [
    "How about string? We want to store a list of people in array, however, people's names have different length. \n",
    "\n",
    "Python represents a list or tuple instance using an internal storage mechanism of an array of object references. At the lowest level, what is stored is a consecutive sequence of memory addresses at which the elements of the sequence reside. A high-level diagram of such a list is shown below:\n",
    "\n",
    "<img src=\"../images/ch02/memorystrings.JPG\" width=\"420\"/>\n",
    "\n",
    "Although the relative size of the individual elements may vary, the number of bits used to store the memory address of each element is fixed (e.g., 64-bits per address). In this way, Python can support constant-time access to a list or tuple element based on its index.\n",
    "\n",
    "注意：\n",
    "> A single list instance may include multiple references to the same object as elements of the list, and it is possible for a single object to be an element of two or more lists, as those lists simply store references back to that object. As an example, when you compute a slice of a list, the result is a new list instance, but that new list has references to the same elements that are in the original list.\n",
    "\n",
    "<img src=\"../images/ch02/listslice.JPG\" width=\"360\"/>"
   ]
  },
  {
   "cell_type": "code",
   "execution_count": 11,
   "metadata": {
    "ExecuteTime": {
     "end_time": "2020-03-31T02:50:01.931849Z",
     "start_time": "2020-03-31T02:50:01.924253Z"
    }
   },
   "outputs": [
    {
     "name": "stdout",
     "output_type": "stream",
     "text": [
      "[0, 1, 2, 3, 4, 5, 6, 7, 8]\n",
      "[3, 4, 5, 6]\n",
      "[0, 1, 2, 3, 4, 5, 6, 7, 8]\n",
      "[-1, 4, 5, 6]\n"
     ]
    }
   ],
   "source": [
    "# 数组切片会 make a copy\n",
    "a = list(range(0, 9))\n",
    "print(a)\n",
    "b = a[3:7]\n",
    "print(b)\n",
    "\n",
    "b[0] = -1\n",
    "print(a)\n",
    "print(b)"
   ]
  },
  {
   "cell_type": "code",
   "execution_count": 13,
   "metadata": {
    "ExecuteTime": {
     "end_time": "2020-03-31T02:50:30.090782Z",
     "start_time": "2020-03-31T02:50:29.085433Z"
    }
   },
   "outputs": [
    {
     "name": "stdout",
     "output_type": "stream",
     "text": [
      "[0 1 2 3 4 5 6 7 8 9]\n",
      "[3 4 5 6]\n",
      "[ 0  1  2 -1  4  5  6  7  8  9]\n",
      "[-1  4  5  6]\n",
      "[-1  4  5  6]\n",
      "[ 0  1  2 -1  4  5  6  7  8  9]\n",
      "[-1 -2  5  6]\n"
     ]
    }
   ],
   "source": [
    "import numpy as np\n",
    "\n",
    "# 但是在 numpy 中不会\n",
    "a = np.arange(10)\n",
    "print(a)\n",
    "b = a[3:7]\n",
    "print(b)\n",
    "\n",
    "b[0] = -1\n",
    "print(a)\n",
    "print(b)\n",
    "\n",
    "b = a[3:7].copy()\n",
    "print(b)\n",
    "b[1] = -2\n",
    "print(a)\n",
    "print(b)"
   ]
  },
  {
   "cell_type": "markdown",
   "metadata": {},
   "source": [
    "### Shallow Copy vs. Deep Copy\n",
    "\n",
    "<img src=\"../images/ch02/shallow1.JPG\" width=\"300\"/>\n",
    "<img src=\"../images/ch02/shallow2.JPG\" width=\"240\"/>"
   ]
  },
  {
   "cell_type": "code",
   "execution_count": 14,
   "metadata": {
    "ExecuteTime": {
     "end_time": "2020-03-31T02:53:02.575401Z",
     "start_time": "2020-03-31T02:53:02.567928Z"
    }
   },
   "outputs": [
    {
     "data": {
      "text/plain": [
       "[0, 0, 1, 0, 0, 0, 0, 0]"
      ]
     },
     "execution_count": 14,
     "metadata": {},
     "output_type": "execute_result"
    }
   ],
   "source": [
    "a = [0] * 8\n",
    "a[2] = 1\n",
    "a"
   ]
  },
  {
   "cell_type": "code",
   "execution_count": 15,
   "metadata": {
    "ExecuteTime": {
     "end_time": "2020-03-31T02:53:16.456872Z",
     "start_time": "2020-03-31T02:53:16.446644Z"
    }
   },
   "outputs": [
    {
     "data": {
      "text/plain": [
       "[[9, 0, 0, 0, 0, 0, 0, 0],\n",
       " [9, 0, 0, 0, 0, 0, 0, 0],\n",
       " [9, 0, 0, 0, 0, 0, 0, 0],\n",
       " [9, 0, 0, 0, 0, 0, 0, 0],\n",
       " [9, 0, 0, 0, 0, 0, 0, 0],\n",
       " [9, 0, 0, 0, 0, 0, 0, 0],\n",
       " [9, 0, 0, 0, 0, 0, 0, 0],\n",
       " [9, 0, 0, 0, 0, 0, 0, 0]]"
      ]
     },
     "execution_count": 15,
     "metadata": {},
     "output_type": "execute_result"
    }
   ],
   "source": [
    "a = [[0] * 8] * 8\n",
    "a[0][0] = 9\n",
    "a"
   ]
  },
  {
   "cell_type": "markdown",
   "metadata": {},
   "source": [
    "<img src=\"../images/ch02/shallow3.JPG\" width=\"240\"/>\n",
    "\n",
    "The correct representation should be like this:\n",
    "<img src=\"../images/ch02/shallow4.JPG\" width=\"380\"/>\n",
    "\n",
    "To properly initialize a two-dimensional list, we must ensure that each cell of the primary list refers to an independent instance of a secondary list. This can be accomplished through the use of Python’s list comprehension syntax."
   ]
  },
  {
   "cell_type": "code",
   "execution_count": 19,
   "metadata": {
    "ExecuteTime": {
     "end_time": "2020-03-31T03:02:51.529822Z",
     "start_time": "2020-03-31T03:02:51.518535Z"
    }
   },
   "outputs": [
    {
     "data": {
      "text/plain": [
       "[[9, 0, 0, 0, 0, 0, 0, 0],\n",
       " [0, 0, 0, 0, 0, 0, 0, 0],\n",
       " [0, 0, 0, 0, 0, 0, 0, 0],\n",
       " [0, 0, 0, 0, 0, 0, 0, 0],\n",
       " [0, 0, 0, 0, 0, 0, 0, 0],\n",
       " [0, 0, 0, 0, 0, 0, 0, 0],\n",
       " [0, 0, 0, 0, 0, 0, 0, 0],\n",
       " [0, 0, 0, 0, 0, 0, 0, 0]]"
      ]
     },
     "execution_count": 19,
     "metadata": {},
     "output_type": "execute_result"
    }
   ],
   "source": [
    "a = [[i]*8 for i in [0] * 8]\n",
    "a[0][0] = 9\n",
    "a"
   ]
  },
  {
   "cell_type": "code",
   "execution_count": 20,
   "metadata": {
    "ExecuteTime": {
     "end_time": "2020-03-31T03:03:29.309039Z",
     "start_time": "2020-03-31T03:03:29.298075Z"
    }
   },
   "outputs": [
    {
     "data": {
      "text/plain": [
       "[[0, 0], [0, 0], [0, 0]]"
      ]
     },
     "execution_count": 20,
     "metadata": {},
     "output_type": "execute_result"
    }
   ],
   "source": [
    "m, n = 3, 2\n",
    "data = [ [0] * n for j in range(m) ]\n",
    "data"
   ]
  },
  {
   "cell_type": "markdown",
   "metadata": {},
   "source": [
    "### Extend Array\n",
    "An array can be extended and otherwise manipulated in the same ways as other Python sequences."
   ]
  },
  {
   "cell_type": "code",
   "execution_count": 21,
   "metadata": {
    "ExecuteTime": {
     "end_time": "2020-03-31T03:07:37.166599Z",
     "start_time": "2020-03-31T03:07:37.155757Z"
    }
   },
   "outputs": [
    {
     "name": "stdout",
     "output_type": "stream",
     "text": [
      "Initial : array('i', [0, 1, 2, 3, 4])\n",
      "Extended: array('i', [0, 1, 2, 3, 4, 0, 1, 2, 3, 4])\n",
      "Slice   : array('i', [3, 4, 0])\n",
      "Iterator: [(0, 0), (1, 1), (2, 2), (3, 3), (4, 4), (5, 0), (6, 1), (7, 2), (8, 3), (9, 4)]\n",
      "<class 'array.array'>\n",
      "10\n"
     ]
    }
   ],
   "source": [
    "a = array.array('i', range(5))\n",
    "print('Initial :', a)\n",
    "\n",
    "a.extend(range(5))\n",
    "print('Extended:', a)\n",
    "\n",
    "print('Slice   :', a[3:6])\n",
    "\n",
    "print('Iterator:', list(enumerate(a)))\n",
    "\n",
    "print(type(a))\n",
    "print(len(a))"
   ]
  },
  {
   "cell_type": "code",
   "execution_count": 22,
   "metadata": {
    "ExecuteTime": {
     "end_time": "2020-03-31T03:07:46.264321Z",
     "start_time": "2020-03-31T03:07:46.255814Z"
    }
   },
   "outputs": [
    {
     "name": "stdout",
     "output_type": "stream",
     "text": [
      "array('B', [0, 1, 2, 3, 4, 5, 6, 7, 8, 9, 10, 11, 12, 13, 14, 15])\n",
      "b'\\x00\\x01\\x02\\x03\\x04\\x05\\x06\\x07\\x08\\t\\n\\x0b\\x0c\\r\\x0e\\x0f'\n",
      "array('h', [-8, -7, -6, -5, -4, -3, -2, -1, 0, 1, 2, 3, 4, 5, 6, 7, 8])\n",
      "b'\\xf8\\xff\\xf9\\xff\\xfa\\xff\\xfb\\xff\\xfc\\xff\\xfd\\xff\\xfe\\xff\\xff\\xff\\x00\\x00\\x01\\x00\\x02\\x00\\x03\\x00\\x04\\x00\\x05\\x00\\x06\\x00\\x07\\x00\\x08\\x00'\n"
     ]
    }
   ],
   "source": [
    "a = array.array(\"B\", range(16)) # unsigned char\n",
    "b = array.array(\"h\", range(-8,9)) # signed short\n",
    "\n",
    "# repr:将对象转化为供解释器读取的形式。\n",
    "print(a)\n",
    "print(repr(a.tostring()))\n",
    "\n",
    "print(b)\n",
    "print(repr(b.tostring()))"
   ]
  },
  {
   "cell_type": "markdown",
   "metadata": {},
   "source": [
    "### List\n",
    "\n",
    "String is a sequence of characters, list is a sequece of object. Use list when the order of objects matters a lot.\n",
    "\n",
    "- ADT List Operations\n",
    "    - Create an empty list\n",
    "    - Determine whether the list is empty\n",
    "    - Determine the number of items in a list\n",
    "    - Add an item at given position in a list\n",
    "    - Remove the item at a given position in a list\n",
    "    - Remove all the items from a list\n",
    "    - Get the item at a given position in a list\n",
    "    - Other operations?\n",
    "    \n",
    "<img src=\"../images/ch02/list.png\" width=\"680\"/>\n",
    "\n",
    "<img src=\"../images/ch02/list2.png\" width=\"300\"/>\n",
    "\n",
    "<img src=\"../images/ch02/list3.png\" width=\"300\"/>   "
   ]
  },
  {
   "cell_type": "code",
   "execution_count": 23,
   "metadata": {
    "ExecuteTime": {
     "end_time": "2020-03-31T03:14:30.271972Z",
     "start_time": "2020-03-31T03:14:30.263886Z"
    }
   },
   "outputs": [
    {
     "data": {
      "text/plain": [
       "3"
      ]
     },
     "execution_count": 23,
     "metadata": {},
     "output_type": "execute_result"
    }
   ],
   "source": [
    "fruits = ['orange', 'apple', 'pear', 'banana', 'kiwi', 'apple', 'banana']\n",
    "fruits.index('banana')"
   ]
  },
  {
   "cell_type": "code",
   "execution_count": 24,
   "metadata": {
    "ExecuteTime": {
     "end_time": "2020-03-31T03:14:54.799545Z",
     "start_time": "2020-03-31T03:14:54.790907Z"
    }
   },
   "outputs": [
    {
     "data": {
      "text/plain": [
       "6"
      ]
     },
     "execution_count": 24,
     "metadata": {},
     "output_type": "execute_result"
    }
   ],
   "source": [
    "fruits.index('banana', 4)"
   ]
  },
  {
   "cell_type": "code",
   "execution_count": 27,
   "metadata": {
    "ExecuteTime": {
     "end_time": "2020-03-31T03:20:36.803324Z",
     "start_time": "2020-03-31T03:20:36.792179Z"
    }
   },
   "outputs": [
    {
     "data": {
      "text/plain": [
       "['orange', 'apple', 'pear', 'banana', 'kiwi', 'apple', 'banana']"
      ]
     },
     "execution_count": 27,
     "metadata": {},
     "output_type": "execute_result"
    }
   ],
   "source": [
    "fruits.reverse()\n",
    "fruits"
   ]
  },
  {
   "cell_type": "code",
   "execution_count": 29,
   "metadata": {
    "ExecuteTime": {
     "end_time": "2020-03-31T03:32:08.642007Z",
     "start_time": "2020-03-31T03:32:08.630698Z"
    }
   },
   "outputs": [
    {
     "data": {
      "text/plain": [
       "['orange', 'apple', 'pear', 'banana', 'kiwi', 'apple', 'banana', 'grape']"
      ]
     },
     "execution_count": 29,
     "metadata": {},
     "output_type": "execute_result"
    }
   ],
   "source": [
    "fruits.append('grape')\n",
    "fruits"
   ]
  },
  {
   "cell_type": "code",
   "execution_count": 30,
   "metadata": {
    "ExecuteTime": {
     "end_time": "2020-03-31T03:32:16.668492Z",
     "start_time": "2020-03-31T03:32:16.658847Z"
    }
   },
   "outputs": [
    {
     "data": {
      "text/plain": [
       "['apple', 'apple', 'banana', 'banana', 'grape', 'kiwi', 'orange', 'pear']"
      ]
     },
     "execution_count": 30,
     "metadata": {},
     "output_type": "execute_result"
    }
   ],
   "source": [
    "fruits.sort()\n",
    "fruits"
   ]
  },
  {
   "cell_type": "code",
   "execution_count": 31,
   "metadata": {
    "ExecuteTime": {
     "end_time": "2020-03-31T03:32:31.862588Z",
     "start_time": "2020-03-31T03:32:31.853899Z"
    }
   },
   "outputs": [
    {
     "data": {
      "text/plain": [
       "[0, 1, 4, 9, 16, 25, 36, 49, 64, 81]"
      ]
     },
     "execution_count": 31,
     "metadata": {},
     "output_type": "execute_result"
    }
   ],
   "source": [
    "squares = []\n",
    "for x in range(10):\n",
    "    squares.append(x**2)\n",
    "squares"
   ]
  },
  {
   "cell_type": "code",
   "execution_count": 32,
   "metadata": {
    "ExecuteTime": {
     "end_time": "2020-03-31T03:33:22.703819Z",
     "start_time": "2020-03-31T03:33:22.695663Z"
    }
   },
   "outputs": [
    {
     "data": {
      "text/plain": [
       "[0, 1, 4, 9, 16, 25, 36, 49, 64, 81]"
      ]
     },
     "execution_count": 32,
     "metadata": {},
     "output_type": "execute_result"
    }
   ],
   "source": [
    "squares = [x**2 for x in range(10)]\n",
    "squares"
   ]
  },
  {
   "cell_type": "code",
   "execution_count": 33,
   "metadata": {
    "ExecuteTime": {
     "end_time": "2020-03-31T03:33:25.658617Z",
     "start_time": "2020-03-31T03:33:25.650632Z"
    }
   },
   "outputs": [
    {
     "data": {
      "text/plain": [
       "[(1, 3), (1, 4), (2, 3), (2, 1), (2, 4), (3, 1), (3, 4)]"
      ]
     },
     "execution_count": 33,
     "metadata": {},
     "output_type": "execute_result"
    }
   ],
   "source": [
    "[(x, y) for x in [1,2,3] for y in [3,1,4] if x != y]"
   ]
  },
  {
   "cell_type": "code",
   "execution_count": 34,
   "metadata": {
    "ExecuteTime": {
     "end_time": "2020-03-31T03:34:03.767554Z",
     "start_time": "2020-03-31T03:34:03.759687Z"
    }
   },
   "outputs": [
    {
     "data": {
      "text/plain": [
       "[-8, -4, 0, 4, 8]"
      ]
     },
     "execution_count": 34,
     "metadata": {},
     "output_type": "execute_result"
    }
   ],
   "source": [
    "vec = [-4, -2, 0, 2, 4]\n",
    "[x*2 for x in vec]"
   ]
  },
  {
   "cell_type": "code",
   "execution_count": 51,
   "metadata": {
    "ExecuteTime": {
     "end_time": "2020-03-31T06:36:42.278303Z",
     "start_time": "2020-03-31T06:36:42.268549Z"
    }
   },
   "outputs": [
    {
     "data": {
      "text/plain": [
       "[[1, 5, 9], [2, 6, 10], [3, 7, 11], [4, 8, 12]]"
      ]
     },
     "execution_count": 51,
     "metadata": {},
     "output_type": "execute_result"
    }
   ],
   "source": [
    "matrix = [\n",
    "   [1, 2, 3, 4],\n",
    "   [5, 6, 7, 8],\n",
    "   [9, 10, 11, 12],\n",
    "]\n",
    "[[row[i] for row in matrix] for i in range(4)]"
   ]
  },
  {
   "cell_type": "code",
   "execution_count": 54,
   "metadata": {
    "ExecuteTime": {
     "end_time": "2020-03-31T06:38:23.466220Z",
     "start_time": "2020-03-31T06:38:23.456725Z"
    }
   },
   "outputs": [
    {
     "data": {
      "text/plain": [
       "[[1, 5, 9], [2, 6, 10], [3, 7, 11], [4, 8, 12]]"
      ]
     },
     "execution_count": 54,
     "metadata": {},
     "output_type": "execute_result"
    }
   ],
   "source": [
    "# 二维矩阵reshape\n",
    "def reshape(matrix):\n",
    "    m = np.array(matrix)\n",
    "    return [[row[i] for row in matrix] for i in range(m.shape[-1])]\n",
    "reshape(matrix)"
   ]
  },
  {
   "cell_type": "markdown",
   "metadata": {},
   "source": [
    "## 设计自己的动态数组"
   ]
  },
  {
   "cell_type": "code",
   "execution_count": 85,
   "metadata": {
    "ExecuteTime": {
     "end_time": "2020-03-31T12:55:06.033121Z",
     "start_time": "2020-03-31T12:55:06.018319Z"
    }
   },
   "outputs": [],
   "source": [
    "import ctypes\n",
    "\n",
    "class DynamicArray:\n",
    "    def __init__(self):\n",
    "        self._n = 0  # size\n",
    "        self._capacity = 10\n",
    "        self._A = self._make_array(self._capacity)\n",
    "    \n",
    "    def _make_array(self, c):\n",
    "        return (c * ctypes.py_object)()\n",
    "    \n",
    "    # len(list)\n",
    "    def __len__(self):\n",
    "        return self._n\n",
    "    \n",
    "    def is_empty(self):\n",
    "        return self._n == 0\n",
    "    \n",
    "    def __getitem__(self, k):\n",
    "        return self._A[k]\n",
    "    \n",
    "    def append(self, v):\n",
    "        if self._n == self._capacity:\n",
    "            self._resize(2 * self._capacity)\n",
    "        self._A[self._n] = v\n",
    "        self._n += 1\n",
    "    \n",
    "    def _resize(self, c):\n",
    "        B = self._make_array(c)\n",
    "        for i in range(self._n):\n",
    "            B[i] = self._A[i]\n",
    "        self._A = B\n",
    "        self._capacity = c\n",
    "    \n",
    "    def _print(self):\n",
    "        for i in range(self._n):\n",
    "            print(self._A[i], end=\" \")\n",
    "        print()\n",
    "        \n",
    "    # O(n)\n",
    "    def insert(self, k, value):\n",
    "        if self._n == self._capacity:\n",
    "            self._resize(2 * self._capacity)\n",
    "        for j in range(self._n, k, -1):\n",
    "            self._A[j] = self._A[j-1]\n",
    "        self._A[k] = value\n",
    "        self._n += 1\n",
    "    \n",
    "    # O(n)\n",
    "    def remove(self, value):\n",
    "        for i in range(self._n):\n",
    "            if self._A[i] == value:\n",
    "                for j in range(i, self._n-1):\n",
    "                    self._A[j] = self._A[j+1]\n",
    "                self._A[self._n - 1] = None\n",
    "                self._n -= 1\n",
    "                return\n",
    "        raise ValueError(\"value not found\")\n",
    "    \n",
    "    # O(1)\n",
    "    def pop(self):\n",
    "        if self._n == 0:\n",
    "            return\n",
    "        self._A[self._n - 1] = None\n",
    "        self._n -= 1"
   ]
  },
  {
   "cell_type": "code",
   "execution_count": 87,
   "metadata": {
    "ExecuteTime": {
     "end_time": "2020-03-31T12:55:25.036048Z",
     "start_time": "2020-03-31T12:55:25.026325Z"
    }
   },
   "outputs": [
    {
     "name": "stdout",
     "output_type": "stream",
     "text": [
      "size was:  0\n",
      "0 5 10 15 20 30 \n",
      "0 5 10 15 30 \n",
      "0 5 10 15 \n",
      "size is:  4\n"
     ]
    }
   ],
   "source": [
    "mylist = DynamicArray()\n",
    "print ('size was: ', str(len(mylist)))\n",
    "mylist.append(10)\n",
    "mylist.append(20)\n",
    "mylist.append(30)\n",
    "mylist.insert(0, 0)\n",
    "mylist.insert(1, 5)\n",
    "mylist.insert(3, 15)\n",
    "mylist._print()\n",
    "\n",
    "mylist.remove(20)\n",
    "mylist._print()\n",
    "\n",
    "mylist.pop()\n",
    "mylist._print()\n",
    "\n",
    "print ('size is: ', str(len(mylist)))"
   ]
  },
  {
   "cell_type": "markdown",
   "metadata": {},
   "source": [
    "## 相关题目"
   ]
  },
  {
   "cell_type": "markdown",
   "metadata": {},
   "source": [
    "### Ex1：挖雷游戏\n",
    "\n",
    "我们来写一个小程序：\n",
    "\n",
    "<img src=\"../images/ch02/mine.jpg\" width=\"200\"/> \n",
    "\n",
    "程序接收三个参数，M，N和p，然后生成一个M * N的矩阵，然后每一个cell有p的概率是地雷。生成矩阵后，再计算出每一个cell周围地雷的数量。"
   ]
  },
  {
   "cell_type": "code",
   "execution_count": 27,
   "metadata": {
    "ExecuteTime": {
     "end_time": "2020-04-01T03:08:07.587790Z",
     "start_time": "2020-04-01T03:08:07.576352Z"
    }
   },
   "outputs": [],
   "source": [
    "import random\n",
    "\n",
    "def minesweeper(m, n, p):\n",
    "    board = [[None]*(n+2) for i in range(m+2)]\n",
    "    \n",
    "#     for i in range(1, m + 1):\n",
    "#         for j in range(1, n + 1):\n",
    "#             r = random.random()\n",
    "#             board[i][j] = -1 if r < p else 0\n",
    "\n",
    "#     for i in range(1, m + 1):\n",
    "#         for j in range(1, n + 1):\n",
    "#             print(\"*\", end=\" \") if board[i][j] == -1 else print(\".\", end=\" \")\n",
    "#         print()\n",
    "        \n",
    "    for i in range(1, m + 1):\n",
    "        for j in range(1, n + 1):\n",
    "            r = random.random()\n",
    "            board[i][j] = -1 if r < p else 0\n",
    "            print('*', end=\" \") if board[i][j] == -1 else print('.', end=\" \")\n",
    "        print()\n",
    "    \n",
    "    for i in range(1, m + 1):\n",
    "        for j in range(1, n + 1):\n",
    "            if board[i][j] != -1:\n",
    "                for ii in range(i - 1, i + 2):\n",
    "                    for jj in range(j - 1, j + 2):\n",
    "                        board[i][j] += 1 if board[ii][jj] == -1 else 0\n",
    "    \n",
    "    print()\n",
    "    for i in range(1, m + 1):\n",
    "        for j in range(1, n + 1):\n",
    "            print(\"*\", end=\" \") if board[i][j] == -1 else print(board[i][j], end=\" \")\n",
    "        print()"
   ]
  },
  {
   "cell_type": "code",
   "execution_count": 28,
   "metadata": {
    "ExecuteTime": {
     "end_time": "2020-04-01T03:08:10.393218Z",
     "start_time": "2020-04-01T03:08:10.384800Z"
    }
   },
   "outputs": [
    {
     "name": "stdout",
     "output_type": "stream",
     "text": [
      ". . . . * . . . . . \n",
      ". . . . * . . . . . \n",
      "* . * * * * . . . . \n",
      ". . . . . . . . . . \n",
      ". . * . . . . . . * \n",
      "\n",
      "0 0 0 2 * 2 0 0 0 0 \n",
      "1 2 2 5 * 4 1 0 0 0 \n",
      "* 2 * * * * 1 0 0 0 \n",
      "1 3 3 4 3 2 1 0 1 1 \n",
      "0 1 * 1 0 0 0 0 1 * \n"
     ]
    }
   ],
   "source": [
    "minesweeper(5, 10, 0.2)"
   ]
  },
  {
   "cell_type": "markdown",
   "metadata": {},
   "source": [
    "### Ex2：矩阵0变换\n",
    "给一个m×n的矩阵，如果有一个元素为0，则把该元素对应的行与列所有元素全部变成0。"
   ]
  },
  {
   "cell_type": "code",
   "execution_count": 32,
   "metadata": {
    "ExecuteTime": {
     "end_time": "2020-04-01T04:09:53.089325Z",
     "start_time": "2020-04-01T04:09:53.081835Z"
    }
   },
   "outputs": [],
   "source": [
    "def zero(matrix):\n",
    "    m = [None] * len(matrix)\n",
    "    n = [None] * len(matrix[0])\n",
    "    for i in range(len(matrix)):\n",
    "        for j in range(len(matrix[0])):\n",
    "            if matrix[i][j] == 0:\n",
    "                m[i] = 1\n",
    "                n[j] = 1\n",
    "    for i in range(len(matrix)):\n",
    "        for j in range(len(matrix[0])):\n",
    "            if (m[i] == 1 or n[j] == 1):\n",
    "                matrix[i][j] = 0"
   ]
  },
  {
   "cell_type": "code",
   "execution_count": 29,
   "metadata": {
    "ExecuteTime": {
     "end_time": "2020-04-01T04:02:35.517625Z",
     "start_time": "2020-04-01T04:02:35.509851Z"
    }
   },
   "outputs": [
    {
     "name": "stdout",
     "output_type": "stream",
     "text": [
      "[1, 1, 1, 1, 1, 0, 1, 1, 1, 1]\n",
      "[1, 1, 1, 1, 1, 1, 1, 1, 1, 1]\n",
      "[1, 1, 0, 1, 1, 1, 1, 1, 1, 1]\n",
      "[1, 1, 1, 1, 1, 1, 1, 1, 1, 1]\n",
      "[1, 1, 1, 1, 1, 1, 1, 1, 1, 1]\n"
     ]
    }
   ],
   "source": [
    "matrix = [  [ 1, 1, 1, 1, 1, 0, 1, 1, 1, 1 ],\n",
    "            [ 1, 1, 1, 1, 1, 1, 1, 1, 1, 1 ],\n",
    "            [ 1, 1, 0, 1, 1, 1, 1, 1, 1, 1 ],\n",
    "            [ 1, 1, 1, 1, 1, 1, 1, 1, 1, 1 ],\n",
    "            [ 1, 1, 1, 1, 1, 1, 1, 1, 1, 1 ] ]\n",
    "for x in matrix:\n",
    "    print(x, sep=\" \")"
   ]
  },
  {
   "cell_type": "code",
   "execution_count": 33,
   "metadata": {
    "ExecuteTime": {
     "end_time": "2020-04-01T04:09:57.734750Z",
     "start_time": "2020-04-01T04:09:57.728696Z"
    }
   },
   "outputs": [
    {
     "name": "stdout",
     "output_type": "stream",
     "text": [
      "[0, 0, 0, 0, 0, 0, 0, 0, 0, 0]\n",
      "[1, 1, 0, 1, 1, 0, 1, 1, 1, 1]\n",
      "[0, 0, 0, 0, 0, 0, 0, 0, 0, 0]\n",
      "[1, 1, 0, 1, 1, 0, 1, 1, 1, 1]\n",
      "[1, 1, 0, 1, 1, 0, 1, 1, 1, 1]\n"
     ]
    }
   ],
   "source": [
    "zero(matrix)\n",
    "for x in matrix:\n",
    "    print(x, sep=\" \")"
   ]
  },
  {
   "cell_type": "markdown",
   "metadata": {},
   "source": [
    "### Ex3：九宫图\n",
    "<img src=\"../images/ch02/magicsquare.jpg\" width=\"100\"/> \n",
    "考察点：熟练实现已知算法"
   ]
  },
  {
   "cell_type": "code",
   "execution_count": 45,
   "metadata": {
    "ExecuteTime": {
     "end_time": "2020-04-01T11:28:47.757393Z",
     "start_time": "2020-04-01T11:28:47.747095Z"
    }
   },
   "outputs": [],
   "source": [
    "def magic_square(n):\n",
    "    magic = [[0] * n for i in range(n)]\n",
    "    \n",
    "    # 将最后一行的中间位置设置为1\n",
    "    row = n-1\n",
    "    col = n//2\n",
    "    magic[row][col] = 1\n",
    "    \n",
    "    for i in range(2, n * n + 1):\n",
    "        try_row = (row + 1) % n\n",
    "        try_col = (col + 1) % n\n",
    "        \n",
    "        if (magic[try_row][try_col] == 0):\n",
    "            row = try_row\n",
    "            col = try_col\n",
    "        else:\n",
    "            row = (row - 1 + n) % n\n",
    "            \n",
    "        magic[row][col] = i\n",
    "    \n",
    "    for x in magic:\n",
    "        print(x, sep=\" \")"
   ]
  },
  {
   "cell_type": "code",
   "execution_count": 46,
   "metadata": {
    "ExecuteTime": {
     "end_time": "2020-04-01T11:28:49.400303Z",
     "start_time": "2020-04-01T11:28:49.394256Z"
    }
   },
   "outputs": [
    {
     "name": "stdout",
     "output_type": "stream",
     "text": [
      "[4, 9, 2]\n",
      "[3, 5, 7]\n",
      "[8, 1, 6]\n"
     ]
    }
   ],
   "source": [
    "magic_square(3)"
   ]
  },
  {
   "cell_type": "code",
   "execution_count": 47,
   "metadata": {
    "ExecuteTime": {
     "end_time": "2020-04-01T11:29:19.135501Z",
     "start_time": "2020-04-01T11:29:19.128785Z"
    }
   },
   "outputs": [
    {
     "name": "stdout",
     "output_type": "stream",
     "text": [
      "[11, 18, 25, 2, 9]\n",
      "[10, 12, 19, 21, 3]\n",
      "[4, 6, 13, 20, 22]\n",
      "[23, 5, 7, 14, 16]\n",
      "[17, 24, 1, 8, 15]\n"
     ]
    }
   ],
   "source": [
    "magic_square(5)"
   ]
  },
  {
   "cell_type": "markdown",
   "metadata": {},
   "source": [
    "### Ex4：数独\n",
    "<img src=\"../images/ch02/sudoku.jpg\" width=\"200\"/> \n",
    "给一个填好的数独，验证是否正确。"
   ]
  },
  {
   "cell_type": "code",
   "execution_count": 48,
   "metadata": {
    "ExecuteTime": {
     "end_time": "2020-04-01T11:30:19.409519Z",
     "start_time": "2020-04-01T11:30:19.401737Z"
    }
   },
   "outputs": [],
   "source": [
    "matrix = [\n",
    "    [5,3,4,6,7,8,9,1,2],\n",
    "    [6,7,2,1,9,5,3,4,8],\n",
    "    [1,9,8,3,4,2,5,6,7],\n",
    "    [8,5,9,7,6,1,4,2,3],\n",
    "    [4,2,6,8,5,3,7,9,1],\n",
    "    [7,1,3,9,2,4,8,5,6],\n",
    "    [9,6,1,5,3,7,2,8,4],\n",
    "    [2,8,7,4,1,9,6,3,5],\n",
    "    [3,4,5,2,8,6,1,7,9]\n",
    "]"
   ]
  },
  {
   "cell_type": "code",
   "execution_count": 49,
   "metadata": {
    "ExecuteTime": {
     "end_time": "2020-04-01T13:57:09.716165Z",
     "start_time": "2020-04-01T13:57:09.705881Z"
    }
   },
   "outputs": [],
   "source": [
    "def sudoku(matrix):\n",
    "    n = len(matrix)\n",
    "#     result_row = result_col = result_blk = 0\n",
    "\n",
    "    for i in range(n):\n",
    "        result_row = result_col = result_blk = 0\n",
    "        for j in range(n):\n",
    "            ## check row\n",
    "            tmp = matrix[i][j]\n",
    "            if ((result_row & (1 << (tmp-1))) == 0):\n",
    "                result_row = result_row | (1<<(tmp-1))\n",
    "            else:\n",
    "                print(\"row: \", i, j)\n",
    "                return False\n",
    "\n",
    "            ## check column\n",
    "            tmp = matrix[j][i]\n",
    "            if ((result_col & (1 << (tmp-1))) == 0):\n",
    "                result_col = result_col | (1<<(tmp-1))\n",
    "            else:\n",
    "                print(\"col: \", j, i)\n",
    "                return False\n",
    "\n",
    "            ## check block\n",
    "            idx_row = (i//3) * 3 + j//3\n",
    "            idx_col = (i%3)  * 3 + j%3\n",
    "            tmp = matrix[idx_row][idx_col]\n",
    "            if ((result_blk & (1 << (tmp-1))) == 0):\n",
    "                result_blk = result_blk | (1<<(tmp-1))\n",
    "            else:\n",
    "                print(\"block: \", idx_row, idx_col)\n",
    "                return False\n",
    "    return True"
   ]
  },
  {
   "cell_type": "code",
   "execution_count": 50,
   "metadata": {
    "ExecuteTime": {
     "end_time": "2020-04-01T13:57:11.328010Z",
     "start_time": "2020-04-01T13:57:11.321295Z"
    }
   },
   "outputs": [
    {
     "data": {
      "text/plain": [
       "True"
      ]
     },
     "execution_count": 50,
     "metadata": {},
     "output_type": "execute_result"
    }
   ],
   "source": [
    "sudoku(matrix)"
   ]
  },
  {
   "cell_type": "markdown",
   "metadata": {},
   "source": [
    "### Ex5：旋转数组\n",
    "给一个n×n的数组，旋转90度。"
   ]
  },
  {
   "cell_type": "code",
   "execution_count": 1,
   "metadata": {
    "ExecuteTime": {
     "end_time": "2020-04-03T08:51:51.835044Z",
     "start_time": "2020-04-03T08:51:51.828077Z"
    }
   },
   "outputs": [],
   "source": [
    "# 空间复杂度为 O(n^2)\n",
    "def rotate(matrix):\n",
    "    n = len(matrix)\n",
    "    result = [[0] * (n) for i in range(n)]\n",
    "    for i in range(n):\n",
    "        for j in range(n):\n",
    "            result[j][n-i-1] = matrix[i][j]\n",
    "    \n",
    "    for x in result:\n",
    "        print(x, sep=\" \")"
   ]
  },
  {
   "cell_type": "code",
   "execution_count": 2,
   "metadata": {
    "ExecuteTime": {
     "end_time": "2020-04-03T08:52:01.260864Z",
     "start_time": "2020-04-03T08:52:01.244946Z"
    }
   },
   "outputs": [
    {
     "data": {
      "text/plain": [
       "[[0, 1, 2, 3, 4],\n",
       " [5, 6, 7, 8, 9],\n",
       " [10, 11, 12, 13, 14],\n",
       " [15, 16, 17, 18, 19],\n",
       " [20, 21, 22, 23, 24]]"
      ]
     },
     "execution_count": 2,
     "metadata": {},
     "output_type": "execute_result"
    }
   ],
   "source": [
    "matrix = [[i*5+j for j in range(5)] for i in range(5)]\n",
    "matrix"
   ]
  },
  {
   "cell_type": "code",
   "execution_count": 3,
   "metadata": {
    "ExecuteTime": {
     "end_time": "2020-04-03T08:52:07.109380Z",
     "start_time": "2020-04-03T08:52:07.103141Z"
    }
   },
   "outputs": [
    {
     "name": "stdout",
     "output_type": "stream",
     "text": [
      "[20, 15, 10, 5, 0]\n",
      "[21, 16, 11, 6, 1]\n",
      "[22, 17, 12, 7, 2]\n",
      "[23, 18, 13, 8, 3]\n",
      "[24, 19, 14, 9, 4]\n"
     ]
    }
   ],
   "source": [
    "rotate(matrix)"
   ]
  },
  {
   "cell_type": "code",
   "execution_count": 13,
   "metadata": {
    "ExecuteTime": {
     "end_time": "2020-04-03T11:09:57.717837Z",
     "start_time": "2020-04-03T11:09:57.709293Z"
    }
   },
   "outputs": [],
   "source": [
    "# in-place\n",
    "def rotate_in_place(matrix):\n",
    "    n = len(matrix)\n",
    "    for layer in range(n//2):\n",
    "        first = layer\n",
    "        last = n-layer-1\n",
    "        for i in range(first, last):\n",
    "            offset = i - first\n",
    "            top = matrix[first][i]\n",
    "            # left -> top\n",
    "            matrix[first][i] = matrix[last - offset][first]\n",
    "            # bottom -> left\n",
    "            matrix[last - offset][first] = matrix[last][last - offset]\n",
    "            # right -> bottom\n",
    "            matrix[last][last - offset] = matrix[i][last]\n",
    "            # top -> right\n",
    "            matrix[i][last] = top\n",
    "\n",
    "    for x in matrix:\n",
    "        print(x, sep=\" \")"
   ]
  },
  {
   "cell_type": "code",
   "execution_count": 14,
   "metadata": {
    "ExecuteTime": {
     "end_time": "2020-04-03T11:09:59.880684Z",
     "start_time": "2020-04-03T11:09:59.873783Z"
    }
   },
   "outputs": [
    {
     "name": "stdout",
     "output_type": "stream",
     "text": [
      "[20, 15, 10, 5, 0]\n",
      "[21, 16, 11, 6, 1]\n",
      "[22, 17, 12, 7, 2]\n",
      "[23, 18, 13, 8, 3]\n",
      "[24, 19, 14, 9, 4]\n"
     ]
    }
   ],
   "source": [
    "matrix = [[i*5+j for j in range(5)] for i in range(5)]\n",
    "rotate_in_place(matrix)"
   ]
  },
  {
   "cell_type": "markdown",
   "metadata": {},
   "source": [
    "### Ex6：反转字符串\n",
    "hello => olleh"
   ]
  },
  {
   "cell_type": "code",
   "execution_count": 1,
   "metadata": {
    "ExecuteTime": {
     "end_time": "2020-04-02T14:24:32.444641Z",
     "start_time": "2020-04-02T14:24:32.437852Z"
    }
   },
   "outputs": [],
   "source": [
    "def reverse(str):\n",
    "    return str[::-1]"
   ]
  },
  {
   "cell_type": "code",
   "execution_count": 2,
   "metadata": {
    "ExecuteTime": {
     "end_time": "2020-04-02T14:24:40.368874Z",
     "start_time": "2020-04-02T14:24:40.358136Z"
    }
   },
   "outputs": [
    {
     "data": {
      "text/plain": [
       "'olleh'"
      ]
     },
     "execution_count": 2,
     "metadata": {},
     "output_type": "execute_result"
    }
   ],
   "source": [
    "s = \"hello\"\n",
    "r = reverse(s) # O(n)\n",
    "r"
   ]
  },
  {
   "cell_type": "code",
   "execution_count": 3,
   "metadata": {
    "ExecuteTime": {
     "end_time": "2020-04-02T14:27:22.214914Z",
     "start_time": "2020-04-02T14:27:22.209486Z"
    }
   },
   "outputs": [],
   "source": [
    "def reverse2(s):\n",
    "    l = list(s)\n",
    "    for i in range(len(l)//2):\n",
    "        l[i], l[len(s)-i-1] = l[len(s)-i-1], l[i]\n",
    "    return ''.join(l)"
   ]
  },
  {
   "cell_type": "code",
   "execution_count": 4,
   "metadata": {
    "ExecuteTime": {
     "end_time": "2020-04-02T14:27:31.971657Z",
     "start_time": "2020-04-02T14:27:31.961819Z"
    }
   },
   "outputs": [
    {
     "data": {
      "text/plain": [
       "'olleh'"
      ]
     },
     "execution_count": 4,
     "metadata": {},
     "output_type": "execute_result"
    }
   ],
   "source": [
    "s = \"hello\"\n",
    "r = reverse2(s)\n",
    "r"
   ]
  },
  {
   "cell_type": "code",
   "execution_count": 13,
   "metadata": {
    "ExecuteTime": {
     "end_time": "2020-04-02T14:30:51.022093Z",
     "start_time": "2020-04-02T14:30:51.007913Z"
    }
   },
   "outputs": [],
   "source": [
    "def reverse3(s):\n",
    "    l = list(s)\n",
    "    begin, end = 0, len(l) - 1\n",
    "    while begin <= end:\n",
    "        l[begin], l[end] = l[end], l[begin]\n",
    "        begin += 1\n",
    "        end -= 1\n",
    "    return ''.join(l)"
   ]
  },
  {
   "cell_type": "code",
   "execution_count": 14,
   "metadata": {
    "ExecuteTime": {
     "end_time": "2020-04-02T14:30:52.822104Z",
     "start_time": "2020-04-02T14:30:52.814842Z"
    }
   },
   "outputs": [
    {
     "data": {
      "text/plain": [
       "'olleh'"
      ]
     },
     "execution_count": 14,
     "metadata": {},
     "output_type": "execute_result"
    }
   ],
   "source": [
    "s = \"hello\"\n",
    "reverse3(s)"
   ]
  },
  {
   "cell_type": "markdown",
   "metadata": {},
   "source": [
    "### Ex7：最长连续子串\n",
    "给一个只包含0和1的数组，找出最长的全是1的子数组。\n",
    "\n",
    "Example:\n",
    "\n",
    "Input: [1,1,0,1,1,1]\n",
    "\n",
    "Output: 3"
   ]
  },
  {
   "cell_type": "code",
   "execution_count": 25,
   "metadata": {
    "ExecuteTime": {
     "end_time": "2020-04-02T14:41:18.357265Z",
     "start_time": "2020-04-02T14:41:18.352480Z"
    }
   },
   "outputs": [],
   "source": [
    "def find_consecutive_ones(nums):\n",
    "    local = maximum = 0\n",
    "    for i in nums:\n",
    "        local = local + 1 if i == 1 else 0\n",
    "        maximum = max(maximum, local)\n",
    "    return maximum"
   ]
  },
  {
   "cell_type": "code",
   "execution_count": 26,
   "metadata": {
    "ExecuteTime": {
     "end_time": "2020-04-02T14:41:20.950060Z",
     "start_time": "2020-04-02T14:41:20.940625Z"
    }
   },
   "outputs": [
    {
     "data": {
      "text/plain": [
       "4"
      ]
     },
     "execution_count": 26,
     "metadata": {},
     "output_type": "execute_result"
    }
   ],
   "source": [
    "nums = [1,1,0,1,1,1,1,0,0,0,0,0,1,1,1,0,0,1]\n",
    "result = find_consecutive_ones(nums)\n",
    "result"
   ]
  },
  {
   "cell_type": "markdown",
   "metadata": {},
   "source": [
    "### Ex8：最大数\n",
    "给定一个数组，数组里有一个数组有且只有一个最大数，判断这个最大数是否是其他数的两倍或更大。如果存在这个数，则返回其index，否则返回-1。"
   ]
  },
  {
   "cell_type": "code",
   "execution_count": 25,
   "metadata": {
    "ExecuteTime": {
     "end_time": "2020-04-03T13:59:16.473010Z",
     "start_time": "2020-04-03T13:59:16.465722Z"
    }
   },
   "outputs": [],
   "source": [
    "# O(n) time\n",
    "# O(1) space\n",
    "def largest_twice(nums):\n",
    "    maximum = sec = idx = 0\n",
    "    for i in range(len(nums)):\n",
    "        if maximum < nums[i]:\n",
    "            sec = maximum\n",
    "            maximum = nums[i]\n",
    "            idx = i\n",
    "        elif sec < nums[i]:\n",
    "            sec = nums[i]\n",
    "    return idx if (maximum >= 2*sec) else -1"
   ]
  },
  {
   "cell_type": "code",
   "execution_count": 26,
   "metadata": {
    "ExecuteTime": {
     "end_time": "2020-04-03T13:59:18.125803Z",
     "start_time": "2020-04-03T13:59:18.114537Z"
    }
   },
   "outputs": [
    {
     "data": {
      "text/plain": [
       "3"
      ]
     },
     "execution_count": 26,
     "metadata": {},
     "output_type": "execute_result"
    }
   ],
   "source": [
    "nums = [1,2,3,8,3,2,1]\n",
    "result = largest_twice(nums)\n",
    "result"
   ]
  },
  {
   "cell_type": "markdown",
   "metadata": {},
   "source": [
    "### Ex9：Find All Numbers Disappeared in an Array\n",
    "\n",
    "Given an array of integers where 1 ≤ a[i] ≤ n (n = size of array), some elements appear twice and others appear once.\n",
    "\n",
    "Find all the elements of [1, n] inclusive that do not appear in this array.\n",
    "\n",
    "Could you do it without extra space and in O(n) runtime? You may assume the returned list does not count as extra space.\n",
    "\n",
    "Example:\n",
    "\n",
    "Input: [4,3,2,7,8,2,3,1] \n",
    "\n",
    "Output: [5,6] "
   ]
  },
  {
   "cell_type": "code",
   "execution_count": 27,
   "metadata": {
    "ExecuteTime": {
     "end_time": "2020-04-03T14:09:29.907464Z",
     "start_time": "2020-04-03T14:09:29.902159Z"
    }
   },
   "outputs": [],
   "source": [
    "# O(n^2)\n",
    "def findDisappearedNumbers1(nums):\n",
    "    result = []\n",
    "    for i in range(1, len(nums)+1):\n",
    "        if i not in nums:\n",
    "            result.append(i)\n",
    "    return result"
   ]
  },
  {
   "cell_type": "code",
   "execution_count": 28,
   "metadata": {
    "ExecuteTime": {
     "end_time": "2020-04-03T14:09:31.456800Z",
     "start_time": "2020-04-03T14:09:31.450312Z"
    }
   },
   "outputs": [
    {
     "name": "stdout",
     "output_type": "stream",
     "text": [
      "[5, 6]\n"
     ]
    }
   ],
   "source": [
    "nums = [4,3,2,7,8,2,3,1]\n",
    "print(findDisappearedNumbers1(nums))"
   ]
  },
  {
   "cell_type": "code",
   "execution_count": 29,
   "metadata": {
    "ExecuteTime": {
     "end_time": "2020-04-03T14:10:09.592530Z",
     "start_time": "2020-04-03T14:10:05.714328Z"
    }
   },
   "outputs": [
    {
     "data": {
      "text/plain": [
       "[([], 100, 6.103515625e-05),\n",
       " ([], 200, 0.00022602081298828125),\n",
       " ([], 300, 0.0005056858062744141),\n",
       " ([], 400, 0.0008933544158935547),\n",
       " ([], 500, 0.0013930797576904297),\n",
       " ([], 600, 0.0020029544830322266),\n",
       " ([], 700, 0.0027341842651367188),\n",
       " ([], 800, 0.0036160945892333984),\n",
       " ([], 900, 0.00455021858215332),\n",
       " ([], 1000, 0.005548000335693359),\n",
       " ([], 1100, 0.006855010986328125),\n",
       " ([], 1200, 0.008114814758300781),\n",
       " ([], 1300, 0.009510993957519531),\n",
       " ([], 1400, 0.011033773422241211),\n",
       " ([], 1500, 0.012685060501098633),\n",
       " ([], 1600, 0.014512062072753906),\n",
       " ([], 1700, 0.016351938247680664),\n",
       " ([], 1800, 0.018790721893310547),\n",
       " ([], 1900, 0.020583152770996094)]"
      ]
     },
     "execution_count": 29,
     "metadata": {},
     "output_type": "execute_result"
    }
   ],
   "source": [
    "def findDisappearedNumbersTest1(nums):\n",
    "    start = time.time()\n",
    "    r = findDisappearedNumbers1(nums)\n",
    "    t = time.time() - start\n",
    "    return r, len(nums), t\n",
    "\n",
    "import time\n",
    "import matplotlib.pyplot as plt\n",
    "import random\n",
    "import math\n",
    "%matplotlib inline  \n",
    "\n",
    "def random_list(l):\n",
    "    return [[i + 1 for i in range(l * n)] for n in range(1, 20)]\n",
    "\n",
    "random_lists = random_list(100)\n",
    "rst = [findDisappearedNumbersTest1(l) for l in random_lists]\n",
    "len(rst)\n",
    "rst"
   ]
  },
  {
   "cell_type": "code",
   "execution_count": 30,
   "metadata": {
    "ExecuteTime": {
     "end_time": "2020-04-03T14:10:22.727199Z",
     "start_time": "2020-04-03T14:10:22.536650Z"
    }
   },
   "outputs": [
    {
     "data": {
      "text/plain": [
       "[<matplotlib.lines.Line2D at 0x11eeadcc0>]"
      ]
     },
     "execution_count": 30,
     "metadata": {},
     "output_type": "execute_result"
    },
    {
     "data": {
      "image/png": "[encoded data removed]",
      "text/plain": [
       "<Figure size 432x288 with 1 Axes>"
      ]
     },
     "metadata": {
      "needs_background": "light"
     },
     "output_type": "display_data"
    }
   ],
   "source": [
    "x = list(zip(*rst))[1]\n",
    "y = list(zip(*rst))[2]\n",
    "\n",
    "plt.plot(x, y)"
   ]
  },
  {
   "cell_type": "code",
   "execution_count": 31,
   "metadata": {
    "ExecuteTime": {
     "end_time": "2020-04-03T14:15:37.688527Z",
     "start_time": "2020-04-03T14:15:37.681783Z"
    }
   },
   "outputs": [],
   "source": [
    "def findDisappearedNumbers2(nums):\n",
    "    # For each number i in nums,\n",
    "    # we mark the number that i points as negative.\n",
    "    # Then we filter the list, get all the indexes\n",
    "    # who points to a positive number\n",
    "    for i in range(len(nums)):\n",
    "        idx = abs(nums[i]) - 1\n",
    "        nums[idx] = -abs(nums[idx])\n",
    "    return [i+1 for i in range(len(nums)) if nums[i] > 0]"
   ]
  },
  {
   "cell_type": "code",
   "execution_count": 32,
   "metadata": {
    "ExecuteTime": {
     "end_time": "2020-04-03T14:15:44.033665Z",
     "start_time": "2020-04-03T14:15:44.026474Z"
    }
   },
   "outputs": [
    {
     "name": "stdout",
     "output_type": "stream",
     "text": [
      "[5, 6]\n"
     ]
    }
   ],
   "source": [
    "nums = [4,3,2,7,8,2,3,1]\n",
    "print(findDisappearedNumbers2(nums))"
   ]
  },
  {
   "cell_type": "code",
   "execution_count": 33,
   "metadata": {
    "ExecuteTime": {
     "end_time": "2020-04-03T14:15:59.164822Z",
     "start_time": "2020-04-03T14:15:59.144626Z"
    }
   },
   "outputs": [
    {
     "data": {
      "text/plain": [
       "[([], 100, 3.504753112792969e-05),\n",
       " ([], 200, 5.888938903808594e-05),\n",
       " ([], 300, 9.012222290039062e-05),\n",
       " ([], 400, 0.0003409385681152344),\n",
       " ([], 500, 0.00015878677368164062),\n",
       " ([], 600, 0.0001888275146484375),\n",
       " ([], 700, 0.0002319812774658203),\n",
       " ([], 800, 0.00026679039001464844),\n",
       " ([], 900, 0.0002868175506591797),\n",
       " ([], 1000, 0.00032210350036621094),\n",
       " ([], 1100, 0.0003631114959716797),\n",
       " ([], 1200, 0.0003871917724609375),\n",
       " ([], 1300, 0.0004279613494873047),\n",
       " ([], 1400, 0.00045680999755859375),\n",
       " ([], 1500, 0.0004889965057373047),\n",
       " ([], 1600, 0.0005257129669189453),\n",
       " ([], 1700, 0.0005600452423095703),\n",
       " ([], 1800, 0.0006830692291259766),\n",
       " ([], 1900, 0.0006110668182373047)]"
      ]
     },
     "execution_count": 33,
     "metadata": {},
     "output_type": "execute_result"
    }
   ],
   "source": [
    "# O(n)\n",
    "def findDisappearedNumbersTest2(nums):\n",
    "    start = time.time()\n",
    "    r = findDisappearedNumbers2(nums)\n",
    "    t = time.time() - start\n",
    "    return r, len(nums), t\n",
    "\n",
    "random_lists = random_list(100)\n",
    "rst = [findDisappearedNumbersTest2(l) for l in random_lists]\n",
    "len(rst)\n",
    "rst"
   ]
  },
  {
   "cell_type": "code",
   "execution_count": 34,
   "metadata": {
    "ExecuteTime": {
     "end_time": "2020-04-03T14:16:07.444738Z",
     "start_time": "2020-04-03T14:16:07.272821Z"
    }
   },
   "outputs": [
    {
     "data": {
      "text/plain": [
       "[<matplotlib.lines.Line2D at 0x11efa9208>]"
      ]
     },
     "execution_count": 34,
     "metadata": {},
     "output_type": "execute_result"
    },
    {
     "data": {
      "image/png": "[encoded data removed]",
      "text/plain": [
       "<Figure size 432x288 with 1 Axes>"
      ]
     },
     "metadata": {
      "needs_background": "light"
     },
     "output_type": "display_data"
    }
   ],
   "source": [
    "x = list(zip(*rst))[1]\n",
    "y = list(zip(*rst))[2]\n",
    "\n",
    "plt.plot(x, y)"
   ]
  },
  {
   "cell_type": "markdown",
   "metadata": {},
   "source": [
    "### Ex10：Plus One\n",
    "\n",
    "Given a non-negative integer represented as a non-empty array of digits, plus one to the integer.\n",
    "\n",
    "You may assume the integer do not contain any leading zero, except the number 0 itself.\n",
    "\n",
    "The digits are stored such that the most significant digit is at the head of the list."
   ]
  },
  {
   "cell_type": "code",
   "execution_count": 37,
   "metadata": {
    "ExecuteTime": {
     "end_time": "2020-04-03T14:29:00.794520Z",
     "start_time": "2020-04-03T14:29:00.786946Z"
    }
   },
   "outputs": [],
   "source": [
    "def plusOne(digits):\n",
    "    if len(digits) == 0:\n",
    "        return False\n",
    "    addCarry=1\n",
    "    for i in range(len(digits)-1, -1, -1):\n",
    "        digits[i] += addCarry\n",
    "        if digits[i] == 10:\n",
    "            digits[i] = 0\n",
    "            if i == 0:\n",
    "                digits.insert(0, 1)\n",
    "        else:\n",
    "            break\n",
    "    return digits"
   ]
  },
  {
   "cell_type": "code",
   "execution_count": 38,
   "metadata": {
    "ExecuteTime": {
     "end_time": "2020-04-03T14:29:02.759514Z",
     "start_time": "2020-04-03T14:29:02.752865Z"
    }
   },
   "outputs": [
    {
     "name": "stdout",
     "output_type": "stream",
     "text": [
      "[1, 2, 4]\n",
      "[1, 0, 0, 0]\n"
     ]
    }
   ],
   "source": [
    "digits = [1, 2, 3]\n",
    "print(plusOne(digits))\n",
    "digits = [9, 9, 9]\n",
    "print(plusOne(digits))"
   ]
  },
  {
   "cell_type": "code",
   "execution_count": null,
   "metadata": {},
   "outputs": [],
   "source": []
  }
 ],
 "metadata": {
  "kernelspec": {
   "display_name": "Python36",
   "language": "python",
   "name": "python36"
  },
  "language_info": {
   "codemirror_mode": {
    "name": "ipython",
    "version": 3
   },
   "file_extension": ".py",
   "mimetype": "text/x-python",
   "name": "python",
   "nbconvert_exporter": "python",
   "pygments_lexer": "ipython3",
   "version": "3.6.10"
  },
  "toc": {
   "base_numbering": 1,
   "nav_menu": {},
   "number_sections": true,
   "sideBar": true,
   "skip_h1_title": false,
   "title_cell": "Table of Contents",
   "title_sidebar": "Contents",
   "toc_cell": false,
   "toc_position": {
    "height": "calc(100% - 180px)",
    "left": "10px",
    "top": "150px",
    "width": "256px"
   },
   "toc_section_display": true,
   "toc_window_display": true
  }
 },
 "nbformat": 4,
 "nbformat_minor": 2
}
