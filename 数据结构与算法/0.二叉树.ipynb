{
 "cells": [
  {
   "cell_type": "markdown",
   "metadata": {},
   "source": [
    "## 二叉树"
   ]
  },
  {
   "cell_type": "code",
   "execution_count": 1,
   "metadata": {
    "ExecuteTime": {
     "end_time": "2020-02-26T04:17:39.282088Z",
     "start_time": "2020-02-26T04:17:39.269918Z"
    },
    "pycharm": {
     "is_executing": false
    }
   },
   "outputs": [],
   "source": [
    "class Node(object):\n",
    "    \"\"\"节点类\"\"\"\n",
    "    def __init__(self, elem=-1, lchild=None, rchild=None):\n",
    "        self.elem = elem\n",
    "        self.lchild = lchild\n",
    "        self.rchild = rchild"
   ]
  },
  {
   "cell_type": "code",
   "execution_count": 2,
   "metadata": {
    "ExecuteTime": {
     "end_time": "2020-02-26T04:17:49.374524Z",
     "start_time": "2020-02-26T04:17:49.367355Z"
    }
   },
   "outputs": [],
   "source": [
    "class Tree(object):\n",
    "    \"\"\"树类\"\"\"\n",
    "    def __init__(self, root=None):\n",
    "        self.root = root\n",
    "\n",
    "    def add(self, elem):\n",
    "        \"\"\"为树添加节点\"\"\"\n",
    "        node = Node(elem)\n",
    "        #如果树是空的，则对根节点赋值\n",
    "        if self.root == None:\n",
    "            self.root = node\n",
    "        else:\n",
    "            queue = []\n",
    "            queue.append(self.root)\n",
    "            #对已有的节点进行层次遍历\n",
    "            while queue:\n",
    "                #弹出队列的第一个元素\n",
    "                cur = queue.pop(0)\n",
    "                if cur.lchild == None:\n",
    "                    cur.lchild = node\n",
    "                    return\n",
    "                elif cur.rchild == None:\n",
    "                    cur.rchild = node\n",
    "                    return\n",
    "                else:\n",
    "                    #如果左右子树都不为空，加入队列继续判断\n",
    "                    queue.append(cur.lchild)\n",
    "                    queue.append(cur.rchild)"
   ]
  },
  {
   "cell_type": "markdown",
   "metadata": {},
   "source": [
    "## 先序遍历"
   ]
  },
  {
   "cell_type": "code",
   "execution_count": 3,
   "metadata": {
    "ExecuteTime": {
     "end_time": "2020-02-26T04:19:33.806989Z",
     "start_time": "2020-02-26T04:19:33.795932Z"
    }
   },
   "outputs": [],
   "source": [
    "def preorder(self, root):\n",
    "      \"\"\"递归实现先序遍历\"\"\"\n",
    "      if root == None:\n",
    "          return\n",
    "      print(root.elem)\n",
    "      self.preorder(root.lchild)\n",
    "      self.preorder(root.rchild)"
   ]
  },
  {
   "cell_type": "markdown",
   "metadata": {},
   "source": [
    "## 中序遍历"
   ]
  },
  {
   "cell_type": "code",
   "execution_count": 4,
   "metadata": {
    "ExecuteTime": {
     "end_time": "2020-02-26T04:19:43.282404Z",
     "start_time": "2020-02-26T04:19:43.270208Z"
    }
   },
   "outputs": [
    {
     "ename": "SyntaxError",
     "evalue": "Missing parentheses in call to 'print'. Did you mean print(root.elem)? (<ipython-input-4-6bcf78382278>, line 6)",
     "output_type": "error",
     "traceback": [
      "\u001b[0;36m  File \u001b[0;32m\"<ipython-input-4-6bcf78382278>\"\u001b[0;36m, line \u001b[0;32m6\u001b[0m\n\u001b[0;31m    print root.elem\u001b[0m\n\u001b[0m             ^\u001b[0m\n\u001b[0;31mSyntaxError\u001b[0m\u001b[0;31m:\u001b[0m Missing parentheses in call to 'print'. Did you mean print(root.elem)?\n"
     ]
    }
   ],
   "source": [
    "def inorder(self, root):\n",
    "      \"\"\"递归实现中序遍历\"\"\"\n",
    "      if root == None:\n",
    "          return\n",
    "      self.inorder(root.lchild)\n",
    "      print(root.elem)\n",
    "      self.inorder(root.rchild)"
   ]
  },
  {
   "cell_type": "markdown",
   "metadata": {},
   "source": [
    "## 后序遍历"
   ]
  },
  {
   "cell_type": "code",
   "execution_count": null,
   "metadata": {},
   "outputs": [],
   "source": [
    "def postorder(self, root):\n",
    "      \"\"\"递归实现后续遍历\"\"\"\n",
    "      if root == None:\n",
    "          return\n",
    "      self.postorder(root.lchild)\n",
    "      self.postorder(root.rchild)\n",
    "      print(root.elem)"
   ]
  },
  {
   "cell_type": "markdown",
   "metadata": {},
   "source": [
    "## 广度优先遍历"
   ]
  },
  {
   "cell_type": "code",
   "execution_count": null,
   "metadata": {},
   "outputs": [],
   "source": [
    "def breadth_travel(self, root):\n",
    "        \"\"\"利用队列实现树的层次遍历\"\"\"\n",
    "        if root == None:\n",
    "            return\n",
    "        queue = []\n",
    "        queue.append(root)\n",
    "        while queue:\n",
    "            node = queue.pop(0)\n",
    "            print(node.elem)\n",
    "            if node.lchild != None:\n",
    "                queue.append(node.lchild)\n",
    "            if node.rchild != None:\n",
    "                queue.append(node.rchild)"
   ]
  }
 ],
 "metadata": {
  "kernelspec": {
   "display_name": "Python36",
   "language": "python",
   "name": "python36"
  },
  "language_info": {
   "codemirror_mode": {
    "name": "ipython",
    "version": 3
   },
   "file_extension": ".py",
   "mimetype": "text/x-python",
   "name": "python",
   "nbconvert_exporter": "python",
   "pygments_lexer": "ipython3",
   "version": "3.6.10"
  },
  "toc": {
   "base_numbering": 1,
   "nav_menu": {},
   "number_sections": true,
   "sideBar": true,
   "skip_h1_title": false,
   "title_cell": "Table of Contents",
   "title_sidebar": "Contents",
   "toc_cell": false,
   "toc_position": {},
   "toc_section_display": true,
   "toc_window_display": true
  },
  "pycharm": {
   "stem_cell": {
    "cell_type": "raw",
    "source": [],
    "metadata": {
     "collapsed": false
    }
   }
  }
 },
 "nbformat": 4,
 "nbformat_minor": 2
}