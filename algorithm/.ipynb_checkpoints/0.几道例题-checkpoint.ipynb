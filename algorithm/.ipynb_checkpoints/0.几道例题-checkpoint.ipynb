{
 "cells": [
  {
   "cell_type": "markdown",
   "metadata": {},
   "source": [
    "## 洗牌问题"
   ]
  },
  {
   "cell_type": "code",
   "execution_count": 1,
   "metadata": {
    "ExecuteTime": {
     "end_time": "2020-03-01T12:35:32.198181Z",
     "start_time": "2020-03-01T12:35:31.740858Z"
    }
   },
   "outputs": [],
   "source": [
    "import time\n",
    "import matplotlib.pyplot as plt\n",
    "import random\n",
    "import math\n",
    "%matplotlib inline\n",
    "\n",
    "def random_list(l):\n",
    "    return [[int(1000*random.random()) for i in range(l*n)] for n in range(1, 20)]"
   ]
  },
  {
   "cell_type": "code",
   "execution_count": 2,
   "metadata": {
    "ExecuteTime": {
     "end_time": "2020-03-01T12:35:32.208246Z",
     "start_time": "2020-03-01T12:35:32.200736Z"
    }
   },
   "outputs": [],
   "source": [
    "import random\n",
    "def shuffle_system(cards):\n",
    "    random.shuffle(cards)"
   ]
  },
  {
   "cell_type": "markdown",
   "metadata": {},
   "source": [
    "随机选取数组中两个数，交换位置，重复n次。\n",
    "注：randint()为开区间"
   ]
  },
  {
   "cell_type": "code",
   "execution_count": 3,
   "metadata": {
    "ExecuteTime": {
     "end_time": "2020-03-01T12:35:32.218056Z",
     "start_time": "2020-03-01T12:35:32.212495Z"
    }
   },
   "outputs": [],
   "source": [
    "def shuffle_1st(cards):\n",
    "    for k in range(len(cards)):\n",
    "        i = random.randint(0, len(cards) - 1)\n",
    "        j = random.randint(0, len(cards) - 1)\n",
    "        cards[i], cards[j] = cards[j], cards[i]"
   ]
  },
  {
   "cell_type": "markdown",
   "metadata": {},
   "source": [
    "选取当前数，并随机选取数组（包括当前数）中抽取另一个数，交换位置，重复n次。"
   ]
  },
  {
   "cell_type": "code",
   "execution_count": 4,
   "metadata": {
    "ExecuteTime": {
     "end_time": "2020-03-01T12:35:32.234291Z",
     "start_time": "2020-03-01T12:35:32.225915Z"
    }
   },
   "outputs": [],
   "source": [
    "def shuffle_2st(cards):\n",
    "    for k in range(len(cards)):\n",
    "        i = random.randint(0, len(cards) - 1)\n",
    "        cards[i], cards[k] = cards[k], cards[i]"
   ]
  },
  {
   "cell_type": "markdown",
   "metadata": {},
   "source": [
    "选取当前数，并从数组当前位置（包括当前位置）之后的数中随机抽取另一个数，交换位置，重复n次。"
   ]
  },
  {
   "cell_type": "code",
   "execution_count": 5,
   "metadata": {
    "ExecuteTime": {
     "end_time": "2020-03-01T12:35:32.254308Z",
     "start_time": "2020-03-01T12:35:32.246050Z"
    }
   },
   "outputs": [],
   "source": [
    "def shuffle_correct(cards):\n",
    "    for i in range(len(cards)):\n",
    "        randomi = i + random.randint(0, (len(cards)-i-1))\n",
    "        cards[i], cards[randomi] = cards[randomi], cards[i]"
   ]
  },
  {
   "cell_type": "code",
   "execution_count": 7,
   "metadata": {
    "ExecuteTime": {
     "end_time": "2020-03-01T12:35:32.286603Z",
     "start_time": "2020-03-01T12:35:32.278760Z"
    }
   },
   "outputs": [
    {
     "data": {
      "text/plain": [
       "[0, 1, 2, 3, 4, 5, 6, 7, 8, 9]"
      ]
     },
     "execution_count": 7,
     "metadata": {},
     "output_type": "execute_result"
    }
   ],
   "source": [
    "A = [i for i in range(0, 10)]\n",
    "A"
   ]
  },
  {
   "cell_type": "code",
   "execution_count": 8,
   "metadata": {
    "ExecuteTime": {
     "end_time": "2020-03-01T12:35:32.307981Z",
     "start_time": "2020-03-01T12:35:32.296993Z"
    }
   },
   "outputs": [],
   "source": [
    "shuffle_1st(A)"
   ]
  },
  {
   "cell_type": "code",
   "execution_count": 9,
   "metadata": {
    "ExecuteTime": {
     "end_time": "2020-03-01T12:35:32.328078Z",
     "start_time": "2020-03-01T12:35:32.314606Z"
    }
   },
   "outputs": [
    {
     "data": {
      "text/plain": [
       "[0, 6, 5, 4, 1, 8, 3, 7, 2, 9]"
      ]
     },
     "execution_count": 9,
     "metadata": {},
     "output_type": "execute_result"
    }
   ],
   "source": [
    "A"
   ]
  },
  {
   "cell_type": "code",
   "execution_count": 10,
   "metadata": {
    "ExecuteTime": {
     "end_time": "2020-03-01T12:35:32.339690Z",
     "start_time": "2020-03-01T12:35:32.333236Z"
    }
   },
   "outputs": [],
   "source": [
    "def test_shuffle(f):\n",
    "    result = [[0 for i in range(10)] for j in range(10)]\n",
    "    \n",
    "    for i in range(10000):\n",
    "        A = [i for i in range(0, 10)]\n",
    "        f(A)\n",
    "        for j in range(len(A)):\n",
    "            result[A[j]][j] += 1\n",
    "            \n",
    "    print('\\n'.join([''.join(['{:6}'.format(item) for item in row])\n",
    "                    for row in result]))"
   ]
  },
  {
   "cell_type": "code",
   "execution_count": 11,
   "metadata": {
    "ExecuteTime": {
     "end_time": "2020-03-01T12:35:32.508308Z",
     "start_time": "2020-03-01T12:35:32.344128Z"
    },
    "scrolled": true
   },
   "outputs": [
    {
     "name": "stdout",
     "output_type": "stream",
     "text": [
      "   995  1003  1024  1007  1005  1012   951  1010  1001   992\n",
      "   997   985   887   990  1081  1017  1030   994  1025   994\n",
      "  1009  1020  1003  1017  1009  1019   977   969   949  1028\n",
      "   985  1000  1050   999   964   969   998  1051  1009   975\n",
      "   982  1009   957  1021  1012  1023   989  1042  1007   958\n",
      "   975   975  1033   996  1014  1026  1009   956   993  1023\n",
      "  1029  1006  1013   960   961  1033   995   985  1012  1006\n",
      "   996   988  1035   992   954   961  1045  1066   978   985\n",
      "   992  1006  1039  1029   997   948   999   939  1034  1017\n",
      "  1040  1008   959   989  1003   992  1007   988   992  1022\n"
     ]
    }
   ],
   "source": [
    "test_shuffle(shuffle_system)"
   ]
  },
  {
   "cell_type": "markdown",
   "metadata": {},
   "source": [
    "对角线上出现次数太多"
   ]
  },
  {
   "cell_type": "code",
   "execution_count": 12,
   "metadata": {
    "ExecuteTime": {
     "end_time": "2020-03-01T12:35:32.910904Z",
     "start_time": "2020-03-01T12:35:32.510913Z"
    }
   },
   "outputs": [
    {
     "name": "stdout",
     "output_type": "stream",
     "text": [
      "  1938   898   884   904   917   909   894   903   873   880\n",
      "   872  1928   898   890   917   923   948   859   919   846\n",
      "   954   916  2037   915   835   867   846   857   877   896\n",
      "   832   903   860  1943   904   902   900   930   910   916\n",
      "   880   898   873   906  1934   890   887   936   894   902\n",
      "   889   883   900   928   888  1957   905   855   896   899\n",
      "   907   897   881   890   847   929  1988   932   861   868\n",
      "   964   898   880   891   915   821   900  1956   871   904\n",
      "   882   898   918   833   933   874   885   911  1943   923\n",
      "   882   881   869   900   910   928   847   861   956  1966\n"
     ]
    }
   ],
   "source": [
    "test_shuffle(shuffle_1st)"
   ]
  },
  {
   "cell_type": "markdown",
   "metadata": {},
   "source": [
    "对角线上出现次数较少"
   ]
  },
  {
   "cell_type": "code",
   "execution_count": 13,
   "metadata": {
    "ExecuteTime": {
     "end_time": "2020-03-01T12:35:33.126624Z",
     "start_time": "2020-03-01T12:35:32.913623Z"
    }
   },
   "outputs": [
    {
     "name": "stdout",
     "output_type": "stream",
     "text": [
      "   941  1030   989  1025  1012  1043   950   979  1030  1001\n",
      "  1335   939   943   945  1020   951   965   953   968   981\n",
      "  1225  1294   917   875   896   932   961   950   963   987\n",
      "  1174  1116  1147   883   900   895   897   957  1030  1001\n",
      "   976  1063  1200  1204   889   854   927   936   962   989\n",
      "   983   997  1100  1164  1159   886   863   960   893   995\n",
      "   873   970   993  1029  1074  1212   936   913   953  1047\n",
      "   863   920   940   978  1118  1097  1245   905   943   991\n",
      "   810   827   927   946  1024  1068  1176  1301   909  1012\n",
      "   820   844   844   951   908  1062  1080  1146  1349   996\n"
     ]
    }
   ],
   "source": [
    "test_shuffle(shuffle_2st)"
   ]
  },
  {
   "cell_type": "code",
   "execution_count": 14,
   "metadata": {
    "ExecuteTime": {
     "end_time": "2020-03-01T12:35:33.348703Z",
     "start_time": "2020-03-01T12:35:33.129530Z"
    }
   },
   "outputs": [
    {
     "name": "stdout",
     "output_type": "stream",
     "text": [
      "   975   935  1000  1032   986  1039   956  1039   989  1049\n",
      "   926  1015   998   988  1025   987  1009  1015  1004  1033\n",
      "   982  1011  1010  1008   991  1041  1064   934   971   988\n",
      "   975   983   983   981  1015  1043   993   995  1046   986\n",
      "  1030   993  1016  1001   968   988   964  1027   996  1017\n",
      "   997  1062   993   922  1039  1012  1001  1009  1017   948\n",
      "  1035   994   967  1001  1029   996  1021   983   961  1013\n",
      "  1055   996   993  1003  1006   967   996  1027   981   976\n",
      "  1049   995  1009  1016   963   932   955  1018  1045  1018\n",
      "   976  1016  1031  1048   978   995  1041   953   990   972\n"
     ]
    }
   ],
   "source": [
    "test_shuffle(shuffle_correct)"
   ]
  },
  {
   "cell_type": "markdown",
   "metadata": {},
   "source": [
    "## 计算π值"
   ]
  },
  {
   "cell_type": "markdown",
   "metadata": {},
   "source": [
    "方法一：$$\n",
    "\\frac{\\pi}{4} = 1-\\frac{1}{3}+\\frac{1}{5}-\\frac{1}{7}+\\frac{1}{9}+…\n",
    "$$"
   ]
  },
  {
   "cell_type": "code",
   "execution_count": 16,
   "metadata": {
    "ExecuteTime": {
     "end_time": "2020-03-02T08:25:18.673211Z",
     "start_time": "2020-03-02T08:25:18.662627Z"
    }
   },
   "outputs": [],
   "source": [
    "def pi1(n):\n",
    "    pi = 0\n",
    "    sign = 1\n",
    "    for i in range(1, n + 1, 2):\n",
    "        pi += sign * (1 / i)\n",
    "        sign *= -1\n",
    "    return pi * 4"
   ]
  },
  {
   "cell_type": "code",
   "execution_count": 17,
   "metadata": {
    "ExecuteTime": {
     "end_time": "2020-03-02T08:25:31.132483Z",
     "start_time": "2020-03-02T08:25:31.122990Z"
    }
   },
   "outputs": [
    {
     "data": {
      "text/plain": [
       "3.141392653591791"
      ]
     },
     "execution_count": 17,
     "metadata": {},
     "output_type": "execute_result"
    }
   ],
   "source": [
    "pi1(10000)"
   ]
  },
  {
   "cell_type": "code",
   "execution_count": 18,
   "metadata": {
    "ExecuteTime": {
     "end_time": "2020-03-02T08:25:42.495515Z",
     "start_time": "2020-03-02T08:25:42.488624Z"
    }
   },
   "outputs": [],
   "source": [
    "def pi2():\n",
    "    pi = 0\n",
    "    sign = 1\n",
    "    pre = 999\n",
    "    i = 1\n",
    "    delta = 0.000001\n",
    "    \n",
    "    while (abs(pi - pre) > delta):\n",
    "        pre = pi\n",
    "        pi += sign * (1 / i)\n",
    "        sign *= -1\n",
    "        i += 2\n",
    "    return pi * 4   "
   ]
  },
  {
   "cell_type": "code",
   "execution_count": 19,
   "metadata": {
    "ExecuteTime": {
     "end_time": "2020-03-02T08:25:48.840482Z",
     "start_time": "2020-03-02T08:25:48.681380Z"
    }
   },
   "outputs": [
    {
     "data": {
      "text/plain": [
       "3.1415946535856922"
      ]
     },
     "execution_count": 19,
     "metadata": {},
     "output_type": "execute_result"
    }
   ],
   "source": [
    "pi2()"
   ]
  },
  {
   "cell_type": "markdown",
   "metadata": {},
   "source": [
    "方法二: 蒙特卡洛模拟\n",
    "\n",
    "想象一个圆形靶子，我们不停的向靶面射击, 命名圆内的我们算是“击中 也就是 $x^2 + y^2 ≤ 1$.<br/>\n",
    "假如我们不停的射击，直到我们把这个方形的靶子全部覆盖(打成了骰子)<br/>\n",
    "圆的面积应该是$$ S_{circle} = \\pi r^2 $$\n",
    "方形的面积应该是$$ S_{square} = a^2 $$\n",
    "也就是说 $$ S_{circle} /  S_{square} = \\pi r^2 / a^2$$\n",
    "$$ r = 1, a =2 $$\n",
    "hits / tries is approximately equal to the ratio of the areas\n",
    "of the circle\n",
    "那么$$ S_{circle} /  S_{square} = \\pi / 4$$\n",
    "那么预估的$$\\pi = 4 \\times (S_{circle} /  S_{square})$$"
   ]
  },
  {
   "cell_type": "code",
   "execution_count": 20,
   "metadata": {
    "ExecuteTime": {
     "end_time": "2020-03-02T08:26:45.087986Z",
     "start_time": "2020-03-02T08:26:45.080994Z"
    }
   },
   "outputs": [],
   "source": [
    "from random import random\n",
    "\n",
    "def pi3(TRIES):\n",
    "    hits = 0\n",
    "    for i in range(TRIES) :\n",
    "        # Generate two random numbers between –1 and 1\n",
    "        r = random()\n",
    "        x = -1 + 2 * r\n",
    "        r = random()\n",
    "        y = -1 + 2 * r\n",
    "        # Check whether the point lies in the unit circle\n",
    "        if x * x + y * y <= 1 :\n",
    "            hits = hits + 1\n",
    "\n",
    "        # The ratio hits / tries is approximately the same as the ratio\n",
    "        # circle area / square area = pi / 4.\n",
    "    return 4.0 * hits / TRIES"
   ]
  },
  {
   "cell_type": "code",
   "execution_count": 21,
   "metadata": {
    "ExecuteTime": {
     "end_time": "2020-03-02T08:26:55.413484Z",
     "start_time": "2020-03-02T08:26:51.185447Z"
    }
   },
   "outputs": [
    {
     "data": {
      "text/plain": [
       "3.1421844"
      ]
     },
     "execution_count": 21,
     "metadata": {},
     "output_type": "execute_result"
    }
   ],
   "source": [
    "pi3(10000000)"
   ]
  },
  {
   "cell_type": "markdown",
   "metadata": {},
   "source": [
    "## Coupon Collector 判断一副牌中有多少种花色\n",
    "Suppose that you have a shuffled deck of cards and you turn them face up, one by one. How many cards do you need to turn up before you have seen one of each suit? Given N distinct card types, how many random cards do you need do collect before you have (at least) one of each type?"
   ]
  },
  {
   "cell_type": "code",
   "execution_count": 27,
   "metadata": {
    "ExecuteTime": {
     "end_time": "2020-03-02T09:02:17.243231Z",
     "start_time": "2020-03-02T09:02:17.235695Z"
    }
   },
   "outputs": [
    {
     "name": "stdout",
     "output_type": "stream",
     "text": [
      "22\n"
     ]
    }
   ],
   "source": [
    "def coupon(n):\n",
    "    found = [False] * n\n",
    "    count = 0\n",
    "    distinct = 0\n",
    "    while (distinct < n):\n",
    "        val = random.randint(0, n-1)\n",
    "        if (not found[val]):\n",
    "            distinct += 1\n",
    "            found[val] = True\n",
    "        count += 1\n",
    "    print(count)\n",
    "    \n",
    "coupon(10)"
   ]
  },
  {
   "cell_type": "markdown",
   "metadata": {},
   "source": [
    "## 求质数\n",
    "给定一个正整数n，计算出小于等于n的质数有多少个。 比如17，则返回7，因为小于等于7的质数有2，3，5，7，13，17"
   ]
  },
  {
   "cell_type": "code",
   "execution_count": 41,
   "metadata": {
    "ExecuteTime": {
     "end_time": "2020-03-02T12:05:59.855963Z",
     "start_time": "2020-03-02T12:05:59.848035Z"
    }
   },
   "outputs": [],
   "source": [
    "def count_prime(n):\n",
    "    # 数组从0开始，到n为止，包含n+1个元素\n",
    "    is_prime = [True] * (n + 1)\n",
    "    i = 2\n",
    "    while (i * i <= n):\n",
    "        if (is_prime[i]):\n",
    "            j = i\n",
    "            while (j * i <= n):\n",
    "                is_prime[i * j] = False\n",
    "                j += 1\n",
    "        i += 1\n",
    "        \n",
    "    count = 0\n",
    "    for i in range(2, n+1):\n",
    "        if (is_prime[i]):\n",
    "            count += 1\n",
    "            print(i, end = \" \")\n",
    "            \n",
    "    return count"
   ]
  },
  {
   "cell_type": "code",
   "execution_count": 42,
   "metadata": {
    "ExecuteTime": {
     "end_time": "2020-03-02T12:06:01.496610Z",
     "start_time": "2020-03-02T12:06:01.488039Z"
    }
   },
   "outputs": [
    {
     "name": "stdout",
     "output_type": "stream",
     "text": [
      "2 3 5 7 11 13 17 19 23 29 31 37 41 43 47 53 59 61 67 71 73 79 83 89 97 "
     ]
    },
    {
     "data": {
      "text/plain": [
       "25"
      ]
     },
     "execution_count": 42,
     "metadata": {},
     "output_type": "execute_result"
    }
   ],
   "source": [
    "count_prime(97)"
   ]
  },
  {
   "cell_type": "markdown",
   "metadata": {},
   "source": [
    "## 哥德巴赫猜想\n",
    "任一大于2的偶数，都可表示成两个质数之和。"
   ]
  },
  {
   "cell_type": "code",
   "execution_count": 32,
   "metadata": {
    "ExecuteTime": {
     "end_time": "2020-03-02T11:51:18.611776Z",
     "start_time": "2020-03-02T11:51:18.601578Z"
    }
   },
   "outputs": [],
   "source": [
    "def goldbach(n):\n",
    "    is_prime = [True] * (n + 1)\n",
    "    i = 2\n",
    "    while (i * i <= n):\n",
    "        if (is_prime[i]):\n",
    "            j = i\n",
    "            while (j * i <= n):\n",
    "                is_prime[i * j] = False\n",
    "                j += 1\n",
    "        i += 1\n",
    "        \n",
    "    count = 0\n",
    "    for i in range(2, n+1):\n",
    "        if (is_prime[i]):\n",
    "            count += 1\n",
    "            \n",
    "    primes = [None] * count\n",
    "    idx = 0\n",
    "    for i in range(2, n + 1):\n",
    "        if (is_prime[i]):\n",
    "            primes[idx] = i\n",
    "            idx += 1\n",
    "    \n",
    "    left = 0\n",
    "    right = count - 1\n",
    "    while (left < right):\n",
    "        if (n == primes[left] + primes[right]):\n",
    "            print(n,\" = \", primes[left], \" + \", primes[right])\n",
    "            left += 1\n",
    "            right -= 1\n",
    "        elif (n > primes[left] + primes[right]):\n",
    "            left += 1\n",
    "        else:\n",
    "            right -= 1"
   ]
  },
  {
   "cell_type": "code",
   "execution_count": 37,
   "metadata": {
    "ExecuteTime": {
     "end_time": "2020-03-02T11:51:53.478673Z",
     "start_time": "2020-03-02T11:51:53.472539Z"
    }
   },
   "outputs": [
    {
     "name": "stdout",
     "output_type": "stream",
     "text": [
      "18  =  5  +  13\n",
      "18  =  7  +  11\n"
     ]
    }
   ],
   "source": [
    "goldbach(18)"
   ]
  },
  {
   "cell_type": "code",
   "execution_count": null,
   "metadata": {},
   "outputs": [],
   "source": []
  }
 ],
 "metadata": {
  "kernelspec": {
   "display_name": "Python36",
   "language": "python",
   "name": "python36"
  },
  "language_info": {
   "codemirror_mode": {
    "name": "ipython",
    "version": 3
   },
   "file_extension": ".py",
   "mimetype": "text/x-python",
   "name": "python",
   "nbconvert_exporter": "python",
   "pygments_lexer": "ipython3",
   "version": "3.6.10"
  },
  "toc": {
   "base_numbering": 1,
   "nav_menu": {},
   "number_sections": true,
   "sideBar": true,
   "skip_h1_title": false,
   "title_cell": "Table of Contents",
   "title_sidebar": "Contents",
   "toc_cell": false,
   "toc_position": {},
   "toc_section_display": true,
   "toc_window_display": true
  }
 },
 "nbformat": 4,
 "nbformat_minor": 2
}
