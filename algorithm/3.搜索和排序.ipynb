{
 "cells": [
  {
   "cell_type": "markdown",
   "metadata": {},
   "source": [
    "## 查找 Search\n",
    "\n",
    "Question: Given a sorted list of numbers, find the index of a specific value in the list. If no such value, return -1.\n",
    "\n",
    "顺序查找和折半查找\n",
    "<img src=\"../images/ch03/search_1.png\" width=\"700\"/>\n",
    "\n",
    ">对于经典折半查找有以下问题：\n",
    ">1. 找到目标的第一个位置,如果找不到则返回-1 \n",
    ">2. n最后的位置, 任何的位置怎么样? \n",
    ">3. n递归与迭代\n",
    ">4. n模板"
   ]
  },
  {
   "cell_type": "code",
   "execution_count": 1,
   "metadata": {
    "ExecuteTime": {
     "end_time": "2020-04-12T07:51:43.583996Z",
     "start_time": "2020-04-12T07:51:42.711439Z"
    }
   },
   "outputs": [],
   "source": [
    "import time\n",
    "import random\n",
    "\n",
    "import matplotlib.pyplot as plt\n",
    "%matplotlib inline  \n",
    "\n",
    "def generate_random_array(n):\n",
    "    return [random.random() for e in range(n)]"
   ]
  },
  {
   "cell_type": "markdown",
   "metadata": {},
   "source": [
    "顺序查找，实现index函数的功能。"
   ]
  },
  {
   "cell_type": "code",
   "execution_count": 2,
   "metadata": {
    "ExecuteTime": {
     "end_time": "2020-04-12T07:51:43.605160Z",
     "start_time": "2020-04-12T07:51:43.589714Z"
    }
   },
   "outputs": [
    {
     "data": {
      "text/plain": [
       "0"
      ]
     },
     "execution_count": 2,
     "metadata": {},
     "output_type": "execute_result"
    }
   ],
   "source": [
    "generate_random_array(3)\n",
    "a = [9, 4, 0]\n",
    "a.index(9)"
   ]
  },
  {
   "cell_type": "code",
   "execution_count": 3,
   "metadata": {
    "ExecuteTime": {
     "end_time": "2020-04-12T07:51:43.668852Z",
     "start_time": "2020-04-12T07:51:43.612713Z"
    }
   },
   "outputs": [
    {
     "data": {
      "text/plain": [
       "[(False, 1000, 2.5033950805664062e-05),\n",
       " (False, 2000, 4.601478576660156e-05),\n",
       " (False, 3000, 6.818771362304688e-05),\n",
       " (False, 4000, 9.012222290039062e-05),\n",
       " (False, 5000, 0.00011420249938964844),\n",
       " (False, 6000, 0.00013589859008789062),\n",
       " (False, 7000, 0.00015878677368164062),\n",
       " (False, 8000, 0.0001819133758544922),\n",
       " (False, 9000, 0.00020503997802734375),\n",
       " (False, 10000, 0.00022792816162109375),\n",
       " (False, 11000, 0.00025010108947753906),\n",
       " (False, 12000, 0.00027370452880859375),\n",
       " (False, 13000, 0.0002980232238769531),\n",
       " (False, 14000, 0.0003230571746826172),\n",
       " (False, 15000, 0.00034308433532714844),\n",
       " (False, 16000, 0.00036716461181640625),\n",
       " (False, 17000, 0.0004680156707763672),\n",
       " (False, 18000, 0.0004508495330810547),\n",
       " (False, 19000, 0.0004830360412597656),\n",
       " (False, 20000, 0.0005369186401367188)]"
      ]
     },
     "execution_count": 3,
     "metadata": {},
     "output_type": "execute_result"
    }
   ],
   "source": [
    "# 顺序遍历数组\n",
    "random_lists = [generate_random_array(i*1000) for i in range(1, 21)]\n",
    "\n",
    "def search(lst):\n",
    "    start = time.time()\n",
    "    r = 1 in lst\n",
    "    end = time.time()\n",
    "    return r, len(lst), end - start\n",
    "\n",
    "rst = [search(lst) for lst in random_lists]\n",
    "rst"
   ]
  },
  {
   "cell_type": "code",
   "execution_count": 4,
   "metadata": {
    "ExecuteTime": {
     "end_time": "2020-04-12T07:51:43.901312Z",
     "start_time": "2020-04-12T07:51:43.676403Z"
    }
   },
   "outputs": [
    {
     "data": {
      "text/plain": [
       "[<matplotlib.lines.Line2D at 0x11c4c2ac8>]"
      ]
     },
     "execution_count": 4,
     "metadata": {},
     "output_type": "execute_result"
    },
    {
     "data": {
      "image/png": "[encoded data removed]",
      "text/plain": [
       "<Figure size 432x288 with 1 Axes>"
      ]
     },
     "metadata": {
      "needs_background": "light"
     },
     "output_type": "display_data"
    }
   ],
   "source": [
    "x = list(zip(*rst))[1]\n",
    "y = list(zip(*rst))[2]\n",
    "\n",
    "plt.plot(x, y)"
   ]
  },
  {
   "cell_type": "code",
   "execution_count": 5,
   "metadata": {
    "ExecuteTime": {
     "end_time": "2020-04-12T07:51:43.917672Z",
     "start_time": "2020-04-12T07:51:43.907144Z"
    }
   },
   "outputs": [],
   "source": [
    "def search(num_lst, val):\n",
    "    if num_lst == None:\n",
    "        return False\n",
    "    for i in range(0, len(num_lst)):\n",
    "        if num_lst[i] == val:\n",
    "            return i\n",
    "    return -1"
   ]
  },
  {
   "cell_type": "code",
   "execution_count": 6,
   "metadata": {
    "ExecuteTime": {
     "end_time": "2020-04-12T07:51:43.941147Z",
     "start_time": "2020-04-12T07:51:43.921120Z"
    }
   },
   "outputs": [
    {
     "name": "stdout",
     "output_type": "stream",
     "text": [
      "4\n",
      "-1\n"
     ]
    }
   ],
   "source": [
    "num_list = [1,2,3,5,7,8,9]\n",
    "print(search(num_list, 7))\n",
    "print(search(num_list, 4))"
   ]
  },
  {
   "cell_type": "markdown",
   "metadata": {},
   "source": [
    "Binary Search 折半查找\n",
    "两种实现方式：\n",
    "1. 递归\n",
    "2. 遍历 iterative"
   ]
  },
  {
   "cell_type": "code",
   "execution_count": 7,
   "metadata": {
    "ExecuteTime": {
     "end_time": "2020-04-12T07:51:43.962848Z",
     "start_time": "2020-04-12T07:51:43.945590Z"
    }
   },
   "outputs": [
    {
     "name": "stdout",
     "output_type": "stream",
     "text": [
      "4\n",
      "-1\n"
     ]
    }
   ],
   "source": [
    "def bi_search_iter(alist, item):\n",
    "    left, right = 0, len(alist) - 1\n",
    "    while left <= right:\n",
    "        mid = left + (right - left)//2\n",
    "        if alist[mid] < item:\n",
    "            left = mid + 1\n",
    "        elif alist[mid] > item:\n",
    "            right = mid - 1\n",
    "        else:\n",
    "            return mid\n",
    "    return -1\n",
    "\n",
    "num_list = [1,2,3,5,7,8,9]\n",
    "print(bi_search_iter(num_list, 7))\n",
    "print(bi_search_iter(num_list, 4))"
   ]
  },
  {
   "cell_type": "code",
   "execution_count": 8,
   "metadata": {
    "ExecuteTime": {
     "end_time": "2020-04-12T07:51:43.997738Z",
     "start_time": "2020-04-12T07:51:43.978550Z"
    }
   },
   "outputs": [
    {
     "name": "stdout",
     "output_type": "stream",
     "text": [
      "4\n",
      "-1\n"
     ]
    }
   ],
   "source": [
    "def bi_search_re(num_list, val):\n",
    "    def bi_search(left, right):\n",
    "        if left > right:\n",
    "            return -1\n",
    "        mid = (left + right) // 2\n",
    "        if num_list[mid] == val:\n",
    "            return mid\n",
    "        elif num_list[mid] < val:\n",
    "            return bi_search(mid + 1, right)\n",
    "        else:\n",
    "            return bi_search(left, mid - 1)\n",
    "    return bi_search(0, len(num_list) - 1)\n",
    "\n",
    "num_list = [1,2,3,5,7,8,9]\n",
    "print(bi_search_re(num_list, 7))\n",
    "print(bi_search_re(num_list, 4))"
   ]
  },
  {
   "cell_type": "markdown",
   "metadata": {},
   "source": [
    "## 冒泡排序\n",
    "\n",
    "<img src=\"../images/ch03/sort_1.png\" width=\"700\"/>\n",
    "\n",
    "<img src=\"../images/ch03/sort_6.png\" width=\"700\"/>\n",
    "\n",
    "稳定性：排序过后，重复元素的相对位置没有改变。\n",
    "\n",
    "对于冒泡排序，当数组比较接近排好序的情况下，时间复杂度是O(1)的。\n",
    "\n",
    ">两个方面的改进：\n",
    ">1. 每一轮和未排序的元素进行比较，无需和已排序的比。\n",
    ">2. 任何一轮循环中，若没有元素进行交换，说明元素已经有序。"
   ]
  },
  {
   "cell_type": "code",
   "execution_count": 9,
   "metadata": {
    "ExecuteTime": {
     "end_time": "2020-04-12T07:51:44.034778Z",
     "start_time": "2020-04-12T07:51:44.008142Z"
    }
   },
   "outputs": [
    {
     "name": "stdout",
     "output_type": "stream",
     "text": [
      "[1, 3, 5, 7, 9, 2, 4, 6, 8, 0]\n",
      "[0, 1, 2, 3, 4, 5, 6, 7, 8, 9]\n"
     ]
    }
   ],
   "source": [
    "def _bubble_sort(nums: list, reverse=False):\n",
    "    start = time.time()\n",
    "    for i in range(len(nums)):\n",
    "        is_sorted = True\n",
    "        for j in range(len(nums)-i-1):\n",
    "            if nums[j] > nums[j + 1]:\n",
    "                nums[j], nums[j + 1] = nums[j+1], nums[j]\n",
    "                is_sorted = False\n",
    "        if (is_sorted): break\n",
    "        \n",
    "    if reverse:\n",
    "        # why this is not working?\n",
    "        # 因为 copy 只能进行一次\n",
    "        nums = nums[::-1]\n",
    "        # 改变原列表\n",
    "#         nums.reverse()\n",
    "    interval = time.time() - start\n",
    "    return len(nums), interval\n",
    "\n",
    "def bubble_sorted(nums: list, reverse=False) -> list:\n",
    "    \"\"\"Bubble Sort\"\"\"\n",
    "    nums_copy = nums[:]\n",
    "    _bubble_sort(nums_copy, reverse)\n",
    "    return nums_copy\n",
    "\n",
    "l = [1, 3, 5, 7, 9, 2, 4, 6, 8, 0]\n",
    "ls = bubble_sorted(l, reverse=True)\n",
    "print(l)\n",
    "print(ls)"
   ]
  },
  {
   "cell_type": "code",
   "execution_count": 10,
   "metadata": {
    "ExecuteTime": {
     "end_time": "2020-04-12T07:51:44.057514Z",
     "start_time": "2020-04-12T07:51:44.040175Z"
    }
   },
   "outputs": [
    {
     "name": "stdout",
     "output_type": "stream",
     "text": [
      "[5, 4, 3, 2, 1]\n",
      "[1, 2, 3, 4, 5]\n",
      "None\n"
     ]
    }
   ],
   "source": [
    "nums = [1,2,3,4,5]\n",
    "nums = nums[::-1]\n",
    "print(nums)\n",
    "\n",
    "nums_copy = nums.copy()\n",
    "nums_copy2 = nums_copy[::-1]\n",
    "print(nums_copy2)\n",
    "\n",
    "nums_copy3 = nums_copy.copy().reverse()\n",
    "print(nums_copy3)\n",
    "# 说明 copy 只能进行一次"
   ]
  },
  {
   "cell_type": "code",
   "execution_count": 11,
   "metadata": {
    "ExecuteTime": {
     "end_time": "2020-04-12T07:51:44.081205Z",
     "start_time": "2020-04-12T07:51:44.063995Z"
    }
   },
   "outputs": [
    {
     "name": "stdout",
     "output_type": "stream",
     "text": [
      "[1, 3, 5, 7, 9, 2, 4, 6, 8, 0]\n",
      "[99, 3, 5, 7, 9, 2, 4, 6, 8, 0]\n"
     ]
    }
   ],
   "source": [
    "l = [1, 3, 5, 7, 9, 2, 4, 6, 8, 0]\n",
    "# copy一个列表的三种方法\n",
    "# lst = list(l)\n",
    "# lst = l.copy()\n",
    "lst = l[:]\n",
    "lst[0] = 99\n",
    "print(l)\n",
    "print(lst)"
   ]
  },
  {
   "cell_type": "code",
   "execution_count": 12,
   "metadata": {
    "ExecuteTime": {
     "end_time": "2020-04-12T07:51:44.098288Z",
     "start_time": "2020-04-12T07:51:44.087196Z"
    }
   },
   "outputs": [
    {
     "name": "stdout",
     "output_type": "stream",
     "text": [
      "[9, 8, 7, 6, 5, 4, 3, 2, 1, 0]\n"
     ]
    }
   ],
   "source": [
    "nums = [0, 1, 2, 3, 4, 5, 6, 7, 8, 9]\n",
    "nums = nums[::-1]\n",
    "print(nums) "
   ]
  },
  {
   "cell_type": "markdown",
   "metadata": {},
   "source": [
    "## 选择排序\n",
    "\n",
    "<img src=\"../images/ch03/sort_2.png\" width=\"700\"/>\n",
    "\n",
    "<img src=\"../images/ch03/sort_7.png\" width=\"700\"/>\n",
    "\n",
    "相比于冒泡排序，交换次数明显减少，因为每一轮只需记录最大数的序号，然后做一次交换即可。\n",
    "\n",
    "费适应性是说没有一个特殊的情况来降低该排序的时间复杂度，永远是O(n^2)。"
   ]
  },
  {
   "cell_type": "code",
   "execution_count": 13,
   "metadata": {
    "ExecuteTime": {
     "end_time": "2020-04-12T07:51:44.121661Z",
     "start_time": "2020-04-12T07:51:44.102552Z"
    }
   },
   "outputs": [
    {
     "name": "stdout",
     "output_type": "stream",
     "text": [
      "[1, 2, 3, 4, 5, 6, 7, 8, 9, 99]\n"
     ]
    }
   ],
   "source": [
    "def selection_sort_upper(items):\n",
    "    '''\n",
    "    将最大的数和当前数组的最后边的数进行交换\n",
    "    '''\n",
    "    start = time.time()\n",
    "    n = len(items)\n",
    "    for i in range(0,n):\n",
    "        # 这里必须将最大的数默认设置为最后的\n",
    "        max_idx = n-i-1\n",
    "        for j in range(0, n-i):\n",
    "            if items[max_idx] < items[j]:\n",
    "                max_idx = j\n",
    "        items[n-i-1], items[max_idx] = items[max_idx], items[n-i-1]\n",
    "    t = time.time() - start\n",
    "    return len(items), t\n",
    "\n",
    "l = [3, 5, 99, 7, 9, 1, 2, 4, 6, 8]\n",
    "selection_sort_upper(l)\n",
    "print(l)"
   ]
  },
  {
   "cell_type": "code",
   "execution_count": 14,
   "metadata": {
    "ExecuteTime": {
     "end_time": "2020-04-12T07:51:44.151873Z",
     "start_time": "2020-04-12T07:51:44.134809Z"
    }
   },
   "outputs": [
    {
     "name": "stdout",
     "output_type": "stream",
     "text": [
      "[1, 2, 3, 4, 5, 6, 7, 8, 9, 99]\n"
     ]
    }
   ],
   "source": [
    "def selection_sort_front(items):\n",
    "    '''\n",
    "    将最小的数和当前数组的第一个数进行交换\n",
    "    '''\n",
    "    start = time.time()\n",
    "    n = len(items)\n",
    "    for i in range(n):\n",
    "        min_idx = i\n",
    "        for j in range(i+1, n):\n",
    "            if items[min_idx] > items[j]:\n",
    "                min_idx = j\n",
    "        items[i], items[min_idx] = items[min_idx], items[i]\n",
    "    t = time.time() - start\n",
    "    return len(items), t  \n",
    "\n",
    "l = [1, 3, 5, 99, 7, 9, 2, 4, 6, 8]\n",
    "selection_sort_front(l)\n",
    "print(l)"
   ]
  },
  {
   "cell_type": "code",
   "execution_count": 15,
   "metadata": {
    "ExecuteTime": {
     "end_time": "2020-04-12T07:51:45.453350Z",
     "start_time": "2020-04-12T07:51:44.157047Z"
    }
   },
   "outputs": [
    {
     "data": {
      "text/plain": [
       "[<matplotlib.lines.Line2D at 0x11c220a20>]"
      ]
     },
     "execution_count": 15,
     "metadata": {},
     "output_type": "execute_result"
    },
    {
     "data": {
      "image/png": "[encoded data removed]",
      "text/plain": [
       "<Figure size 432x288 with 1 Axes>"
      ]
     },
     "metadata": {
      "needs_background": "light"
     },
     "output_type": "display_data"
    }
   ],
   "source": [
    "# 时间复杂度\n",
    "random_lists = [generate_random_array(100 * n) for n in range(1, 20)]\n",
    "rst = [selection_sort_front(l) for l in random_lists]\n",
    "x = list(zip(*rst))[0]\n",
    "y = list(zip(*rst))[1]\n",
    "plt.plot(x, y)"
   ]
  },
  {
   "cell_type": "markdown",
   "metadata": {},
   "source": [
    "## 插入排序\n",
    "\n",
    "<img src=\"../images/ch03/sort_3.png\" width=\"700\"/>\n",
    "\n",
    "<img src=\"../images/ch03/sort_8.png\" width=\"700\"/>\n",
    "\n",
    ">使用折半插入排序去优化算法时，为什么性能没有显著提升？\n",
    ">1. 数组在内存中是一块连续的空间，如果要插入，必须将后边的元素全部移动。折半寻找降低了寻找的复杂度O(n),但是插入的时间复杂度仍然是O(n),总的来说复杂度降为了O(nlogn)。\n",
    ">2. 但是一般我们认为折半插入的时间复杂度还是O(n^2)。\n",
    ">3. 对于尾插法来说，当接近于排好序时，插入的时间复杂度变为了O(1),总的时间复杂度变为了O(n)。"
   ]
  },
  {
   "cell_type": "code",
   "execution_count": 16,
   "metadata": {
    "ExecuteTime": {
     "end_time": "2020-04-12T07:51:45.466009Z",
     "start_time": "2020-04-12T07:51:45.457161Z"
    }
   },
   "outputs": [],
   "source": [
    "def insert_sort(items):\n",
    "    start = time.time()\n",
    "    for i in range(1, len(items)):\n",
    "        unsorted_idx = i\n",
    "        while unsorted_idx > 0 and items[unsorted_idx] < items[unsorted_idx-1]:\n",
    "            items[unsorted_idx-1], items[unsorted_idx] = items[unsorted_idx], items[unsorted_idx-1]\n",
    "            unsorted_idx -= 1\n",
    "    t = time.time() - start\n",
    "    return len(items), t"
   ]
  },
  {
   "cell_type": "code",
   "execution_count": 17,
   "metadata": {
    "ExecuteTime": {
     "end_time": "2020-04-12T07:51:45.489117Z",
     "start_time": "2020-04-12T07:51:45.478180Z"
    }
   },
   "outputs": [
    {
     "name": "stdout",
     "output_type": "stream",
     "text": [
      "[1, 2, 3, 4, 5, 6, 7, 8, 9, 99]\n"
     ]
    }
   ],
   "source": [
    "l = [1, 3, 5, 7, 9, 2, 4, 6, 8, 99]\n",
    "insert_sort(l)\n",
    "print(l)"
   ]
  },
  {
   "cell_type": "code",
   "execution_count": 18,
   "metadata": {
    "ExecuteTime": {
     "end_time": "2020-04-12T07:51:47.891964Z",
     "start_time": "2020-04-12T07:51:45.494493Z"
    }
   },
   "outputs": [
    {
     "data": {
      "text/plain": [
       "[<matplotlib.lines.Line2D at 0x11c66da20>]"
      ]
     },
     "execution_count": 18,
     "metadata": {},
     "output_type": "execute_result"
    },
    {
     "data": {
      "image/png": "[encoded data removed]",
      "text/plain": [
       "<Figure size 432x288 with 1 Axes>"
      ]
     },
     "metadata": {
      "needs_background": "light"
     },
     "output_type": "display_data"
    }
   ],
   "source": [
    "# 时间复杂度\n",
    "random_lists = [generate_random_array(100 * n) for n in range(1, 20)]\n",
    "rst = [insert_sort(l) for l in random_lists]\n",
    "x = list(zip(*rst))[0]\n",
    "y = list(zip(*rst))[1]\n",
    "plt.plot(x, y)"
   ]
  },
  {
   "cell_type": "markdown",
   "metadata": {},
   "source": [
    "## 希尔排序\n",
    "\n",
    "<img src=\"../images/ch03/sort_4.png\" width=\"700\"/>\n",
    "\n",
    "<img src=\"../images/ch03/sort_5.png\" width=\"700\"/>\n",
    "\n",
    "总的来说，时间复杂度比O(n^2)要快，取决于数组的分布状态。"
   ]
  },
  {
   "cell_type": "code",
   "execution_count": 19,
   "metadata": {
    "ExecuteTime": {
     "end_time": "2020-04-12T07:51:47.907146Z",
     "start_time": "2020-04-12T07:51:47.895701Z"
    }
   },
   "outputs": [],
   "source": [
    "def shell_sort(nums):\n",
    "    start = time.time()\n",
    "    gap = len(nums)\n",
    "    length = len(nums)\n",
    "    while (gap > 0):\n",
    "        # 插入排序\n",
    "        for i in range(gap, length):\n",
    "            for j in range(i, gap - 1, -gap):\n",
    "                if (nums[j - gap] > nums[j]):\n",
    "                    nums[j], nums[j - gap] = nums[j - gap], nums[j]\n",
    "        if (gap == 2): \n",
    "            gap = 1\n",
    "        else:\n",
    "            gap = gap // 2\n",
    "    t = time.time() - start\n",
    "    return len(nums), t"
   ]
  },
  {
   "cell_type": "code",
   "execution_count": 20,
   "metadata": {
    "ExecuteTime": {
     "end_time": "2020-04-12T07:51:50.831435Z",
     "start_time": "2020-04-12T07:51:47.915935Z"
    }
   },
   "outputs": [
    {
     "data": {
      "text/plain": [
       "[<matplotlib.lines.Line2D at 0x11bcefdd8>]"
      ]
     },
     "execution_count": 20,
     "metadata": {},
     "output_type": "execute_result"
    },
    {
     "data": {
      "image/png": "[encoded data removed]",
      "text/plain": [
       "<Figure size 432x288 with 1 Axes>"
      ]
     },
     "metadata": {
      "needs_background": "light"
     },
     "output_type": "display_data"
    }
   ],
   "source": [
    "random_lists = [generate_random_array(100 * n) for n in range(1, 20)]\n",
    "rst = [shell_sort(l) for l in random_lists]\n",
    "x = list(zip(*rst))[0]\n",
    "y = list(zip(*rst))[1]\n",
    "plt.plot(x, y)"
   ]
  },
  {
   "cell_type": "markdown",
   "metadata": {
    "ExecuteTime": {
     "end_time": "2020-04-11T14:15:26.924155Z",
     "start_time": "2020-04-11T14:15:26.918038Z"
    }
   },
   "source": [
    "## Radix Sort (基数排序/桶排序)\n",
    "\n",
    "Counting sort is a linear time sorting algorithm that sort in O(n+k) time when elements are in range from 1 to k.\n",
    "\n",
    "What if the elements are in range from 1 to n2? \n",
    "\n",
    "We can’t use counting sort because counting sort will take O(n2) which is worse than comparison based sorting algorithms. Can we sort such an array in linear time?\n",
    "\n",
    "Radix Sort is the answer. The idea of Radix Sort is to do digit by digit sort starting from least significant digit to most significant digit. Radix sort uses counting sort as a subroutine to sort.\n",
    "\n",
    "** The Radix Sort Algorithm **\n",
    "\n",
    "1) Do following for each digit i where i varies from least significant digit to the most significant digit.\n",
    "\n",
    "    a) Sort input array using counting sort (or any stable sort) according to the i’th digit.\n",
    "\n",
    "** Example: **\n",
    "\n",
    "Original, unsorted list:\n",
    "\n",
    "170, 45, 75, 90, 802, 24, 2, 66\n",
    "\n",
    "Sorting by least significant digit (1s place) gives: [*Notice that we keep 802 before 2, because 802 occurred before 2 in the original list, and similarly for pairs 170 & 90 and 45 & 75.]\n",
    "\n",
    "170, 90, 802, 2, 24, 45, 75, 66\n",
    "\n",
    "Sorting by next digit (10s place) gives: [*Notice that 802 again comes before 2 as 802 comes before 2 in the previous list.]\n",
    "\n",
    "802, 2, 24, 45, 66, 170, 75, 90\n",
    "\n",
    "Sorting by most significant digit (100s place) gives:\n",
    "\n",
    "2, 24, 45, 66, 75, 90, 170, 802"
   ]
  },
  {
   "cell_type": "code",
   "execution_count": 21,
   "metadata": {
    "ExecuteTime": {
     "end_time": "2020-04-12T07:51:50.848543Z",
     "start_time": "2020-04-12T07:51:50.835098Z"
    }
   },
   "outputs": [],
   "source": [
    "def radix_sort(array, base=10):\n",
    "    start = time.time()    \n",
    "    def list_to_buckets(array, base, iteration):\n",
    "        buckets = [[] for _ in range(base)]\n",
    "        for number in array:\n",
    "            # Isolate the base-digit from the number\n",
    "            digit = (number // (base ** iteration)) % base\n",
    "            # Drop the number into the correct bucket\n",
    "            buckets[digit].append(number)\n",
    "        return buckets\n",
    "\n",
    "    def buckets_to_list(buckets):\n",
    "        numbers = []\n",
    "        for bucket in buckets:\n",
    "            # append the numbers in a bucket\n",
    "            # sequentially to the returned array\n",
    "            for number in bucket:\n",
    "                numbers.append(number)\n",
    "        return numbers\n",
    "\n",
    "    maxval = max(array)\n",
    "\n",
    "    it = 0\n",
    "    # Iterate, sorting the array by each base-digit\n",
    "    while base ** it <= maxval:\n",
    "        array = buckets_to_list(list_to_buckets(array, base, it))\n",
    "        it += 1\n",
    "\n",
    "    t = time.time() - start\n",
    "    return len(array), t "
   ]
  },
  {
   "cell_type": "code",
   "execution_count": 22,
   "metadata": {
    "ExecuteTime": {
     "end_time": "2020-04-12T07:51:51.045069Z",
     "start_time": "2020-04-12T07:51:50.854845Z"
    }
   },
   "outputs": [
    {
     "data": {
      "text/plain": [
       "[<matplotlib.lines.Line2D at 0x11bd622e8>]"
      ]
     },
     "execution_count": 22,
     "metadata": {},
     "output_type": "execute_result"
    },
    {
     "data": {
      "image/png": "[encoded data removed]",
      "text/plain": [
       "<Figure size 432x288 with 1 Axes>"
      ]
     },
     "metadata": {
      "needs_background": "light"
     },
     "output_type": "display_data"
    }
   ],
   "source": [
    "random_lists = [generate_random_array(100 * n) for n in range(1, 20)]\n",
    "rst = [radix_sort(l) for l in random_lists]\n",
    "x = list(zip(*rst))[0]\n",
    "y = list(zip(*rst))[1]\n",
    "plt.plot(x, y)"
   ]
  },
  {
   "cell_type": "markdown",
   "metadata": {},
   "source": [
    "## 计数排序\n",
    "\n",
    "抽屉原理，需要额外的存储空间。\n",
    ">1. 计数排序的输入由n个项的集合组成\n",
    ">2. 每个集合都有一个非负整数键其最大值最多为k\n",
    "\n",
    "<img src=\"../images/ch03/sort_12.png\" width=\"700\"/>\n",
    "\n",
    ">适用范围：\n",
    "1. 数组中排序元素分布比较集中\n",
    "2. 有大量重复元素"
   ]
  },
  {
   "cell_type": "code",
   "execution_count": 23,
   "metadata": {
    "ExecuteTime": {
     "end_time": "2020-04-12T07:51:51.062646Z",
     "start_time": "2020-04-12T07:51:51.054792Z"
    }
   },
   "outputs": [],
   "source": [
    "def count_sort(items):\n",
    "    start = time.time()\n",
    "    # 找最值\n",
    "    mmin, mmax = items[0], items[0]\n",
    "    for i in range(1, len(items)):\n",
    "        if items[i] > mmax:mmax = items[i]\n",
    "        if items[i] < mmin:mmin = items[i]\n",
    "    # 创建抽屉并计数\n",
    "    nums = mmax - mmin + 1\n",
    "    counts = [0] * nums\n",
    "    for i in range(len(items)):\n",
    "        counts[items[i] - mmin] += 1\n",
    "    # 排序\n",
    "    pos = 0\n",
    "    for i in range(nums): # 抽屉个数\n",
    "        for j in range(counts[i]): # 每个抽屉中元素的个数\n",
    "            items[pos] = i + mmin\n",
    "            pos += 1\n",
    "    t = time.time() - start\n",
    "    return len(items), t"
   ]
  },
  {
   "cell_type": "code",
   "execution_count": 24,
   "metadata": {
    "ExecuteTime": {
     "end_time": "2020-04-12T07:51:51.088105Z",
     "start_time": "2020-04-12T07:51:51.078576Z"
    }
   },
   "outputs": [
    {
     "name": "stdout",
     "output_type": "stream",
     "text": [
      "[1, 1, 2, 2, 3, 3, 3, 4, 5, 5]\n"
     ]
    }
   ],
   "source": [
    "l = [1, 3, 5, 3, 2, 2, 4, 5, 1, 3]\n",
    "count_sort(l)\n",
    "print(l)"
   ]
  },
  {
   "cell_type": "code",
   "execution_count": 25,
   "metadata": {
    "ExecuteTime": {
     "end_time": "2020-04-12T07:51:51.335589Z",
     "start_time": "2020-04-12T07:51:51.094884Z"
    }
   },
   "outputs": [
    {
     "data": {
      "text/plain": [
       "[<matplotlib.lines.Line2D at 0x11ae8ff60>]"
      ]
     },
     "execution_count": 25,
     "metadata": {},
     "output_type": "execute_result"
    },
    {
     "data": {
      "image/png": "[encoded data removed]",
      "text/plain": [
       "<Figure size 432x288 with 1 Axes>"
      ]
     },
     "metadata": {
      "needs_background": "light"
     },
     "output_type": "display_data"
    }
   ],
   "source": [
    "from random import randint\n",
    "\n",
    "def generate_random_array(n):\n",
    "    return [randint(0, n) for e in range(n)]\n",
    "\n",
    "random_lists = [generate_random_array(100 * n) for n in range(1, 20)]\n",
    "rst = [count_sort(l) for l in random_lists]\n",
    "x = list(zip(*rst))[0]\n",
    "y = list(zip(*rst))[1]\n",
    "plt.plot(x, y)"
   ]
  },
  {
   "cell_type": "markdown",
   "metadata": {},
   "source": [
    "## 归并排序（分治排序）\n",
    "\n",
    ">分而治之\n",
    ">* 分\n",
    ">1. 递归地拆分数组,直到它被分成两对单个元素数组为止.\n",
    ">2. 然后,将这些单个元素中的每一个与它的对合并,然后将这些对与它们的对等合并， 直到整个列表按照排序顺序合并为止.\n",
    ">* 治\n",
    ">1. 将2个排序列表合并为另一个排序列表是很简单的.\n",
    ">2. 简单地通过比较每个列表的头,删除最小的,以加入新排序的列表.\n",
    ">3. O(n)操作\n",
    "\n",
    "<img src=\"../images/ch03/sort_13.png\" width=\"700\"/>\n",
    "\n",
    ">* 数学分析.在最坏的情况下,合并排序使得~ NlgN比较并且运行时间是线性的. \n",
    "* 二次线性方程式的鸿沟. N2和N lg N之间的差异在实际应用中造成巨大的差异. \n",
    "* 分而治之算法.相同的基本方法对许多重要问题都有效.\n",
    "* 减少分拣.如果我们可以使用B的解来解答A,则问题A简化为问题B.\n",
    "\n",
    "<img src=\"../images/ch03/sort_14.png\" width=\"700\"/>\n",
    "\n",
    ">改进\n",
    "* 对小型子阵列使用插入排序\n",
    "  * 我们可以通过不同的方式处理小案例来改进大多数递归算法.\n",
    "  * 将典型合并排序执行的运行时间提高10%至15%. \n",
    "* 测试数组是否已经按顺序排列\n",
    "  * 如果[mid]小于或等于[mid+1] ,我们可以通过添加一个测试来跳过对merge( )的调用，从而将 运行时间减少为已经按顺序排列的数组.\n",
    "  * 通过这种改变,我们仍然可以进行所有的递归调用,但任何已经排序的子阵列的运行时间都是 线性的.\n"
   ]
  },
  {
   "cell_type": "code",
   "execution_count": 26,
   "metadata": {
    "ExecuteTime": {
     "end_time": "2020-04-12T07:51:51.355254Z",
     "start_time": "2020-04-12T07:51:51.338895Z"
    }
   },
   "outputs": [
    {
     "name": "stdout",
     "output_type": "stream",
     "text": [
      "[9, 8, 7, 6, 5, 4, 3, 2, 1, 0]\n"
     ]
    }
   ],
   "source": [
    "def _merge(a: list, b: list) -> list:\n",
    "    \"\"\"Merge two sorted list\"\"\"\n",
    "    c = []\n",
    "    while len(a) > 0 and len(b) > 0:\n",
    "        if a[0] < b[0]:\n",
    "            c.append(a[0])\n",
    "            a.remove(a[0])\n",
    "        else:\n",
    "            c.append(b[0])\n",
    "            b.remove(b[0])\n",
    "    # 考虑两个数组中有残留的情况\n",
    "    if len(a) == 0:\n",
    "        c += b\n",
    "    else:\n",
    "        c += a\n",
    "    return c\n",
    "\n",
    "def _merge_sorted(nums: list) -> list:\n",
    "    if len(nums) <= 1:\n",
    "        return nums\n",
    "    \n",
    "    m = len(nums) // 2\n",
    "    a = _merge_sorted(nums[:m])\n",
    "    b = _merge_sorted(nums[m:])\n",
    "    return _merge(a, b)\n",
    "\n",
    "# Wrapper\n",
    "def merge_sorted(nums: list, reverse=False) -> list:\n",
    "    import time\n",
    "    start = time.time()\n",
    "    \"\"\"Merge Sort\"\"\"\n",
    "    nums = _merge_sorted(nums)\n",
    "    if reverse:\n",
    "        nums = nums[::-1]\n",
    "\n",
    "    t = time.time() - start\n",
    "    return nums, len(nums), t\n",
    "\n",
    "l = [1, 3, 5, 7, 9, 2, 4, 6, 8, 0]\n",
    "l = merge_sorted(l, reverse=True)[0]\n",
    "print(l)"
   ]
  },
  {
   "cell_type": "code",
   "execution_count": 27,
   "metadata": {
    "ExecuteTime": {
     "end_time": "2020-04-12T07:51:52.492798Z",
     "start_time": "2020-04-12T07:51:51.362096Z"
    }
   },
   "outputs": [
    {
     "data": {
      "text/plain": [
       "[<matplotlib.lines.Line2D at 0x11ae63be0>]"
      ]
     },
     "execution_count": 27,
     "metadata": {},
     "output_type": "execute_result"
    },
    {
     "data": {
      "image/png": "[encoded data removed]",
      "text/plain": [
       "<Figure size 432x288 with 1 Axes>"
      ]
     },
     "metadata": {
      "needs_background": "light"
     },
     "output_type": "display_data"
    }
   ],
   "source": [
    "random_lists = [generate_random_array(100 * n) for n in range(1, 51)]\n",
    "rst = [merge_sorted(l) for l in random_lists]\n",
    "r = [(l[1],l[2]) for l in rst]\n",
    "x = list(zip(*r))[0]\n",
    "y = list(zip(*r))[1]\n",
    "plt.plot(x, y)"
   ]
  },
  {
   "cell_type": "markdown",
   "metadata": {},
   "source": [
    "## 快速排序\n",
    "\n",
    "> * 另一个分而治之\n",
    "> * 将数组划分为两个部分,然后独立地对部分进行排序\n",
    "    * 首先选择一个数据透视,并从列表中删除(隐藏在最后)\n",
    "    * 然后这些元素被分成两部分.一个小于枢轴,另一个大于枢轴.这种分区是通过交换价值来实现的\n",
    "    * 然后在中间恢复枢轴,并且这两个部分递归地快速排序.\n",
    "\n",
    "<img src=\"../images/ch03/sort_10.png\" width=\"300\"/>\n",
    "\n",
    "<img src=\"../images/ch03/sort_9.png\" width=\"400\"/>\n",
    "\n",
    "注意：\n",
    ">1. 如果列表已经有序，那么快排的时间复杂度为O(n^2)。\n",
    ">2. 如何选择pivot非常重要，一般使用三点中值算法。CLRS算法保证快排的时间复杂度为O(n^2)。\n",
    "\n",
    "\n",
    "改进\n",
    ">* 切除插入排序\n",
    "   * 与合并排序一样,切换到小数组的插入排序也是值得的\n",
    "   * 截止值的最佳值取决于系统\n",
    "   * 但是在大多数情况下,5和15之间的任何值都可能很好地工作.\n",
    "* 三点中值算法\n",
    "   * 提高快速排序性能的第二个简单方法是使用从阵列中提取的少量项目的中间值作为分区项目 \n",
    "   * 这样做会稍微改善分区,但是以计算中位数为代价\n",
    "   * 事实证明,大多数可用的改进来自选择一个大小为3的样本(然后在中间项目上进行分区)\n",
    "\n",
    "\n"
   ]
  },
  {
   "cell_type": "code",
   "execution_count": 31,
   "metadata": {
    "ExecuteTime": {
     "end_time": "2020-04-12T07:52:59.861154Z",
     "start_time": "2020-04-12T07:52:59.849800Z"
    }
   },
   "outputs": [
    {
     "name": "stdout",
     "output_type": "stream",
     "text": [
      "([9, 8, 7, 6, 5, 4, 3, 2, 1, 0], 10, 1.5735626220703125e-05)\n"
     ]
    }
   ],
   "source": [
    "def _quick_sorted(nums: list) -> list:\n",
    "    if len(nums) <= 1:\n",
    "        return nums\n",
    "    pivot = nums[0]\n",
    "    left_nums = _quick_sorted([x for x in nums[1:] if x < pivot])\n",
    "    right_nums = _quick_sorted([x for x in nums[1:] if x > pivot])\n",
    "    return left_nums + [pivot] + right_nums\n",
    "    \n",
    "def quick_sorted_simple(nums: list, reverse=False) -> list:\n",
    "    start = time.time()\n",
    "    nums = _quick_sorted(nums)\n",
    "    if reverse:\n",
    "        nums = nums[::-1]\n",
    "    t = time.time() - start\n",
    "    return nums, len(nums), t\n",
    "\n",
    "l = [1, 3, 5, 7, 9, 2, 4, 6, 8, 0]\n",
    "l = quick_sorted_simple(l, reverse=True)\n",
    "print(l)"
   ]
  },
  {
   "cell_type": "code",
   "execution_count": 29,
   "metadata": {
    "ExecuteTime": {
     "end_time": "2020-04-12T07:51:52.551284Z",
     "start_time": "2020-04-12T07:51:52.517643Z"
    }
   },
   "outputs": [
    {
     "name": "stdout",
     "output_type": "stream",
     "text": [
      "[6, 1, 3, 5, 7, 9, 2, 4, 8, 0]\n",
      "before: while:[6, 1, 3, 5, 0, 4, 2, 9, 8, 7], left:7, right:7\n",
      "after: while:[2, 1, 3, 5, 0, 4, 6, 9, 8, 7], left:7, right:7\n",
      "[2, 1, 3, 5, 0, 4]\n",
      "before: while:[2, 1, 0, 5, 3, 4], left:3, right:3\n",
      "after: while:[0, 1, 2, 5, 3, 4], left:3, right:3\n",
      "[5, 3, 4]\n",
      "before: while:[5, 3, 4], left:2, right:2\n",
      "after: while:[4, 3, 5], left:2, right:2\n",
      "[9, 8, 7]\n",
      "before: while:[9, 8, 7], left:2, right:2\n",
      "after: while:[7, 8, 9], left:2, right:2\n",
      "([9, 7, 7, 2, 5, 4, 4, 0, 1, 0], 10, 0.0023107528686523438)\n"
     ]
    }
   ],
   "source": [
    "def _quick_sorted(nums: list) -> list:\n",
    "    if len(nums) == 2:\n",
    "        if nums[0]>nums[1]:\n",
    "            return nums.reverse()\n",
    "        else:\n",
    "            return nums\n",
    "    elif len(nums) <= 1:\n",
    "        return nums\n",
    "\n",
    "    left = 1\n",
    "    right = len(nums)-1\n",
    "    print(nums)\n",
    "    while left < right:\n",
    "        while left < right and nums[left] <= nums[0]:\n",
    "            left += 1\n",
    "        while left < right and nums[right] >= nums[0]:\n",
    "            right -= 1\n",
    "        if left < right:\n",
    "            nums[left],nums[right] = nums[right], nums[left]\n",
    "        \n",
    "    \n",
    "    print(\"before: while:{}, left:{}, right:{}\".format(nums, left, right))\n",
    "    # 插入pivot\n",
    "    if left == len(nums)-1:\n",
    "        nums[0], nums[right] = nums[right], nums[0]\n",
    "    elif left == 1:\n",
    "        pass\n",
    "    else:\n",
    "        nums[0], nums[right-1] = nums[right-1], nums[0]\n",
    "    print(\"after: while:{}, left:{}, right:{}\".format(nums, left, right))\n",
    "    \n",
    "    left_nums = _quick_sorted(nums[0:right-1])\n",
    "    right_nums = _quick_sorted(nums[right:])\n",
    "    return left_nums + [nums[0]] + right_nums\n",
    "\n",
    "\n",
    "def quick_sorted(nums: list, reverse=False) -> list:\n",
    "    \"\"\"Quick Sort\"\"\"\n",
    "    start = time.time()\n",
    "    nums = _quick_sorted(nums)\n",
    "    if reverse:\n",
    "        nums = nums[::-1]\n",
    "    t = time.time() - start\n",
    "    return nums, len(nums), t\n",
    "\n",
    "\n",
    "l = [6, 1, 3, 5, 7, 9, 2, 4, 8, 0]\n",
    "l = quick_sorted(l, reverse=True)\n",
    "print(l)"
   ]
  },
  {
   "cell_type": "code",
   "execution_count": 32,
   "metadata": {
    "ExecuteTime": {
     "end_time": "2020-04-12T07:53:09.842339Z",
     "start_time": "2020-04-12T07:53:09.362728Z"
    }
   },
   "outputs": [
    {
     "data": {
      "text/plain": [
       "[<matplotlib.lines.Line2D at 0x11c8e8d68>]"
      ]
     },
     "execution_count": 32,
     "metadata": {},
     "output_type": "execute_result"
    },
    {
     "data": {
      "image/png": "[encoded data removed]",
      "text/plain": [
       "<Figure size 432x288 with 1 Axes>"
      ]
     },
     "metadata": {
      "needs_background": "light"
     },
     "output_type": "display_data"
    }
   ],
   "source": [
    "rst = [quick_sorted_simple(l) for l in random_lists]\n",
    "r = [(l[1],l[2]) for l in rst]\n",
    "\n",
    "x = list(zip(*r))[0]\n",
    "y = list(zip(*r))[1]\n",
    "\n",
    "plt.plot(x, y)"
   ]
  },
  {
   "cell_type": "markdown",
   "metadata": {},
   "source": [
    "## 总结\n",
    "\n",
    "<img src=\"../images/ch03/sort_11.png\" width=\"700\"/>\n"
   ]
  },
  {
   "cell_type": "code",
   "execution_count": null,
   "metadata": {},
   "outputs": [],
   "source": []
  }
 ],
 "metadata": {
  "kernelspec": {
   "display_name": "Python36",
   "language": "python",
   "name": "python36"
  },
  "language_info": {
   "codemirror_mode": {
    "name": "ipython",
    "version": 3
   },
   "file_extension": ".py",
   "mimetype": "text/x-python",
   "name": "python",
   "nbconvert_exporter": "python",
   "pygments_lexer": "ipython3",
   "version": "3.6.10"
  },
  "toc": {
   "base_numbering": 1,
   "nav_menu": {},
   "number_sections": true,
   "sideBar": true,
   "skip_h1_title": false,
   "title_cell": "Table of Contents",
   "title_sidebar": "Contents",
   "toc_cell": false,
   "toc_position": {
    "height": "calc(100% - 180px)",
    "left": "10px",
    "top": "150px",
    "width": "256px"
   },
   "toc_section_display": true,
   "toc_window_display": true
  }
 },
 "nbformat": 4,
 "nbformat_minor": 2
}
