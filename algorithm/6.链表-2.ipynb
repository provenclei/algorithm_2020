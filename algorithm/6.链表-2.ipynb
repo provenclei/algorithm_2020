{
 "cells": [
  {
   "cell_type": "markdown",
   "metadata": {},
   "source": [
    "# Linked List Practice 1"
   ]
  },
  {
   "cell_type": "code",
   "execution_count": 1,
   "metadata": {
    "ExecuteTime": {
     "end_time": "2020-08-19T08:31:03.403485Z",
     "start_time": "2020-08-19T08:31:03.396753Z"
    }
   },
   "outputs": [],
   "source": [
    "from LinkedList import LinkedList\n",
    "from LinkedList import Node"
   ]
  },
  {
   "cell_type": "markdown",
   "metadata": {
    "collapsed": true
   },
   "source": [
    "## <a id='Ex1'>Ex.1 Delete Node </a>\n",
    "\n",
    "Delete Node in Linked List: except the tail, given only access to that node."
   ]
  },
  {
   "cell_type": "code",
   "execution_count": 2,
   "metadata": {
    "ExecuteTime": {
     "end_time": "2020-08-19T08:31:03.414117Z",
     "start_time": "2020-08-19T08:31:03.408644Z"
    }
   },
   "outputs": [],
   "source": [
    "def delete_node(node):\n",
    "    print(node.value)\n",
    "    node.value = node.next.value\n",
    "    node.next = node.next.next"
   ]
  },
  {
   "cell_type": "code",
   "execution_count": 3,
   "metadata": {
    "ExecuteTime": {
     "end_time": "2020-08-19T08:31:03.430105Z",
     "start_time": "2020-08-19T08:31:03.419543Z"
    }
   },
   "outputs": [
    {
     "name": "stdout",
     "output_type": "stream",
     "text": [
      "1 2 3 4 \n",
      "2\n",
      "1 3 4 \n"
     ]
    }
   ],
   "source": [
    "lst = LinkedList()\n",
    "lst.add_last(1)\n",
    "lst.add_last(2)\n",
    "lst.add_last(3)\n",
    "lst.add_last(4)\n",
    "lst.printlist()\n",
    "delete_node(lst.head.next.next)\n",
    "lst.printlist()"
   ]
  },
  {
   "cell_type": "markdown",
   "metadata": {},
   "source": [
    "## <a id='Ex2'>Ex.2 Find the Middle Node</a>"
   ]
  },
  {
   "cell_type": "code",
   "execution_count": 4,
   "metadata": {
    "ExecuteTime": {
     "end_time": "2020-08-19T08:31:03.440329Z",
     "start_time": "2020-08-19T08:31:03.433885Z"
    }
   },
   "outputs": [],
   "source": [
    "def find_middle(lst):\n",
    "    # 保证有哨兵节点，且链表不为空\n",
    "    assert lst.head is not None and lst.head.next is not None\n",
    "    \n",
    "    fast = lst.head\n",
    "    slow = lst.head\n",
    "    while fast is not None and fast.next is not None:\n",
    "        fast = fast.next.next\n",
    "        slow = slow.next\n",
    "    return slow.value"
   ]
  },
  {
   "cell_type": "code",
   "execution_count": 5,
   "metadata": {
    "ExecuteTime": {
     "end_time": "2020-08-19T08:31:03.451852Z",
     "start_time": "2020-08-19T08:31:03.444541Z"
    }
   },
   "outputs": [
    {
     "name": "stdout",
     "output_type": "stream",
     "text": [
      "1\n",
      "1 2 3 4 \n",
      "2\n",
      "1 2 3 4 5 \n",
      "3\n"
     ]
    }
   ],
   "source": [
    "lst = LinkedList()\n",
    "#find_middle(lst)\n",
    "lst.add_last(1)\n",
    "print(find_middle(lst))\n",
    "\n",
    "lst.add_last(2)\n",
    "lst.add_last(3)\n",
    "lst.add_last(4)\n",
    "lst.printlist()\n",
    "print(find_middle(lst))\n",
    "\n",
    "lst.add_last(5)\n",
    "lst.printlist()\n",
    "print(find_middle(lst))"
   ]
  },
  {
   "cell_type": "markdown",
   "metadata": {},
   "source": [
    "## <a id='Ex3'>Ex.3 Has Cycle </a>\n",
    "\n",
    "Determine whether a linked list has cycle"
   ]
  },
  {
   "cell_type": "code",
   "execution_count": 6,
   "metadata": {
    "ExecuteTime": {
     "end_time": "2020-08-19T08:31:03.466302Z",
     "start_time": "2020-08-19T08:31:03.457253Z"
    }
   },
   "outputs": [],
   "source": [
    "def has_cycle(lst):\n",
    "    '''\n",
    "    链表中是否含有环\n",
    "    '''\n",
    "    return has_cycle_helper(lst.head)\n",
    "\n",
    "def has_cycle_helper(head):\n",
    "    '''\n",
    "    当前节点之后是否包含环\n",
    "    '''\n",
    "    if head is None:\n",
    "        return False\n",
    "    \n",
    "    slow = head \n",
    "    fast = head\n",
    "    \n",
    "    while fast is not None and fast.next is not None:\n",
    "        fast = fast.next.next\n",
    "        slow = slow.next\n",
    "        \n",
    "        if slow==fast:\n",
    "            return True\n",
    "        \n",
    "    return False"
   ]
  },
  {
   "cell_type": "code",
   "execution_count": 7,
   "metadata": {
    "ExecuteTime": {
     "end_time": "2020-08-19T08:31:03.478020Z",
     "start_time": "2020-08-19T08:31:03.471360Z"
    }
   },
   "outputs": [
    {
     "name": "stdout",
     "output_type": "stream",
     "text": [
      "False\n",
      "False\n",
      "True\n"
     ]
    }
   ],
   "source": [
    "node1 = Node(1)\n",
    "print(has_cycle_helper(node1))\n",
    "\n",
    "node2 = Node(2)\n",
    "node3 = Node(3)\n",
    "node1.next = node2\n",
    "node2.next = node3\n",
    "print(has_cycle_helper(node1))\n",
    "\n",
    "node3.next = node1\n",
    "print(has_cycle_helper(node1))"
   ]
  },
  {
   "cell_type": "markdown",
   "metadata": {},
   "source": [
    "## <a id='Ex4'>Ex.4 Beginning of Loop </a>\n",
    "\n",
    "Given a circular linked list, find the node at the beginning of the loop."
   ]
  },
  {
   "cell_type": "code",
   "execution_count": 8,
   "metadata": {
    "ExecuteTime": {
     "end_time": "2020-08-19T08:31:03.490084Z",
     "start_time": "2020-08-19T08:31:03.483245Z"
    }
   },
   "outputs": [],
   "source": [
    "def find_beginning(head):\n",
    "    if head is None:\n",
    "        return None\n",
    "    \n",
    "    slow = head\n",
    "    fast = head\n",
    "    \n",
    "    while fast is not None and fast.next is not None:\n",
    "        fast = fast.next.next\n",
    "        slow = slow.next\n",
    "        \n",
    "        if slow==fast:\n",
    "            fast = head\n",
    "            break\n",
    "        \n",
    "    if fast is None or fast.next is None:\n",
    "        return None\n",
    "    \n",
    "    while fast != slow:\n",
    "        fast = fast.next\n",
    "        slow = slow.next\n",
    "\n",
    "    return slow"
   ]
  },
  {
   "cell_type": "code",
   "execution_count": 9,
   "metadata": {
    "ExecuteTime": {
     "end_time": "2020-08-19T08:31:03.504278Z",
     "start_time": "2020-08-19T08:31:03.495195Z"
    }
   },
   "outputs": [
    {
     "name": "stdout",
     "output_type": "stream",
     "text": [
      "1\n",
      "2\n",
      "3\n",
      "2\n"
     ]
    }
   ],
   "source": [
    "node1 = Node(1)\n",
    "node2 = Node(2)\n",
    "node3 = Node(3)\n",
    "node1.next = node2\n",
    "node2.next = node3\n",
    "node3.next = node1\n",
    "print(find_beginning(node1).value)\n",
    "node3.next = node2\n",
    "print(find_beginning(node1).value)\n",
    "node3.next = node3\n",
    "print(find_beginning(node1).value)\n",
    "node4 = Node(4)\n",
    "node3.next = node4\n",
    "node4.next = node2\n",
    "print(find_beginning(node1).value)"
   ]
  },
  {
   "cell_type": "markdown",
   "metadata": {},
   "source": [
    "## <a id='Ex5'>Ex.5 Remove Nth to Last</a>\n",
    "\n",
    "Remove the nth to last element of a singly linked list\n",
    "\n",
    "删除倒数第N个节点\n",
    "\n",
    "双指针！！！"
   ]
  },
  {
   "cell_type": "code",
   "execution_count": 10,
   "metadata": {
    "ExecuteTime": {
     "end_time": "2020-08-19T08:31:03.517728Z",
     "start_time": "2020-08-19T08:31:03.510085Z"
    }
   },
   "outputs": [],
   "source": [
    "def remove_nth(lst, n):\n",
    "    assert n <= lst.length and n > 0\n",
    "    \n",
    "    # 将fast指针向前移动n次\n",
    "    fast = lst.head\n",
    "    while n > 0:\n",
    "        fast = fast.next\n",
    "        n -= 1\n",
    "    \n",
    "    # 同时移动两个指针\n",
    "    slow = lst.head\n",
    "    while fast.next is not None:\n",
    "        fast = fast.next\n",
    "        slow = slow.next\n",
    "    # slow.next 即为移出的元素，即倒数第n个\n",
    "    result = slow.next\n",
    "    slow.next = slow.next.next\n",
    "    \n",
    "    # 释放空间，缩减长度\n",
    "    result.next = None\n",
    "    lst.length -= 1\n",
    "    return result"
   ]
  },
  {
   "cell_type": "code",
   "execution_count": 11,
   "metadata": {
    "ExecuteTime": {
     "end_time": "2020-08-19T08:31:03.528649Z",
     "start_time": "2020-08-19T08:31:03.521654Z"
    }
   },
   "outputs": [
    {
     "name": "stdout",
     "output_type": "stream",
     "text": [
      "5\n",
      "1 3 7 9 \n"
     ]
    }
   ],
   "source": [
    "lst = LinkedList()\n",
    "lst.add_last(1)\n",
    "lst.add_last(3)\n",
    "lst.add_last(5)\n",
    "lst.add_last(7)\n",
    "lst.add_last(9)\n",
    "print(remove_nth(lst, 3).value)\n",
    "lst.printlist()"
   ]
  },
  {
   "cell_type": "markdown",
   "metadata": {},
   "source": [
    "## <a id='Ex6'>Ex.6 Split in Half</a>\n",
    "\n",
    "Give a list, split in into two lists, one for the front half, and one for the back half."
   ]
  },
  {
   "cell_type": "code",
   "execution_count": 12,
   "metadata": {
    "ExecuteTime": {
     "end_time": "2020-08-19T08:31:03.541318Z",
     "start_time": "2020-08-19T08:31:03.533698Z"
    }
   },
   "outputs": [],
   "source": [
    "def split(head):\n",
    "    if head is None:\n",
    "        return\n",
    "    slow = head\n",
    "    fast = head\n",
    "    \n",
    "    # slow的前一个元素\n",
    "    front_last_node = slow\n",
    "    while fast is not None:\n",
    "        front_last_node = slow\n",
    "        slow = slow.next\n",
    "        fast = fast.next.next if fast.next is not None else None\n",
    "    \n",
    "    \n",
    "    front_last_node.next = None\n",
    "    front = head\n",
    "    back = slow\n",
    "    return (front, back)"
   ]
  },
  {
   "cell_type": "code",
   "execution_count": 13,
   "metadata": {
    "ExecuteTime": {
     "end_time": "2020-08-19T08:31:03.560789Z",
     "start_time": "2020-08-19T08:31:03.548118Z"
    }
   },
   "outputs": [
    {
     "name": "stdout",
     "output_type": "stream",
     "text": [
      "1 2 3 \n",
      "4 5 \n"
     ]
    }
   ],
   "source": [
    "# 无哨兵节点时\n",
    "node1 = Node(1)\n",
    "node2 = Node(2)\n",
    "node3 = Node(3)\n",
    "node4 = Node(4)\n",
    "node5 = Node(5)\n",
    "node1.next = node2\n",
    "node2.next = node3\n",
    "node3.next = node4\n",
    "node4.next = node5\n",
    "front_node = Node()\n",
    "back_node = Node()\n",
    "\n",
    "front_node, back_node = split(node1)\n",
    "front = LinkedList()\n",
    "front.head.next = front_node\n",
    "front.printlist()\n",
    "\n",
    "back = LinkedList()\n",
    "back.head.next = back_node\n",
    "back.printlist()"
   ]
  },
  {
   "cell_type": "code",
   "execution_count": 14,
   "metadata": {
    "ExecuteTime": {
     "end_time": "2020-08-19T08:31:03.603138Z",
     "start_time": "2020-08-19T08:31:03.589092Z"
    }
   },
   "outputs": [
    {
     "name": "stdout",
     "output_type": "stream",
     "text": [
      "1 2 \n",
      "3 4 \n"
     ]
    }
   ],
   "source": [
    "# 无哨兵节点时\n",
    "node1 = Node(1)\n",
    "node2 = Node(2)\n",
    "node3 = Node(3)\n",
    "node4 = Node(4)\n",
    "node1.next = node2\n",
    "node2.next = node3\n",
    "node3.next = node4\n",
    "front_node = Node()\n",
    "back_node = Node()\n",
    "\n",
    "front_node, back_node = split(node1)\n",
    "front = LinkedList()\n",
    "front.head.next = front_node\n",
    "front.printlist()\n",
    "\n",
    "back = LinkedList()\n",
    "back.head.next = back_node\n",
    "back.printlist()"
   ]
  },
  {
   "cell_type": "code",
   "execution_count": 15,
   "metadata": {
    "ExecuteTime": {
     "end_time": "2020-08-19T08:31:03.627935Z",
     "start_time": "2020-08-19T08:31:03.616720Z"
    }
   },
   "outputs": [
    {
     "name": "stdout",
     "output_type": "stream",
     "text": [
      "None 1 2 \n",
      "3 4 5 \n"
     ]
    }
   ],
   "source": [
    "# 有哨兵节点时\n",
    "head = Node()\n",
    "node1 = Node(1)\n",
    "node2 = Node(2)\n",
    "node3 = Node(3)\n",
    "node4 = Node(4)\n",
    "node5 = Node(5)\n",
    "head.next = node1\n",
    "node1.next = node2\n",
    "node2.next = node3\n",
    "node3.next = node4\n",
    "node4.next = node5\n",
    "# front_node = Node()\n",
    "# back_node = Node()\n",
    "\n",
    "front_node, back_node = split(head)\n",
    "front = LinkedList()\n",
    "front.head.next = front_node\n",
    "front.printlist()\n",
    "\n",
    "back = LinkedList()\n",
    "back.head.next = back_node\n",
    "back.printlist()"
   ]
  },
  {
   "cell_type": "code",
   "execution_count": 16,
   "metadata": {
    "ExecuteTime": {
     "end_time": "2020-08-19T08:31:03.653279Z",
     "start_time": "2020-08-19T08:31:03.634478Z"
    }
   },
   "outputs": [
    {
     "name": "stdout",
     "output_type": "stream",
     "text": [
      "None 1 2 \n",
      "3 4 \n"
     ]
    }
   ],
   "source": [
    "head = Node()\n",
    "node1 = Node(1)\n",
    "node2 = Node(2)\n",
    "node3 = Node(3)\n",
    "node4 = Node(4)\n",
    "head.next = node1\n",
    "node1.next = node2\n",
    "node2.next = node3\n",
    "node3.next = node4\n",
    "# front_node = Node()\n",
    "# back_node = Node()\n",
    "\n",
    "front_node, back_node = split(head)\n",
    "front = LinkedList()\n",
    "front.head.next = front_node\n",
    "front.printlist()\n",
    "\n",
    "back = LinkedList()\n",
    "back.head.next = back_node\n",
    "back.printlist()"
   ]
  },
  {
   "cell_type": "markdown",
   "metadata": {},
   "source": [
    "## <a id='summary'>Summary: Runner Technique</a>\n",
    "See anything in common? These questions are ALL used several pointers, sometime, we call them fast and slow; sometime, one pointer goes first. We call this <font color=red>runner techinque</font>, (or two pointers). The idea behind the runner technique is simple; use two pointers that either move at different speeds or are a set distance apart and iterate through a list.\n",
    "\n",
    "Why is this so useful? In many linked list problems you need to know the position of a certain element or the overall length of the list. Given that you don’t always have the length of the list you are working on, the runner technique is an elegant way to solve these type of problems (and in some cases it’s the only solution). "
   ]
  },
  {
   "cell_type": "markdown",
   "metadata": {
    "collapsed": true
   },
   "source": [
    "# Linked List Practice 2"
   ]
  },
  {
   "cell_type": "markdown",
   "metadata": {},
   "source": [
    "## <a id='Ex1'>Ex.1 Merge Two Sorted Lists</a>\n",
    "\n",
    "Merge two sorted linked lists and return it as a new list.\n",
    "\n",
    "Input: 1->2->4, 1->3->4\n",
    "\n",
    "Output: 1->1->2->3->4->4"
   ]
  },
  {
   "cell_type": "code",
   "execution_count": 20,
   "metadata": {
    "ExecuteTime": {
     "end_time": "2020-08-19T08:31:23.814925Z",
     "start_time": "2020-08-19T08:31:23.807463Z"
    }
   },
   "outputs": [],
   "source": [
    "def mergeTwoLists1(l1, l2):\n",
    "    dummy = cur = Node(0)\n",
    "    while l1 and l2:\n",
    "        if l1.value < l2.value:\n",
    "            cur.next = l1\n",
    "            l1 = l1.next\n",
    "        else:\n",
    "            cur.next = l2\n",
    "            l2 = l2.next\n",
    "        cur = cur.next\n",
    "    cur.next = l1 or l2\n",
    "    return dummy.next"
   ]
  },
  {
   "cell_type": "code",
   "execution_count": 26,
   "metadata": {
    "ExecuteTime": {
     "end_time": "2020-08-19T10:50:35.128766Z",
     "start_time": "2020-08-19T10:50:35.119593Z"
    }
   },
   "outputs": [
    {
     "name": "stdout",
     "output_type": "stream",
     "text": [
      "1 1 2 3 4 4 \n"
     ]
    }
   ],
   "source": [
    "node11 = Node(1)\n",
    "node12 = Node(2)\n",
    "node14 = Node(4)\n",
    "node11.next = node12\n",
    "node12.next = node14\n",
    "\n",
    "node21 = Node(1)\n",
    "node23 = Node(3)\n",
    "node24 = Node(4)\n",
    "node21.next = node23\n",
    "node23.next = node24\n",
    "\n",
    "# node = mergeTwoLists1(node11, node21)\n",
    "node = mergeTwoLists2(node11, node21)\n",
    "lst = LinkedList()\n",
    "lst.head.next = node\n",
    "lst.printlist()"
   ]
  },
  {
   "cell_type": "code",
   "execution_count": 25,
   "metadata": {
    "ExecuteTime": {
     "end_time": "2020-08-19T10:50:30.775679Z",
     "start_time": "2020-08-19T10:50:30.769050Z"
    }
   },
   "outputs": [],
   "source": [
    "# recursively    \n",
    "def mergeTwoLists2(l1, l2):\n",
    "    if not l1 or not l2:\n",
    "        return l1 or l2\n",
    "    if l1.value < l2.value:\n",
    "        l1.next = mergeTwoLists2(l1.next, l2)\n",
    "        return l1\n",
    "    else:\n",
    "        l2.next = mergeTwoLists2(l1, l2.next)\n",
    "        return l2"
   ]
  },
  {
   "cell_type": "markdown",
   "metadata": {},
   "source": [
    "## <a id='Ex2'>Ex.2 Intersection of Two Linked Lists</a>\n",
    "\n",
    "Write a program to find the node at which the intersection of two singly linked lists begins.\n",
    "\n",
    "\n",
    "For example, the following two linked lists:\n",
    "\n",
    "A:          a1 → a2\n",
    "\n",
    "                   ↘\n",
    "                   \n",
    "                     c1 → c2 → c3\n",
    "                     \n",
    "                   ↗    \n",
    "                   \n",
    "B:     b1 → b2 → b3\n",
    "\n",
    "begin to intersect at node c1."
   ]
  },
  {
   "cell_type": "code",
   "execution_count": 1,
   "metadata": {
    "ExecuteTime": {
     "end_time": "2020-08-26T15:04:21.679050Z",
     "start_time": "2020-08-26T15:04:21.666305Z"
    }
   },
   "outputs": [],
   "source": [
    "def getIntersectionNode(headA, headB):\n",
    "    curA, curB = heaA, headB\n",
    "    lenA, lenB = 0, 0\n",
    "    while curA is not None:\n",
    "        lenA += 1\n",
    "        curA = curA.next\n",
    "    while curB is not None:\n",
    "        lenB += 1\n",
    "        curB = curB.next\n",
    "    curA, curB = headA, headB\n",
    "    if lenA > lenB:\n",
    "        for i in range(lenA - lenB):\n",
    "            curA = curA.next\n",
    "    elif lenB > lenA:\n",
    "        for i in range(lenB - lenA):\n",
    "            curB = curB.next\n",
    "    while curB != curA:\n",
    "        curB = curB.next\n",
    "        curA = curA.next\n",
    "    return curA"
   ]
  },
  {
   "cell_type": "code",
   "execution_count": 2,
   "metadata": {
    "ExecuteTime": {
     "end_time": "2020-08-26T15:06:09.219493Z",
     "start_time": "2020-08-26T15:06:09.213277Z"
    }
   },
   "outputs": [],
   "source": [
    "def getInterstionNode2(headA, headB):\n",
    "    if headA and headB:\n",
    "        A, B = headA, headB\n",
    "        while A != B:\n",
    "            A = A.next if A else headB\n",
    "            B = B.next if B else headA\n",
    "        return A"
   ]
  },
  {
   "cell_type": "markdown",
   "metadata": {},
   "source": [
    "## Ex.3 Insertion Sort List"
   ]
  },
  {
   "cell_type": "code",
   "execution_count": 3,
   "metadata": {
    "ExecuteTime": {
     "end_time": "2020-08-26T15:07:15.424684Z",
     "start_time": "2020-08-26T15:07:15.417386Z"
    }
   },
   "outputs": [],
   "source": [
    "import time\n",
    "# 1\n",
    "def test1(n, A):\n",
    "    a = 0\n",
    "    for i in range(n):\n",
    "        if A:  # check: A is not None, A is not 0, A is not ''\n",
    "            a += 1\n",
    "        else:\n",
    "            a -= 1"
   ]
  },
  {
   "cell_type": "code",
   "execution_count": null,
   "metadata": {},
   "outputs": [],
   "source": []
  }
 ],
 "metadata": {
  "kernelspec": {
   "display_name": "Python 3",
   "language": "python",
   "name": "python3"
  },
  "language_info": {
   "codemirror_mode": {
    "name": "ipython",
    "version": 3
   },
   "file_extension": ".py",
   "mimetype": "text/x-python",
   "name": "python",
   "nbconvert_exporter": "python",
   "pygments_lexer": "ipython3",
   "version": "3.7.4"
  },
  "toc": {
   "base_numbering": 1,
   "nav_menu": {},
   "number_sections": true,
   "sideBar": true,
   "skip_h1_title": false,
   "title_cell": "Table of Contents",
   "title_sidebar": "Contents",
   "toc_cell": false,
   "toc_position": {},
   "toc_section_display": true,
   "toc_window_display": true
  }
 },
 "nbformat": 4,
 "nbformat_minor": 2
}
